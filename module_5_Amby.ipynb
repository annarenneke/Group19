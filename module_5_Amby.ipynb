{
 "cells": [
  {
   "cell_type": "markdown",
   "metadata": {
    "ExecuteTime": {
     "end_time": "2017-08-23T15:30:03.634114Z",
     "start_time": "2017-08-23T15:30:03.629294Z"
    }
   },
   "source": [
    "# Session 5: Data structuring - aggregation and joining\n",
    "\n",
    "In this combined teaching module and exercise set you will be working with how to aggregating and joining different datasets.\n",
    "\n",
    "The exercises will continue the work with weather data we started working on in Exercise Set 4. We will also study a dataset of traffic data from Copenhagen to iterate through the pandas workflow once more. \n",
    "\n",
    "#### Packages\n",
    "First load in the required modules and set up the plotting library:"
   ]
  },
  {
   "cell_type": "code",
   "execution_count": 29,
   "metadata": {},
   "outputs": [],
   "source": [
    "import pandas as pd \n",
    "import matplotlib.pyplot as plt\n",
    "import matplotlib as mpl\n",
    "import seaborn as sns\n",
    "import numpy as np\n",
    "\n",
    "# Increases the plot size a little\n",
    "mpl.rcParams['figure.figsize'] = 11, 6\n",
    "\n",
    "%matplotlib inline "
   ]
  },
  {
   "cell_type": "markdown",
   "metadata": {},
   "source": [
    "### We are not done with pandas (yet!)\n",
    "This is the final session on using pandas. We will cover the exciting methods for aggregation and working on parts of the data as well as combining different datasets. See the intro video and brief recap video below."
   ]
  },
  {
   "cell_type": "code",
   "execution_count": 30,
   "metadata": {},
   "outputs": [
    {
     "output_type": "execute_result",
     "data": {
      "text/plain": "<IPython.lib.display.YouTubeVideo at 0x2a78cf63e88>",
      "text/html": "\n        <iframe\n            width=\"640\"\n            height=\"360\"\n            src=\"https://www.youtube.com/embed/KB_nSpQRPS8\"\n            frameborder=\"0\"\n            allowfullscreen\n        ></iframe>\n        ",
      "image/jpeg": "[encoded data removed]"
     },
     "metadata": {},
     "execution_count": 30
    }
   ],
   "source": [
    "from IPython.display import YouTubeVideo\n",
    "YouTubeVideo('KB_nSpQRPS8', width=640, height=360)"
   ]
  },
  {
   "cell_type": "markdown",
   "metadata": {},
   "source": [
    "# Joining datasets\n",
    "### How to combine two or more dataframes into one\n",
    "Below we hear about how different datasets can be combined into one, by merging on overlapping information that exists in both datasets. If you want to know more then you can look up Chapter 8, section 8.2 in Python for Data Analysis, 2ed."
   ]
  },
  {
   "cell_type": "code",
   "execution_count": 31,
   "metadata": {},
   "outputs": [
    {
     "output_type": "execute_result",
     "data": {
      "text/plain": "<IPython.lib.display.YouTubeVideo at 0x2a78cecba88>",
      "text/html": "\n        <iframe\n            width=\"640\"\n            height=\"360\"\n            src=\"https://www.youtube.com/embed/JrCKDbmWGgM\"\n            frameborder=\"0\"\n            allowfullscreen\n        ></iframe>\n        ",
      "image/jpeg": "[encoded data removed]"
     },
     "metadata": {},
     "execution_count": 31
    }
   ],
   "source": [
    "YouTubeVideo('JrCKDbmWGgM', width=640, height=360)"
   ]
  },
  {
   "cell_type": "markdown",
   "metadata": {},
   "source": [
    "## Exercises on weather data - final part\n",
    "We continue with the final part of three exercises on structuring weather data. Use the function for fetching and structuring weather data that you used in part 2 of this exercise (i.e. exercise section 4.1).\n",
    "\n"
   ]
  },
  {
   "cell_type": "markdown",
   "metadata": {},
   "source": [
    "> **Ex. 5.1.1:** Get the processed data from years 1870-1875 as a list of DataFrames. Convert the list into a single DataFrame by concatenating vertically. "
   ]
  },
  {
   "cell_type": "code",
   "execution_count": 32,
   "metadata": {},
   "outputs": [],
   "source": [
    "COLS = ['station', 'datetime', 'obs_type', 'obs_value']\n",
    "\n",
    "def load(year):\n",
    "\n",
    "    \"\"\" \n",
    "    Generates a dataframe from a certain URL, by inserting an integer in the range 4 - 8,\n",
    "    measuring the year.\n",
    "\n",
    "    \"\"\"\n",
    "    url = f'ftp://ftp.ncdc.noaa.gov/pub/data/ghcn/daily/by_year/{year}.csv.gz'\n",
    "    df_new = pd.read_csv(url)\n",
    "    df_new = df_new.iloc[: , :4]\n",
    "    df_new.columns = COLS\n",
    "    df_new['obs_value'] = df_new['obs_value'] / 10\n",
    "    return df_new\n",
    "\n",
    "new_list = [1870 , 1871 , 1872 , 1873 , 1874 , 1875]\n",
    "\n",
    "list_of_dfs = [load(l) for l in new_list]"
   ]
  },
  {
   "cell_type": "code",
   "execution_count": 33,
   "metadata": {},
   "outputs": [],
   "source": [
    "df_weather_period = pd.concat(list_of_dfs , axis = 0)"
   ]
  },
  {
   "cell_type": "code",
   "execution_count": 34,
   "metadata": {},
   "outputs": [],
   "source": [
    "df_weather_period['datetime_dt'] = pd.to_datetime(df_weather_period.datetime.astype(str))"
   ]
  },
  {
   "cell_type": "code",
   "execution_count": 35,
   "metadata": {},
   "outputs": [
    {
     "output_type": "execute_result",
     "data": {
      "text/plain": "                 station  datetime obs_type  obs_value  month  year\ndatetime_dt                                                        \n1870-01-01   ASN00066062  18700101     TMAX       27.1      1  1870\n1870-01-01   ASN00074128  18700101     TMAX       41.1      1  1870\n1870-01-01   ASN00086071  18700101     TMAX       23.3      1  1870\n1870-01-01   ASN00090015  18700101     TMAX       20.0      1  1870\n1870-01-01   AU000005901  18700101     TMAX       -0.9      1  1870\n...                  ...       ...      ...        ...    ...   ...\n1875-12-31   USW00023068  18751231     TMAX        2.2     12  1875\n1875-12-31   USW00024274  18751231     TMAX       12.2     12  1875\n1875-12-31   USW00093820  18751231     TMAX       21.7     12  1875\n1875-12-31   USW00093852  18751231     TMAX       25.6     12  1875\n1875-12-31   USW00094728  18751231     TMAX        7.2     12  1875\n\n[132317 rows x 6 columns]",
      "text/html": "<div>\n<style scoped>\n    .dataframe tbody tr th:only-of-type {\n        vertical-align: middle;\n    }\n\n    .dataframe tbody tr th {\n        vertical-align: top;\n    }\n\n    .dataframe thead th {\n        text-align: right;\n    }\n</style>\n<table border=\"1\" class=\"dataframe\">\n  <thead>\n    <tr style=\"text-align: right;\">\n      <th></th>\n      <th>station</th>\n      <th>datetime</th>\n      <th>obs_type</th>\n      <th>obs_value</th>\n      <th>month</th>\n      <th>year</th>\n    </tr>\n    <tr>\n      <th>datetime_dt</th>\n      <th></th>\n      <th></th>\n      <th></th>\n      <th></th>\n      <th></th>\n      <th></th>\n    </tr>\n  </thead>\n  <tbody>\n    <tr>\n      <td>1870-01-01</td>\n      <td>ASN00066062</td>\n      <td>18700101</td>\n      <td>TMAX</td>\n      <td>27.1</td>\n      <td>1</td>\n      <td>1870</td>\n    </tr>\n    <tr>\n      <td>1870-01-01</td>\n      <td>ASN00074128</td>\n      <td>18700101</td>\n      <td>TMAX</td>\n      <td>41.1</td>\n      <td>1</td>\n      <td>1870</td>\n    </tr>\n    <tr>\n      <td>1870-01-01</td>\n      <td>ASN00086071</td>\n      <td>18700101</td>\n      <td>TMAX</td>\n      <td>23.3</td>\n      <td>1</td>\n      <td>1870</td>\n    </tr>\n    <tr>\n      <td>1870-01-01</td>\n      <td>ASN00090015</td>\n      <td>18700101</td>\n      <td>TMAX</td>\n      <td>20.0</td>\n      <td>1</td>\n      <td>1870</td>\n    </tr>\n    <tr>\n      <td>1870-01-01</td>\n      <td>AU000005901</td>\n      <td>18700101</td>\n      <td>TMAX</td>\n      <td>-0.9</td>\n      <td>1</td>\n      <td>1870</td>\n    </tr>\n    <tr>\n      <td>...</td>\n      <td>...</td>\n      <td>...</td>\n      <td>...</td>\n      <td>...</td>\n      <td>...</td>\n      <td>...</td>\n    </tr>\n    <tr>\n      <td>1875-12-31</td>\n      <td>USW00023068</td>\n      <td>18751231</td>\n      <td>TMAX</td>\n      <td>2.2</td>\n      <td>12</td>\n      <td>1875</td>\n    </tr>\n    <tr>\n      <td>1875-12-31</td>\n      <td>USW00024274</td>\n      <td>18751231</td>\n      <td>TMAX</td>\n      <td>12.2</td>\n      <td>12</td>\n      <td>1875</td>\n    </tr>\n    <tr>\n      <td>1875-12-31</td>\n      <td>USW00093820</td>\n      <td>18751231</td>\n      <td>TMAX</td>\n      <td>21.7</td>\n      <td>12</td>\n      <td>1875</td>\n    </tr>\n    <tr>\n      <td>1875-12-31</td>\n      <td>USW00093852</td>\n      <td>18751231</td>\n      <td>TMAX</td>\n      <td>25.6</td>\n      <td>12</td>\n      <td>1875</td>\n    </tr>\n    <tr>\n      <td>1875-12-31</td>\n      <td>USW00094728</td>\n      <td>18751231</td>\n      <td>TMAX</td>\n      <td>7.2</td>\n      <td>12</td>\n      <td>1875</td>\n    </tr>\n  </tbody>\n</table>\n<p>132317 rows × 6 columns</p>\n</div>"
     },
     "metadata": {},
     "execution_count": 35
    }
   ],
   "source": [
    "# Tilføjer kolonner og formaterer til datoformat\n",
    "df_weather_period['month'] = df_weather_period['datetime_dt'].dt.month\n",
    "df_weather_period['year'] = df_weather_period['datetime_dt'].dt.year\n",
    "df_weather_period = df_weather_period[df_weather_period.obs_type == 'TMAX']\n",
    "df_weather_period.set_index('datetime_dt', inplace = True)\n",
    "df_weather_period"
   ]
  },
  {
   "cell_type": "markdown",
   "metadata": {},
   "source": [
    "# Split-apply-combine\n",
    "### A framework for processing data in parts\n",
    "Often we need to process information for a given individual, point in time etc. Instead of writing a loop over all the subsets of the data, we can use a more clever approach. Below we introduce the split-apply-combine framework and show how we can leverage it in pandas. If you want to know more then you can look up Chapter 10 in Python for Data Analysis, 2ed."
   ]
  },
  {
   "cell_type": "code",
   "execution_count": 36,
   "metadata": {},
   "outputs": [
    {
     "output_type": "execute_result",
     "data": {
      "text/plain": "<IPython.lib.display.YouTubeVideo at 0x2a78f11ba48>",
      "text/html": "\n        <iframe\n            width=\"640\"\n            height=\"360\"\n            src=\"https://www.youtube.com/embed/khSWRMPqATQ\"\n            frameborder=\"0\"\n            allowfullscreen\n        ></iframe>\n        ",
      "image/jpeg": "[encoded data removed]"
     },
     "metadata": {},
     "execution_count": 36
    }
   ],
   "source": [
    "YouTubeVideo('khSWRMPqATQ', width=640, height=360)"
   ]
  },
  {
   "cell_type": "markdown",
   "metadata": {},
   "source": [
    "> **Ex. 5.1.2:** Compute the mean maximum daily temperature for each month-year pair. "
   ]
  },
  {
   "cell_type": "code",
   "execution_count": 37,
   "metadata": {
    "tags": []
   },
   "outputs": [
    {
     "output_type": "execute_result",
     "data": {
      "text/plain": "             count       mean        std    min   25%    50%   75%   max\nyear month                                                              \n1870 1      1008.0   6.237698  10.945874  -21.7  -0.6   3.45   8.9  45.0\n     2       916.0   5.341376  11.830484  -20.0  -2.2   2.20   9.4  44.4\n     3       997.0   7.628285   9.468493  -15.4   1.1   5.50  12.2  36.9\n     4       931.0  15.563050   6.764223   -6.6  11.1  15.40  20.0  32.8\n     5       973.0  19.785612   6.214468   -3.0  15.8  19.40  23.9  36.2\n...            ...        ...        ...    ...   ...    ...   ...   ...\n1875 8      2744.0  23.911261   5.061859    2.0  20.6  24.40  27.6  37.2\n     9      2657.0  19.877832   5.917893    0.7  15.6  19.40  23.9  36.7\n     10     2865.0  13.649564  17.067470 -573.3   8.9  13.30  18.9  37.9\n     11     2866.0   6.860328  14.279311 -573.3   1.7   5.60  11.1  38.3\n     12     2932.0   5.001091  10.387813  -24.4  -1.1   3.30  10.0  35.8\n\n[72 rows x 8 columns]",
      "text/html": "<div>\n<style scoped>\n    .dataframe tbody tr th:only-of-type {\n        vertical-align: middle;\n    }\n\n    .dataframe tbody tr th {\n        vertical-align: top;\n    }\n\n    .dataframe thead th {\n        text-align: right;\n    }\n</style>\n<table border=\"1\" class=\"dataframe\">\n  <thead>\n    <tr style=\"text-align: right;\">\n      <th></th>\n      <th></th>\n      <th>count</th>\n      <th>mean</th>\n      <th>std</th>\n      <th>min</th>\n      <th>25%</th>\n      <th>50%</th>\n      <th>75%</th>\n      <th>max</th>\n    </tr>\n    <tr>\n      <th>year</th>\n      <th>month</th>\n      <th></th>\n      <th></th>\n      <th></th>\n      <th></th>\n      <th></th>\n      <th></th>\n      <th></th>\n      <th></th>\n    </tr>\n  </thead>\n  <tbody>\n    <tr>\n      <td rowspan=\"5\" valign=\"top\">1870</td>\n      <td>1</td>\n      <td>1008.0</td>\n      <td>6.237698</td>\n      <td>10.945874</td>\n      <td>-21.7</td>\n      <td>-0.6</td>\n      <td>3.45</td>\n      <td>8.9</td>\n      <td>45.0</td>\n    </tr>\n    <tr>\n      <td>2</td>\n      <td>916.0</td>\n      <td>5.341376</td>\n      <td>11.830484</td>\n      <td>-20.0</td>\n      <td>-2.2</td>\n      <td>2.20</td>\n      <td>9.4</td>\n      <td>44.4</td>\n    </tr>\n    <tr>\n      <td>3</td>\n      <td>997.0</td>\n      <td>7.628285</td>\n      <td>9.468493</td>\n      <td>-15.4</td>\n      <td>1.1</td>\n      <td>5.50</td>\n      <td>12.2</td>\n      <td>36.9</td>\n    </tr>\n    <tr>\n      <td>4</td>\n      <td>931.0</td>\n      <td>15.563050</td>\n      <td>6.764223</td>\n      <td>-6.6</td>\n      <td>11.1</td>\n      <td>15.40</td>\n      <td>20.0</td>\n      <td>32.8</td>\n    </tr>\n    <tr>\n      <td>5</td>\n      <td>973.0</td>\n      <td>19.785612</td>\n      <td>6.214468</td>\n      <td>-3.0</td>\n      <td>15.8</td>\n      <td>19.40</td>\n      <td>23.9</td>\n      <td>36.2</td>\n    </tr>\n    <tr>\n      <td>...</td>\n      <td>...</td>\n      <td>...</td>\n      <td>...</td>\n      <td>...</td>\n      <td>...</td>\n      <td>...</td>\n      <td>...</td>\n      <td>...</td>\n      <td>...</td>\n    </tr>\n    <tr>\n      <td rowspan=\"5\" valign=\"top\">1875</td>\n      <td>8</td>\n      <td>2744.0</td>\n      <td>23.911261</td>\n      <td>5.061859</td>\n      <td>2.0</td>\n      <td>20.6</td>\n      <td>24.40</td>\n      <td>27.6</td>\n      <td>37.2</td>\n    </tr>\n    <tr>\n      <td>9</td>\n      <td>2657.0</td>\n      <td>19.877832</td>\n      <td>5.917893</td>\n      <td>0.7</td>\n      <td>15.6</td>\n      <td>19.40</td>\n      <td>23.9</td>\n      <td>36.7</td>\n    </tr>\n    <tr>\n      <td>10</td>\n      <td>2865.0</td>\n      <td>13.649564</td>\n      <td>17.067470</td>\n      <td>-573.3</td>\n      <td>8.9</td>\n      <td>13.30</td>\n      <td>18.9</td>\n      <td>37.9</td>\n    </tr>\n    <tr>\n      <td>11</td>\n      <td>2866.0</td>\n      <td>6.860328</td>\n      <td>14.279311</td>\n      <td>-573.3</td>\n      <td>1.7</td>\n      <td>5.60</td>\n      <td>11.1</td>\n      <td>38.3</td>\n    </tr>\n    <tr>\n      <td>12</td>\n      <td>2932.0</td>\n      <td>5.001091</td>\n      <td>10.387813</td>\n      <td>-24.4</td>\n      <td>-1.1</td>\n      <td>3.30</td>\n      <td>10.0</td>\n      <td>35.8</td>\n    </tr>\n  </tbody>\n</table>\n<p>72 rows × 8 columns</p>\n</div>"
     },
     "metadata": {},
     "execution_count": 37
    }
   ],
   "source": [
    "df_weather_period.groupby(['year', 'month']).obs_value.describe()"
   ]
  },
  {
   "cell_type": "markdown",
   "metadata": {},
   "source": [
    "> **Ex. 5.1.3:** Plot the monthly max,min, mean, first and third quartiles for maximum temperature for our station with the ID _'ITE00100550'_ for the years 1870-1875. \n",
    "\n",
    "> *Hint*: the method `describe` computes all these measures."
   ]
  },
  {
   "cell_type": "code",
   "execution_count": 38,
   "metadata": {},
   "outputs": [
    {
     "output_type": "execute_result",
     "data": {
      "text/plain": "       count       mean       std   min     25%    50%     75%   max\nmonth                                                               \n1      186.0   5.560215  2.949306  -0.5   3.300   5.25   7.200  14.4\n2      169.0   7.829586  3.487693  -2.0   5.200   8.00  10.000  15.3\n3      186.0  13.186559  3.794018   2.9  10.225  13.80  15.775  23.8\n4      180.0  19.684444  4.023073   5.8  17.000  19.50  23.000  29.3\n5      186.0  24.262903  4.582560  12.0  21.000  24.00  27.000  36.2\n6      180.0  29.123333  3.985450  17.0  26.350  30.00  32.000  37.0\n7      186.0  33.006989  2.809887  25.4  31.000  33.00  35.000  39.8\n8      186.0  30.875806  2.920886  23.0  29.000  31.00  32.975  37.0\n9      180.0  27.383333  3.309889  16.8  25.950  27.80  29.500  33.0\n10     186.0  20.117742  3.537713   7.8  17.850  20.35  22.800  27.3\n11     180.0  11.615000  3.715248   2.6   9.000  12.00  14.000  21.4\n12     186.0   6.562903  4.152898  -2.0   3.800   6.10   9.000  21.6",
      "text/html": "<div>\n<style scoped>\n    .dataframe tbody tr th:only-of-type {\n        vertical-align: middle;\n    }\n\n    .dataframe tbody tr th {\n        vertical-align: top;\n    }\n\n    .dataframe thead th {\n        text-align: right;\n    }\n</style>\n<table border=\"1\" class=\"dataframe\">\n  <thead>\n    <tr style=\"text-align: right;\">\n      <th></th>\n      <th>count</th>\n      <th>mean</th>\n      <th>std</th>\n      <th>min</th>\n      <th>25%</th>\n      <th>50%</th>\n      <th>75%</th>\n      <th>max</th>\n    </tr>\n    <tr>\n      <th>month</th>\n      <th></th>\n      <th></th>\n      <th></th>\n      <th></th>\n      <th></th>\n      <th></th>\n      <th></th>\n      <th></th>\n    </tr>\n  </thead>\n  <tbody>\n    <tr>\n      <td>1</td>\n      <td>186.0</td>\n      <td>5.560215</td>\n      <td>2.949306</td>\n      <td>-0.5</td>\n      <td>3.300</td>\n      <td>5.25</td>\n      <td>7.200</td>\n      <td>14.4</td>\n    </tr>\n    <tr>\n      <td>2</td>\n      <td>169.0</td>\n      <td>7.829586</td>\n      <td>3.487693</td>\n      <td>-2.0</td>\n      <td>5.200</td>\n      <td>8.00</td>\n      <td>10.000</td>\n      <td>15.3</td>\n    </tr>\n    <tr>\n      <td>3</td>\n      <td>186.0</td>\n      <td>13.186559</td>\n      <td>3.794018</td>\n      <td>2.9</td>\n      <td>10.225</td>\n      <td>13.80</td>\n      <td>15.775</td>\n      <td>23.8</td>\n    </tr>\n    <tr>\n      <td>4</td>\n      <td>180.0</td>\n      <td>19.684444</td>\n      <td>4.023073</td>\n      <td>5.8</td>\n      <td>17.000</td>\n      <td>19.50</td>\n      <td>23.000</td>\n      <td>29.3</td>\n    </tr>\n    <tr>\n      <td>5</td>\n      <td>186.0</td>\n      <td>24.262903</td>\n      <td>4.582560</td>\n      <td>12.0</td>\n      <td>21.000</td>\n      <td>24.00</td>\n      <td>27.000</td>\n      <td>36.2</td>\n    </tr>\n    <tr>\n      <td>6</td>\n      <td>180.0</td>\n      <td>29.123333</td>\n      <td>3.985450</td>\n      <td>17.0</td>\n      <td>26.350</td>\n      <td>30.00</td>\n      <td>32.000</td>\n      <td>37.0</td>\n    </tr>\n    <tr>\n      <td>7</td>\n      <td>186.0</td>\n      <td>33.006989</td>\n      <td>2.809887</td>\n      <td>25.4</td>\n      <td>31.000</td>\n      <td>33.00</td>\n      <td>35.000</td>\n      <td>39.8</td>\n    </tr>\n    <tr>\n      <td>8</td>\n      <td>186.0</td>\n      <td>30.875806</td>\n      <td>2.920886</td>\n      <td>23.0</td>\n      <td>29.000</td>\n      <td>31.00</td>\n      <td>32.975</td>\n      <td>37.0</td>\n    </tr>\n    <tr>\n      <td>9</td>\n      <td>180.0</td>\n      <td>27.383333</td>\n      <td>3.309889</td>\n      <td>16.8</td>\n      <td>25.950</td>\n      <td>27.80</td>\n      <td>29.500</td>\n      <td>33.0</td>\n    </tr>\n    <tr>\n      <td>10</td>\n      <td>186.0</td>\n      <td>20.117742</td>\n      <td>3.537713</td>\n      <td>7.8</td>\n      <td>17.850</td>\n      <td>20.35</td>\n      <td>22.800</td>\n      <td>27.3</td>\n    </tr>\n    <tr>\n      <td>11</td>\n      <td>180.0</td>\n      <td>11.615000</td>\n      <td>3.715248</td>\n      <td>2.6</td>\n      <td>9.000</td>\n      <td>12.00</td>\n      <td>14.000</td>\n      <td>21.4</td>\n    </tr>\n    <tr>\n      <td>12</td>\n      <td>186.0</td>\n      <td>6.562903</td>\n      <td>4.152898</td>\n      <td>-2.0</td>\n      <td>3.800</td>\n      <td>6.10</td>\n      <td>9.000</td>\n      <td>21.6</td>\n    </tr>\n  </tbody>\n</table>\n</div>"
     },
     "metadata": {},
     "execution_count": 38
    }
   ],
   "source": [
    "df_weather_period[df_weather_period.station == \"ITE00100550\"].groupby('month').obs_value.describe()"
   ]
  },
  {
   "cell_type": "code",
   "execution_count": 39,
   "metadata": {},
   "outputs": [
    {
     "output_type": "execute_result",
     "data": {
      "text/plain": "<matplotlib.axes._subplots.AxesSubplot at 0x2a78cd91f08>"
     },
     "metadata": {},
     "execution_count": 39
    },
    {
     "output_type": "display_data",
     "data": {
      "text/plain": "<Figure size 432x288 with 1 Axes>",
      "image/svg+xml": "<?xml version=\"1.0\" encoding=\"utf-8\" standalone=\"no\"?>\r\n<!DOCTYPE svg PUBLIC \"-//W3C//DTD SVG 1.1//EN\"\r\n  \"http://www.w3.org/Graphics/SVG/1.1/DTD/svg11.dtd\">\r\n<!-- Created with matplotlib (https://matplotlib.org/) -->\r\n<svg height=\"262.19625pt\" version=\"1.1\" viewBox=\"0 0 375.2875 262.19625\" width=\"375.2875pt\" xmlns=\"http://www.w3.org/2000/svg\" xmlns:xlink=\"http://www.w3.org/1999/xlink\">\r\n <defs>\r\n  <style type=\"text/css\">\r\n*{stroke-linecap:butt;stroke-linejoin:round;}\r\n  </style>\r\n </defs>\r\n <g id=\"figure_1\">\r\n  <g id=\"patch_1\">\r\n   <path d=\"M -0 262.19625 \r\nL 375.2875 262.19625 \r\nL 375.2875 0 \r\nL -0 0 \r\nz\r\n\" style=\"fill:none;\"/>\r\n  </g>\r\n  <g id=\"axes_1\">\r\n   <g id=\"patch_2\">\r\n    <path d=\"M 26.925 224.64 \r\nL 361.725 224.64 \r\nL 361.725 7.2 \r\nL 26.925 7.2 \r\nz\r\n\" style=\"fill:#ffffff;\"/>\r\n   </g>\r\n   <g id=\"matplotlib.axis_1\">\r\n    <g id=\"xtick_1\">\r\n     <g id=\"line2d_1\">\r\n      <defs>\r\n       <path d=\"M 0 0 \r\nL 0 3.5 \r\n\" id=\"mf860644315\" style=\"stroke:#000000;stroke-width:0.8;\"/>\r\n      </defs>\r\n      <g>\r\n       <use style=\"stroke:#000000;stroke-width:0.8;\" x=\"57.361364\" xlink:href=\"#mf860644315\" y=\"224.64\"/>\r\n      </g>\r\n     </g>\r\n     <g id=\"text_1\">\r\n      <!-- 2 -->\r\n      <defs>\r\n       <path d=\"M 19.1875 8.296875 \r\nL 53.609375 8.296875 \r\nL 53.609375 0 \r\nL 7.328125 0 \r\nL 7.328125 8.296875 \r\nQ 12.9375 14.109375 22.625 23.890625 \r\nQ 32.328125 33.6875 34.8125 36.53125 \r\nQ 39.546875 41.84375 41.421875 45.53125 \r\nQ 43.3125 49.21875 43.3125 52.78125 \r\nQ 43.3125 58.59375 39.234375 62.25 \r\nQ 35.15625 65.921875 28.609375 65.921875 \r\nQ 23.96875 65.921875 18.8125 64.3125 \r\nQ 13.671875 62.703125 7.8125 59.421875 \r\nL 7.8125 69.390625 \r\nQ 13.765625 71.78125 18.9375 73 \r\nQ 24.125 74.21875 28.421875 74.21875 \r\nQ 39.75 74.21875 46.484375 68.546875 \r\nQ 53.21875 62.890625 53.21875 53.421875 \r\nQ 53.21875 48.921875 51.53125 44.890625 \r\nQ 49.859375 40.875 45.40625 35.40625 \r\nQ 44.1875 33.984375 37.640625 27.21875 \r\nQ 31.109375 20.453125 19.1875 8.296875 \r\nz\r\n\" id=\"DejaVuSans-50\"/>\r\n      </defs>\r\n      <g transform=\"translate(54.180114 239.238437)scale(0.1 -0.1)\">\r\n       <use xlink:href=\"#DejaVuSans-50\"/>\r\n      </g>\r\n     </g>\r\n    </g>\r\n    <g id=\"xtick_2\">\r\n     <g id=\"line2d_2\">\r\n      <g>\r\n       <use style=\"stroke:#000000;stroke-width:0.8;\" x=\"118.234091\" xlink:href=\"#mf860644315\" y=\"224.64\"/>\r\n      </g>\r\n     </g>\r\n     <g id=\"text_2\">\r\n      <!-- 4 -->\r\n      <defs>\r\n       <path d=\"M 37.796875 64.3125 \r\nL 12.890625 25.390625 \r\nL 37.796875 25.390625 \r\nz\r\nM 35.203125 72.90625 \r\nL 47.609375 72.90625 \r\nL 47.609375 25.390625 \r\nL 58.015625 25.390625 \r\nL 58.015625 17.1875 \r\nL 47.609375 17.1875 \r\nL 47.609375 0 \r\nL 37.796875 0 \r\nL 37.796875 17.1875 \r\nL 4.890625 17.1875 \r\nL 4.890625 26.703125 \r\nz\r\n\" id=\"DejaVuSans-52\"/>\r\n      </defs>\r\n      <g transform=\"translate(115.052841 239.238437)scale(0.1 -0.1)\">\r\n       <use xlink:href=\"#DejaVuSans-52\"/>\r\n      </g>\r\n     </g>\r\n    </g>\r\n    <g id=\"xtick_3\">\r\n     <g id=\"line2d_3\">\r\n      <g>\r\n       <use style=\"stroke:#000000;stroke-width:0.8;\" x=\"179.106818\" xlink:href=\"#mf860644315\" y=\"224.64\"/>\r\n      </g>\r\n     </g>\r\n     <g id=\"text_3\">\r\n      <!-- 6 -->\r\n      <defs>\r\n       <path d=\"M 33.015625 40.375 \r\nQ 26.375 40.375 22.484375 35.828125 \r\nQ 18.609375 31.296875 18.609375 23.390625 \r\nQ 18.609375 15.53125 22.484375 10.953125 \r\nQ 26.375 6.390625 33.015625 6.390625 \r\nQ 39.65625 6.390625 43.53125 10.953125 \r\nQ 47.40625 15.53125 47.40625 23.390625 \r\nQ 47.40625 31.296875 43.53125 35.828125 \r\nQ 39.65625 40.375 33.015625 40.375 \r\nz\r\nM 52.59375 71.296875 \r\nL 52.59375 62.3125 \r\nQ 48.875 64.0625 45.09375 64.984375 \r\nQ 41.3125 65.921875 37.59375 65.921875 \r\nQ 27.828125 65.921875 22.671875 59.328125 \r\nQ 17.53125 52.734375 16.796875 39.40625 \r\nQ 19.671875 43.65625 24.015625 45.921875 \r\nQ 28.375 48.1875 33.59375 48.1875 \r\nQ 44.578125 48.1875 50.953125 41.515625 \r\nQ 57.328125 34.859375 57.328125 23.390625 \r\nQ 57.328125 12.15625 50.6875 5.359375 \r\nQ 44.046875 -1.421875 33.015625 -1.421875 \r\nQ 20.359375 -1.421875 13.671875 8.265625 \r\nQ 6.984375 17.96875 6.984375 36.375 \r\nQ 6.984375 53.65625 15.1875 63.9375 \r\nQ 23.390625 74.21875 37.203125 74.21875 \r\nQ 40.921875 74.21875 44.703125 73.484375 \r\nQ 48.484375 72.75 52.59375 71.296875 \r\nz\r\n\" id=\"DejaVuSans-54\"/>\r\n      </defs>\r\n      <g transform=\"translate(175.925568 239.238437)scale(0.1 -0.1)\">\r\n       <use xlink:href=\"#DejaVuSans-54\"/>\r\n      </g>\r\n     </g>\r\n    </g>\r\n    <g id=\"xtick_4\">\r\n     <g id=\"line2d_4\">\r\n      <g>\r\n       <use style=\"stroke:#000000;stroke-width:0.8;\" x=\"239.979545\" xlink:href=\"#mf860644315\" y=\"224.64\"/>\r\n      </g>\r\n     </g>\r\n     <g id=\"text_4\">\r\n      <!-- 8 -->\r\n      <defs>\r\n       <path d=\"M 31.78125 34.625 \r\nQ 24.75 34.625 20.71875 30.859375 \r\nQ 16.703125 27.09375 16.703125 20.515625 \r\nQ 16.703125 13.921875 20.71875 10.15625 \r\nQ 24.75 6.390625 31.78125 6.390625 \r\nQ 38.8125 6.390625 42.859375 10.171875 \r\nQ 46.921875 13.96875 46.921875 20.515625 \r\nQ 46.921875 27.09375 42.890625 30.859375 \r\nQ 38.875 34.625 31.78125 34.625 \r\nz\r\nM 21.921875 38.8125 \r\nQ 15.578125 40.375 12.03125 44.71875 \r\nQ 8.5 49.078125 8.5 55.328125 \r\nQ 8.5 64.0625 14.71875 69.140625 \r\nQ 20.953125 74.21875 31.78125 74.21875 \r\nQ 42.671875 74.21875 48.875 69.140625 \r\nQ 55.078125 64.0625 55.078125 55.328125 \r\nQ 55.078125 49.078125 51.53125 44.71875 \r\nQ 48 40.375 41.703125 38.8125 \r\nQ 48.828125 37.15625 52.796875 32.3125 \r\nQ 56.78125 27.484375 56.78125 20.515625 \r\nQ 56.78125 9.90625 50.3125 4.234375 \r\nQ 43.84375 -1.421875 31.78125 -1.421875 \r\nQ 19.734375 -1.421875 13.25 4.234375 \r\nQ 6.78125 9.90625 6.78125 20.515625 \r\nQ 6.78125 27.484375 10.78125 32.3125 \r\nQ 14.796875 37.15625 21.921875 38.8125 \r\nz\r\nM 18.3125 54.390625 \r\nQ 18.3125 48.734375 21.84375 45.5625 \r\nQ 25.390625 42.390625 31.78125 42.390625 \r\nQ 38.140625 42.390625 41.71875 45.5625 \r\nQ 45.3125 48.734375 45.3125 54.390625 \r\nQ 45.3125 60.0625 41.71875 63.234375 \r\nQ 38.140625 66.40625 31.78125 66.40625 \r\nQ 25.390625 66.40625 21.84375 63.234375 \r\nQ 18.3125 60.0625 18.3125 54.390625 \r\nz\r\n\" id=\"DejaVuSans-56\"/>\r\n      </defs>\r\n      <g transform=\"translate(236.798295 239.238437)scale(0.1 -0.1)\">\r\n       <use xlink:href=\"#DejaVuSans-56\"/>\r\n      </g>\r\n     </g>\r\n    </g>\r\n    <g id=\"xtick_5\">\r\n     <g id=\"line2d_5\">\r\n      <g>\r\n       <use style=\"stroke:#000000;stroke-width:0.8;\" x=\"300.852273\" xlink:href=\"#mf860644315\" y=\"224.64\"/>\r\n      </g>\r\n     </g>\r\n     <g id=\"text_5\">\r\n      <!-- 10 -->\r\n      <defs>\r\n       <path d=\"M 12.40625 8.296875 \r\nL 28.515625 8.296875 \r\nL 28.515625 63.921875 \r\nL 10.984375 60.40625 \r\nL 10.984375 69.390625 \r\nL 28.421875 72.90625 \r\nL 38.28125 72.90625 \r\nL 38.28125 8.296875 \r\nL 54.390625 8.296875 \r\nL 54.390625 0 \r\nL 12.40625 0 \r\nz\r\n\" id=\"DejaVuSans-49\"/>\r\n       <path d=\"M 31.78125 66.40625 \r\nQ 24.171875 66.40625 20.328125 58.90625 \r\nQ 16.5 51.421875 16.5 36.375 \r\nQ 16.5 21.390625 20.328125 13.890625 \r\nQ 24.171875 6.390625 31.78125 6.390625 \r\nQ 39.453125 6.390625 43.28125 13.890625 \r\nQ 47.125 21.390625 47.125 36.375 \r\nQ 47.125 51.421875 43.28125 58.90625 \r\nQ 39.453125 66.40625 31.78125 66.40625 \r\nz\r\nM 31.78125 74.21875 \r\nQ 44.046875 74.21875 50.515625 64.515625 \r\nQ 56.984375 54.828125 56.984375 36.375 \r\nQ 56.984375 17.96875 50.515625 8.265625 \r\nQ 44.046875 -1.421875 31.78125 -1.421875 \r\nQ 19.53125 -1.421875 13.0625 8.265625 \r\nQ 6.59375 17.96875 6.59375 36.375 \r\nQ 6.59375 54.828125 13.0625 64.515625 \r\nQ 19.53125 74.21875 31.78125 74.21875 \r\nz\r\n\" id=\"DejaVuSans-48\"/>\r\n      </defs>\r\n      <g transform=\"translate(294.489773 239.238437)scale(0.1 -0.1)\">\r\n       <use xlink:href=\"#DejaVuSans-49\"/>\r\n       <use x=\"63.623047\" xlink:href=\"#DejaVuSans-48\"/>\r\n      </g>\r\n     </g>\r\n    </g>\r\n    <g id=\"xtick_6\">\r\n     <g id=\"line2d_6\">\r\n      <g>\r\n       <use style=\"stroke:#000000;stroke-width:0.8;\" x=\"361.725\" xlink:href=\"#mf860644315\" y=\"224.64\"/>\r\n      </g>\r\n     </g>\r\n     <g id=\"text_6\">\r\n      <!-- 12 -->\r\n      <g transform=\"translate(355.3625 239.238437)scale(0.1 -0.1)\">\r\n       <use xlink:href=\"#DejaVuSans-49\"/>\r\n       <use x=\"63.623047\" xlink:href=\"#DejaVuSans-50\"/>\r\n      </g>\r\n     </g>\r\n    </g>\r\n    <g id=\"text_7\">\r\n     <!-- month -->\r\n     <defs>\r\n      <path d=\"M 52 44.1875 \r\nQ 55.375 50.25 60.0625 53.125 \r\nQ 64.75 56 71.09375 56 \r\nQ 79.640625 56 84.28125 50.015625 \r\nQ 88.921875 44.046875 88.921875 33.015625 \r\nL 88.921875 0 \r\nL 79.890625 0 \r\nL 79.890625 32.71875 \r\nQ 79.890625 40.578125 77.09375 44.375 \r\nQ 74.3125 48.1875 68.609375 48.1875 \r\nQ 61.625 48.1875 57.5625 43.546875 \r\nQ 53.515625 38.921875 53.515625 30.90625 \r\nL 53.515625 0 \r\nL 44.484375 0 \r\nL 44.484375 32.71875 \r\nQ 44.484375 40.625 41.703125 44.40625 \r\nQ 38.921875 48.1875 33.109375 48.1875 \r\nQ 26.21875 48.1875 22.15625 43.53125 \r\nQ 18.109375 38.875 18.109375 30.90625 \r\nL 18.109375 0 \r\nL 9.078125 0 \r\nL 9.078125 54.6875 \r\nL 18.109375 54.6875 \r\nL 18.109375 46.1875 \r\nQ 21.1875 51.21875 25.484375 53.609375 \r\nQ 29.78125 56 35.6875 56 \r\nQ 41.65625 56 45.828125 52.96875 \r\nQ 50 49.953125 52 44.1875 \r\nz\r\n\" id=\"DejaVuSans-109\"/>\r\n      <path d=\"M 30.609375 48.390625 \r\nQ 23.390625 48.390625 19.1875 42.75 \r\nQ 14.984375 37.109375 14.984375 27.296875 \r\nQ 14.984375 17.484375 19.15625 11.84375 \r\nQ 23.34375 6.203125 30.609375 6.203125 \r\nQ 37.796875 6.203125 41.984375 11.859375 \r\nQ 46.1875 17.53125 46.1875 27.296875 \r\nQ 46.1875 37.015625 41.984375 42.703125 \r\nQ 37.796875 48.390625 30.609375 48.390625 \r\nz\r\nM 30.609375 56 \r\nQ 42.328125 56 49.015625 48.375 \r\nQ 55.71875 40.765625 55.71875 27.296875 \r\nQ 55.71875 13.875 49.015625 6.21875 \r\nQ 42.328125 -1.421875 30.609375 -1.421875 \r\nQ 18.84375 -1.421875 12.171875 6.21875 \r\nQ 5.515625 13.875 5.515625 27.296875 \r\nQ 5.515625 40.765625 12.171875 48.375 \r\nQ 18.84375 56 30.609375 56 \r\nz\r\n\" id=\"DejaVuSans-111\"/>\r\n      <path d=\"M 54.890625 33.015625 \r\nL 54.890625 0 \r\nL 45.90625 0 \r\nL 45.90625 32.71875 \r\nQ 45.90625 40.484375 42.875 44.328125 \r\nQ 39.84375 48.1875 33.796875 48.1875 \r\nQ 26.515625 48.1875 22.3125 43.546875 \r\nQ 18.109375 38.921875 18.109375 30.90625 \r\nL 18.109375 0 \r\nL 9.078125 0 \r\nL 9.078125 54.6875 \r\nL 18.109375 54.6875 \r\nL 18.109375 46.1875 \r\nQ 21.34375 51.125 25.703125 53.5625 \r\nQ 30.078125 56 35.796875 56 \r\nQ 45.21875 56 50.046875 50.171875 \r\nQ 54.890625 44.34375 54.890625 33.015625 \r\nz\r\n\" id=\"DejaVuSans-110\"/>\r\n      <path d=\"M 18.3125 70.21875 \r\nL 18.3125 54.6875 \r\nL 36.8125 54.6875 \r\nL 36.8125 47.703125 \r\nL 18.3125 47.703125 \r\nL 18.3125 18.015625 \r\nQ 18.3125 11.328125 20.140625 9.421875 \r\nQ 21.96875 7.515625 27.59375 7.515625 \r\nL 36.8125 7.515625 \r\nL 36.8125 0 \r\nL 27.59375 0 \r\nQ 17.1875 0 13.234375 3.875 \r\nQ 9.28125 7.765625 9.28125 18.015625 \r\nL 9.28125 47.703125 \r\nL 2.6875 47.703125 \r\nL 2.6875 54.6875 \r\nL 9.28125 54.6875 \r\nL 9.28125 70.21875 \r\nz\r\n\" id=\"DejaVuSans-116\"/>\r\n      <path d=\"M 54.890625 33.015625 \r\nL 54.890625 0 \r\nL 45.90625 0 \r\nL 45.90625 32.71875 \r\nQ 45.90625 40.484375 42.875 44.328125 \r\nQ 39.84375 48.1875 33.796875 48.1875 \r\nQ 26.515625 48.1875 22.3125 43.546875 \r\nQ 18.109375 38.921875 18.109375 30.90625 \r\nL 18.109375 0 \r\nL 9.078125 0 \r\nL 9.078125 75.984375 \r\nL 18.109375 75.984375 \r\nL 18.109375 46.1875 \r\nQ 21.34375 51.125 25.703125 53.5625 \r\nQ 30.078125 56 35.796875 56 \r\nQ 45.21875 56 50.046875 50.171875 \r\nQ 54.890625 44.34375 54.890625 33.015625 \r\nz\r\n\" id=\"DejaVuSans-104\"/>\r\n     </defs>\r\n     <g transform=\"translate(178.097656 252.916562)scale(0.1 -0.1)\">\r\n      <use xlink:href=\"#DejaVuSans-109\"/>\r\n      <use x=\"97.412109\" xlink:href=\"#DejaVuSans-111\"/>\r\n      <use x=\"158.59375\" xlink:href=\"#DejaVuSans-110\"/>\r\n      <use x=\"221.972656\" xlink:href=\"#DejaVuSans-116\"/>\r\n      <use x=\"261.181641\" xlink:href=\"#DejaVuSans-104\"/>\r\n     </g>\r\n    </g>\r\n   </g>\r\n   <g id=\"matplotlib.axis_2\">\r\n    <g id=\"ytick_1\">\r\n     <g id=\"line2d_7\">\r\n      <defs>\r\n       <path d=\"M 0 0 \r\nL -3.5 0 \r\n\" id=\"m07e0de8107\" style=\"stroke:#000000;stroke-width:0.8;\"/>\r\n      </defs>\r\n      <g>\r\n       <use style=\"stroke:#000000;stroke-width:0.8;\" x=\"26.925\" xlink:href=\"#m07e0de8107\" y=\"205.298338\"/>\r\n      </g>\r\n     </g>\r\n     <g id=\"text_8\">\r\n      <!-- 0 -->\r\n      <g transform=\"translate(13.5625 209.097557)scale(0.1 -0.1)\">\r\n       <use xlink:href=\"#DejaVuSans-48\"/>\r\n      </g>\r\n     </g>\r\n    </g>\r\n    <g id=\"ytick_2\">\r\n     <g id=\"line2d_8\">\r\n      <g>\r\n       <use style=\"stroke:#000000;stroke-width:0.8;\" x=\"26.925\" xlink:href=\"#m07e0de8107\" y=\"158.008212\"/>\r\n      </g>\r\n     </g>\r\n     <g id=\"text_9\">\r\n      <!-- 10 -->\r\n      <g transform=\"translate(7.2 161.807431)scale(0.1 -0.1)\">\r\n       <use xlink:href=\"#DejaVuSans-49\"/>\r\n       <use x=\"63.623047\" xlink:href=\"#DejaVuSans-48\"/>\r\n      </g>\r\n     </g>\r\n    </g>\r\n    <g id=\"ytick_3\">\r\n     <g id=\"line2d_9\">\r\n      <g>\r\n       <use style=\"stroke:#000000;stroke-width:0.8;\" x=\"26.925\" xlink:href=\"#m07e0de8107\" y=\"110.718086\"/>\r\n      </g>\r\n     </g>\r\n     <g id=\"text_10\">\r\n      <!-- 20 -->\r\n      <g transform=\"translate(7.2 114.517305)scale(0.1 -0.1)\">\r\n       <use xlink:href=\"#DejaVuSans-50\"/>\r\n       <use x=\"63.623047\" xlink:href=\"#DejaVuSans-48\"/>\r\n      </g>\r\n     </g>\r\n    </g>\r\n    <g id=\"ytick_4\">\r\n     <g id=\"line2d_10\">\r\n      <g>\r\n       <use style=\"stroke:#000000;stroke-width:0.8;\" x=\"26.925\" xlink:href=\"#m07e0de8107\" y=\"63.42796\"/>\r\n      </g>\r\n     </g>\r\n     <g id=\"text_11\">\r\n      <!-- 30 -->\r\n      <defs>\r\n       <path d=\"M 40.578125 39.3125 \r\nQ 47.65625 37.796875 51.625 33 \r\nQ 55.609375 28.21875 55.609375 21.1875 \r\nQ 55.609375 10.40625 48.1875 4.484375 \r\nQ 40.765625 -1.421875 27.09375 -1.421875 \r\nQ 22.515625 -1.421875 17.65625 -0.515625 \r\nQ 12.796875 0.390625 7.625 2.203125 \r\nL 7.625 11.71875 \r\nQ 11.71875 9.328125 16.59375 8.109375 \r\nQ 21.484375 6.890625 26.8125 6.890625 \r\nQ 36.078125 6.890625 40.9375 10.546875 \r\nQ 45.796875 14.203125 45.796875 21.1875 \r\nQ 45.796875 27.640625 41.28125 31.265625 \r\nQ 36.765625 34.90625 28.71875 34.90625 \r\nL 20.21875 34.90625 \r\nL 20.21875 43.015625 \r\nL 29.109375 43.015625 \r\nQ 36.375 43.015625 40.234375 45.921875 \r\nQ 44.09375 48.828125 44.09375 54.296875 \r\nQ 44.09375 59.90625 40.109375 62.90625 \r\nQ 36.140625 65.921875 28.71875 65.921875 \r\nQ 24.65625 65.921875 20.015625 65.03125 \r\nQ 15.375 64.15625 9.8125 62.3125 \r\nL 9.8125 71.09375 \r\nQ 15.4375 72.65625 20.34375 73.4375 \r\nQ 25.25 74.21875 29.59375 74.21875 \r\nQ 40.828125 74.21875 47.359375 69.109375 \r\nQ 53.90625 64.015625 53.90625 55.328125 \r\nQ 53.90625 49.265625 50.4375 45.09375 \r\nQ 46.96875 40.921875 40.578125 39.3125 \r\nz\r\n\" id=\"DejaVuSans-51\"/>\r\n      </defs>\r\n      <g transform=\"translate(7.2 67.227179)scale(0.1 -0.1)\">\r\n       <use xlink:href=\"#DejaVuSans-51\"/>\r\n       <use x=\"63.623047\" xlink:href=\"#DejaVuSans-48\"/>\r\n      </g>\r\n     </g>\r\n    </g>\r\n    <g id=\"ytick_5\">\r\n     <g id=\"line2d_11\">\r\n      <g>\r\n       <use style=\"stroke:#000000;stroke-width:0.8;\" x=\"26.925\" xlink:href=\"#m07e0de8107\" y=\"16.137834\"/>\r\n      </g>\r\n     </g>\r\n     <g id=\"text_12\">\r\n      <!-- 40 -->\r\n      <g transform=\"translate(7.2 19.937053)scale(0.1 -0.1)\">\r\n       <use xlink:href=\"#DejaVuSans-52\"/>\r\n       <use x=\"63.623047\" xlink:href=\"#DejaVuSans-48\"/>\r\n      </g>\r\n     </g>\r\n    </g>\r\n   </g>\r\n   <g id=\"line2d_12\">\r\n    <path clip-path=\"url(#p778dcd079d)\" d=\"M 26.925 179.004011 \r\nL 57.361364 168.272128 \r\nL 87.797727 142.938934 \r\nL 118.234091 112.210352 \r\nL 148.670455 90.558763 \r\nL 179.106818 67.573728 \r\nL 209.543182 49.20787 \r\nL 239.979545 59.28626 \r\nL 270.415909 75.80221 \r\nL 300.852273 110.161283 \r\nL 331.288636 150.370857 \r\nL 361.725 174.262286 \r\n\" style=\"fill:none;stroke:#1f77b4;stroke-linecap:square;stroke-width:1.5;\"/>\r\n   </g>\r\n   <g id=\"line2d_13\">\r\n    <path clip-path=\"url(#p778dcd079d)\" d=\"M 26.925 207.662845 \r\nL 57.361364 214.756364 \r\nL 87.797727 191.584202 \r\nL 118.234091 177.870065 \r\nL 148.670455 148.550187 \r\nL 179.106818 124.905124 \r\nL 209.543182 85.181418 \r\nL 239.979545 96.531048 \r\nL 270.415909 125.850926 \r\nL 300.852273 168.41204 \r\nL 331.288636 193.002906 \r\nL 361.725 214.756364 \r\n\" style=\"fill:none;stroke:#ff7f0e;stroke-linecap:square;stroke-width:1.5;\"/>\r\n   </g>\r\n   <g id=\"line2d_14\">\r\n    <path clip-path=\"url(#p778dcd079d)\" d=\"M 26.925 171.249448 \r\nL 57.361364 158.008212 \r\nL 87.797727 130.698164 \r\nL 118.234091 96.531048 \r\nL 148.670455 77.614998 \r\nL 179.106818 53.969935 \r\nL 209.543182 39.782897 \r\nL 239.979545 49.359147 \r\nL 270.415909 65.792466 \r\nL 300.852273 97.476851 \r\nL 331.288636 139.092162 \r\nL 361.725 162.737225 \r\n\" style=\"fill:none;stroke:#2ca02c;stroke-linecap:square;stroke-width:1.5;\"/>\r\n   </g>\r\n   <g id=\"line2d_15\">\r\n    <path clip-path=\"url(#p778dcd079d)\" d=\"M 26.925 137.200557 \r\nL 57.361364 132.944445 \r\nL 87.797727 92.747838 \r\nL 118.234091 66.738269 \r\nL 148.670455 34.108082 \r\nL 179.106818 30.324872 \r\nL 209.543182 17.083636 \r\nL 239.979545 30.324872 \r\nL 270.415909 49.240922 \r\nL 300.852273 76.196294 \r\nL 331.288636 104.097468 \r\nL 361.725 103.151666 \r\n\" style=\"fill:none;stroke:#d62728;stroke-linecap:square;stroke-width:1.5;\"/>\r\n   </g>\r\n   <g id=\"line2d_16\">\r\n    <path clip-path=\"url(#p778dcd079d)\" d=\"M 26.925 189.692597 \r\nL 57.361364 180.707473 \r\nL 87.797727 156.944184 \r\nL 118.234091 124.905124 \r\nL 148.670455 105.989074 \r\nL 179.106818 80.688856 \r\nL 209.543182 58.698947 \r\nL 239.979545 68.156973 \r\nL 270.415909 82.580461 \r\nL 300.852273 120.885463 \r\nL 331.288636 162.737225 \r\nL 361.725 187.32809 \r\n\" style=\"fill:none;stroke:#9467bd;stroke-linecap:square;stroke-width:1.5;\"/>\r\n   </g>\r\n   <g id=\"patch_3\">\r\n    <path d=\"M 26.925 224.64 \r\nL 26.925 7.2 \r\n\" style=\"fill:none;stroke:#000000;stroke-linecap:square;stroke-linejoin:miter;stroke-width:0.8;\"/>\r\n   </g>\r\n   <g id=\"patch_4\">\r\n    <path d=\"M 361.725 224.64 \r\nL 361.725 7.2 \r\n\" style=\"fill:none;stroke:#000000;stroke-linecap:square;stroke-linejoin:miter;stroke-width:0.8;\"/>\r\n   </g>\r\n   <g id=\"patch_5\">\r\n    <path d=\"M 26.925 224.64 \r\nL 361.725 224.64 \r\n\" style=\"fill:none;stroke:#000000;stroke-linecap:square;stroke-linejoin:miter;stroke-width:0.8;\"/>\r\n   </g>\r\n   <g id=\"patch_6\">\r\n    <path d=\"M 26.925 7.2 \r\nL 361.725 7.2 \r\n\" style=\"fill:none;stroke:#000000;stroke-linecap:square;stroke-linejoin:miter;stroke-width:0.8;\"/>\r\n   </g>\r\n   <g id=\"legend_1\">\r\n    <g id=\"patch_7\">\r\n     <path d=\"M 164.145313 219.64 \r\nL 224.504688 219.64 \r\nQ 226.504688 219.64 226.504688 217.64 \r\nL 226.504688 145.249375 \r\nQ 226.504688 143.249375 224.504688 143.249375 \r\nL 164.145313 143.249375 \r\nQ 162.145313 143.249375 162.145313 145.249375 \r\nL 162.145313 217.64 \r\nQ 162.145313 219.64 164.145313 219.64 \r\nz\r\n\" style=\"fill:#ffffff;opacity:0.8;stroke:#cccccc;stroke-linejoin:miter;\"/>\r\n    </g>\r\n    <g id=\"line2d_17\">\r\n     <path d=\"M 166.145313 151.347812 \r\nL 186.145313 151.347812 \r\n\" style=\"fill:none;stroke:#1f77b4;stroke-linecap:square;stroke-width:1.5;\"/>\r\n    </g>\r\n    <g id=\"line2d_18\"/>\r\n    <g id=\"text_13\">\r\n     <!-- mean -->\r\n     <defs>\r\n      <path d=\"M 56.203125 29.59375 \r\nL 56.203125 25.203125 \r\nL 14.890625 25.203125 \r\nQ 15.484375 15.921875 20.484375 11.0625 \r\nQ 25.484375 6.203125 34.421875 6.203125 \r\nQ 39.59375 6.203125 44.453125 7.46875 \r\nQ 49.3125 8.734375 54.109375 11.28125 \r\nL 54.109375 2.78125 \r\nQ 49.265625 0.734375 44.1875 -0.34375 \r\nQ 39.109375 -1.421875 33.890625 -1.421875 \r\nQ 20.796875 -1.421875 13.15625 6.1875 \r\nQ 5.515625 13.8125 5.515625 26.8125 \r\nQ 5.515625 40.234375 12.765625 48.109375 \r\nQ 20.015625 56 32.328125 56 \r\nQ 43.359375 56 49.78125 48.890625 \r\nQ 56.203125 41.796875 56.203125 29.59375 \r\nz\r\nM 47.21875 32.234375 \r\nQ 47.125 39.59375 43.09375 43.984375 \r\nQ 39.0625 48.390625 32.421875 48.390625 \r\nQ 24.90625 48.390625 20.390625 44.140625 \r\nQ 15.875 39.890625 15.1875 32.171875 \r\nz\r\n\" id=\"DejaVuSans-101\"/>\r\n      <path d=\"M 34.28125 27.484375 \r\nQ 23.390625 27.484375 19.1875 25 \r\nQ 14.984375 22.515625 14.984375 16.5 \r\nQ 14.984375 11.71875 18.140625 8.90625 \r\nQ 21.296875 6.109375 26.703125 6.109375 \r\nQ 34.1875 6.109375 38.703125 11.40625 \r\nQ 43.21875 16.703125 43.21875 25.484375 \r\nL 43.21875 27.484375 \r\nz\r\nM 52.203125 31.203125 \r\nL 52.203125 0 \r\nL 43.21875 0 \r\nL 43.21875 8.296875 \r\nQ 40.140625 3.328125 35.546875 0.953125 \r\nQ 30.953125 -1.421875 24.3125 -1.421875 \r\nQ 15.921875 -1.421875 10.953125 3.296875 \r\nQ 6 8.015625 6 15.921875 \r\nQ 6 25.140625 12.171875 29.828125 \r\nQ 18.359375 34.515625 30.609375 34.515625 \r\nL 43.21875 34.515625 \r\nL 43.21875 35.40625 \r\nQ 43.21875 41.609375 39.140625 45 \r\nQ 35.0625 48.390625 27.6875 48.390625 \r\nQ 23 48.390625 18.546875 47.265625 \r\nQ 14.109375 46.140625 10.015625 43.890625 \r\nL 10.015625 52.203125 \r\nQ 14.9375 54.109375 19.578125 55.046875 \r\nQ 24.21875 56 28.609375 56 \r\nQ 40.484375 56 46.34375 49.84375 \r\nQ 52.203125 43.703125 52.203125 31.203125 \r\nz\r\n\" id=\"DejaVuSans-97\"/>\r\n     </defs>\r\n     <g transform=\"translate(194.145313 154.847812)scale(0.1 -0.1)\">\r\n      <use xlink:href=\"#DejaVuSans-109\"/>\r\n      <use x=\"97.412109\" xlink:href=\"#DejaVuSans-101\"/>\r\n      <use x=\"158.935547\" xlink:href=\"#DejaVuSans-97\"/>\r\n      <use x=\"220.214844\" xlink:href=\"#DejaVuSans-110\"/>\r\n     </g>\r\n    </g>\r\n    <g id=\"line2d_19\">\r\n     <path d=\"M 166.145313 166.025937 \r\nL 186.145313 166.025937 \r\n\" style=\"fill:none;stroke:#ff7f0e;stroke-linecap:square;stroke-width:1.5;\"/>\r\n    </g>\r\n    <g id=\"line2d_20\"/>\r\n    <g id=\"text_14\">\r\n     <!-- min -->\r\n     <defs>\r\n      <path d=\"M 9.421875 54.6875 \r\nL 18.40625 54.6875 \r\nL 18.40625 0 \r\nL 9.421875 0 \r\nz\r\nM 9.421875 75.984375 \r\nL 18.40625 75.984375 \r\nL 18.40625 64.59375 \r\nL 9.421875 64.59375 \r\nz\r\n\" id=\"DejaVuSans-105\"/>\r\n     </defs>\r\n     <g transform=\"translate(194.145313 169.525937)scale(0.1 -0.1)\">\r\n      <use xlink:href=\"#DejaVuSans-109\"/>\r\n      <use x=\"97.412109\" xlink:href=\"#DejaVuSans-105\"/>\r\n      <use x=\"125.195312\" xlink:href=\"#DejaVuSans-110\"/>\r\n     </g>\r\n    </g>\r\n    <g id=\"line2d_21\">\r\n     <path d=\"M 166.145313 180.704062 \r\nL 186.145313 180.704062 \r\n\" style=\"fill:none;stroke:#2ca02c;stroke-linecap:square;stroke-width:1.5;\"/>\r\n    </g>\r\n    <g id=\"line2d_22\"/>\r\n    <g id=\"text_15\">\r\n     <!-- 75% -->\r\n     <defs>\r\n      <path d=\"M 8.203125 72.90625 \r\nL 55.078125 72.90625 \r\nL 55.078125 68.703125 \r\nL 28.609375 0 \r\nL 18.3125 0 \r\nL 43.21875 64.59375 \r\nL 8.203125 64.59375 \r\nz\r\n\" id=\"DejaVuSans-55\"/>\r\n      <path d=\"M 10.796875 72.90625 \r\nL 49.515625 72.90625 \r\nL 49.515625 64.59375 \r\nL 19.828125 64.59375 \r\nL 19.828125 46.734375 \r\nQ 21.96875 47.46875 24.109375 47.828125 \r\nQ 26.265625 48.1875 28.421875 48.1875 \r\nQ 40.625 48.1875 47.75 41.5 \r\nQ 54.890625 34.8125 54.890625 23.390625 \r\nQ 54.890625 11.625 47.5625 5.09375 \r\nQ 40.234375 -1.421875 26.90625 -1.421875 \r\nQ 22.3125 -1.421875 17.546875 -0.640625 \r\nQ 12.796875 0.140625 7.71875 1.703125 \r\nL 7.71875 11.625 \r\nQ 12.109375 9.234375 16.796875 8.0625 \r\nQ 21.484375 6.890625 26.703125 6.890625 \r\nQ 35.15625 6.890625 40.078125 11.328125 \r\nQ 45.015625 15.765625 45.015625 23.390625 \r\nQ 45.015625 31 40.078125 35.4375 \r\nQ 35.15625 39.890625 26.703125 39.890625 \r\nQ 22.75 39.890625 18.8125 39.015625 \r\nQ 14.890625 38.140625 10.796875 36.28125 \r\nz\r\n\" id=\"DejaVuSans-53\"/>\r\n      <path d=\"M 72.703125 32.078125 \r\nQ 68.453125 32.078125 66.03125 28.46875 \r\nQ 63.625 24.859375 63.625 18.40625 \r\nQ 63.625 12.0625 66.03125 8.421875 \r\nQ 68.453125 4.78125 72.703125 4.78125 \r\nQ 76.859375 4.78125 79.265625 8.421875 \r\nQ 81.6875 12.0625 81.6875 18.40625 \r\nQ 81.6875 24.8125 79.265625 28.4375 \r\nQ 76.859375 32.078125 72.703125 32.078125 \r\nz\r\nM 72.703125 38.28125 \r\nQ 80.421875 38.28125 84.953125 32.90625 \r\nQ 89.5 27.546875 89.5 18.40625 \r\nQ 89.5 9.28125 84.9375 3.921875 \r\nQ 80.375 -1.421875 72.703125 -1.421875 \r\nQ 64.890625 -1.421875 60.34375 3.921875 \r\nQ 55.8125 9.28125 55.8125 18.40625 \r\nQ 55.8125 27.59375 60.375 32.9375 \r\nQ 64.9375 38.28125 72.703125 38.28125 \r\nz\r\nM 22.3125 68.015625 \r\nQ 18.109375 68.015625 15.6875 64.375 \r\nQ 13.28125 60.75 13.28125 54.390625 \r\nQ 13.28125 47.953125 15.671875 44.328125 \r\nQ 18.0625 40.71875 22.3125 40.71875 \r\nQ 26.5625 40.71875 28.96875 44.328125 \r\nQ 31.390625 47.953125 31.390625 54.390625 \r\nQ 31.390625 60.6875 28.953125 64.34375 \r\nQ 26.515625 68.015625 22.3125 68.015625 \r\nz\r\nM 66.40625 74.21875 \r\nL 74.21875 74.21875 \r\nL 28.609375 -1.421875 \r\nL 20.796875 -1.421875 \r\nz\r\nM 22.3125 74.21875 \r\nQ 30.03125 74.21875 34.609375 68.875 \r\nQ 39.203125 63.53125 39.203125 54.390625 \r\nQ 39.203125 45.171875 34.640625 39.84375 \r\nQ 30.078125 34.515625 22.3125 34.515625 \r\nQ 14.546875 34.515625 10.03125 39.859375 \r\nQ 5.515625 45.21875 5.515625 54.390625 \r\nQ 5.515625 63.484375 10.046875 68.84375 \r\nQ 14.59375 74.21875 22.3125 74.21875 \r\nz\r\n\" id=\"DejaVuSans-37\"/>\r\n     </defs>\r\n     <g transform=\"translate(194.145313 184.204062)scale(0.1 -0.1)\">\r\n      <use xlink:href=\"#DejaVuSans-55\"/>\r\n      <use x=\"63.623047\" xlink:href=\"#DejaVuSans-53\"/>\r\n      <use x=\"127.246094\" xlink:href=\"#DejaVuSans-37\"/>\r\n     </g>\r\n    </g>\r\n    <g id=\"line2d_23\">\r\n     <path d=\"M 166.145313 195.382187 \r\nL 186.145313 195.382187 \r\n\" style=\"fill:none;stroke:#d62728;stroke-linecap:square;stroke-width:1.5;\"/>\r\n    </g>\r\n    <g id=\"line2d_24\"/>\r\n    <g id=\"text_16\">\r\n     <!-- max -->\r\n     <defs>\r\n      <path d=\"M 54.890625 54.6875 \r\nL 35.109375 28.078125 \r\nL 55.90625 0 \r\nL 45.3125 0 \r\nL 29.390625 21.484375 \r\nL 13.484375 0 \r\nL 2.875 0 \r\nL 24.125 28.609375 \r\nL 4.6875 54.6875 \r\nL 15.28125 54.6875 \r\nL 29.78125 35.203125 \r\nL 44.28125 54.6875 \r\nz\r\n\" id=\"DejaVuSans-120\"/>\r\n     </defs>\r\n     <g transform=\"translate(194.145313 198.882187)scale(0.1 -0.1)\">\r\n      <use xlink:href=\"#DejaVuSans-109\"/>\r\n      <use x=\"97.412109\" xlink:href=\"#DejaVuSans-97\"/>\r\n      <use x=\"158.691406\" xlink:href=\"#DejaVuSans-120\"/>\r\n     </g>\r\n    </g>\r\n    <g id=\"line2d_25\">\r\n     <path d=\"M 166.145313 210.060312 \r\nL 186.145313 210.060312 \r\n\" style=\"fill:none;stroke:#9467bd;stroke-linecap:square;stroke-width:1.5;\"/>\r\n    </g>\r\n    <g id=\"line2d_26\"/>\r\n    <g id=\"text_17\">\r\n     <!-- 25% -->\r\n     <g transform=\"translate(194.145313 213.560312)scale(0.1 -0.1)\">\r\n      <use xlink:href=\"#DejaVuSans-50\"/>\r\n      <use x=\"63.623047\" xlink:href=\"#DejaVuSans-53\"/>\r\n      <use x=\"127.246094\" xlink:href=\"#DejaVuSans-37\"/>\r\n     </g>\r\n    </g>\r\n   </g>\r\n  </g>\r\n </g>\r\n <defs>\r\n  <clipPath id=\"p778dcd079d\">\r\n   <rect height=\"217.44\" width=\"334.8\" x=\"26.925\" y=\"7.2\"/>\r\n  </clipPath>\r\n </defs>\r\n</svg>\r\n",
      "image/png": "[encoded data removed]"
     },
     "metadata": {
      "needs_background": "light"
     }
    }
   ],
   "source": [
    "df_weather_period[df_weather_period.station == \"ITE00100550\"].groupby('month').obs_value.describe()[['mean','min','75%','max','25%']].plot()"
   ]
  },
  {
   "cell_type": "markdown",
   "metadata": {},
   "source": [
    "> **Ex. 5.1.4:** Parse the station location data which you can find at https://www1.ncdc.noaa.gov/pub/data/ghcn/daily/ghcnd-stations.txt. Merge station locations onto the weather data spanning 1870-1875.  \n",
    "\n",
    "> _Hint:_ The location data have the folllowing format, \n",
    "\n",
    "```\n",
    "------------------------------\n",
    "Variable   Columns   Type\n",
    "------------------------------\n",
    "ID            1-11   Character\n",
    "LATITUDE     13-20   Real\n",
    "LONGITUDE    22-30   Real\n",
    "ELEVATION    32-37   Real\n",
    "STATE        39-40   Character\n",
    "NAME         42-71   Character\n",
    "GSN FLAG     73-75   Character\n",
    "HCN/CRN FLAG 77-79   Character\n",
    "WMO ID       81-85   Character\n",
    "------------------------------\n",
    "```\n",
    "\n",
    "> *Hint*: The station information has fixed width format - does there exist a pandas reader for that?"
   ]
  },
  {
   "cell_type": "code",
   "execution_count": 40,
   "metadata": {},
   "outputs": [
    {
     "output_type": "execute_result",
     "data": {
      "text/plain": "       station  LATITUDE  LONGITUDE  ELEVATION                  STATE NAME  \\\n0  ACW00011604   17.1167   -61.7833       10.1  ST JOHNS COOLIDGE FLD  NaN   \n1  ACW00011647   17.1333   -61.7833       19.2               ST JOHNS  NaN   \n2  AE000041196   25.3330    55.5170       34.0    SHARJAH INTER. AIRP  NaN   \n3  AEM00041194   25.2550    55.3640       10.4             DUBAI INTL  NaN   \n4  AEM00041217   24.4330    54.6510       26.8         ABU DHABI INTL  NaN   \n\n  GSN FLAG  HCN/CRN FLAG  WMO ID  \n0      NaN           NaN     NaN  \n1      NaN           NaN     NaN  \n2      GSN       41196.0     NaN  \n3      NaN       41194.0     NaN  \n4      NaN       41217.0     NaN  ",
      "text/html": "<div>\n<style scoped>\n    .dataframe tbody tr th:only-of-type {\n        vertical-align: middle;\n    }\n\n    .dataframe tbody tr th {\n        vertical-align: top;\n    }\n\n    .dataframe thead th {\n        text-align: right;\n    }\n</style>\n<table border=\"1\" class=\"dataframe\">\n  <thead>\n    <tr style=\"text-align: right;\">\n      <th></th>\n      <th>station</th>\n      <th>LATITUDE</th>\n      <th>LONGITUDE</th>\n      <th>ELEVATION</th>\n      <th>STATE</th>\n      <th>NAME</th>\n      <th>GSN FLAG</th>\n      <th>HCN/CRN FLAG</th>\n      <th>WMO ID</th>\n    </tr>\n  </thead>\n  <tbody>\n    <tr>\n      <td>0</td>\n      <td>ACW00011604</td>\n      <td>17.1167</td>\n      <td>-61.7833</td>\n      <td>10.1</td>\n      <td>ST JOHNS COOLIDGE FLD</td>\n      <td>NaN</td>\n      <td>NaN</td>\n      <td>NaN</td>\n      <td>NaN</td>\n    </tr>\n    <tr>\n      <td>1</td>\n      <td>ACW00011647</td>\n      <td>17.1333</td>\n      <td>-61.7833</td>\n      <td>19.2</td>\n      <td>ST JOHNS</td>\n      <td>NaN</td>\n      <td>NaN</td>\n      <td>NaN</td>\n      <td>NaN</td>\n    </tr>\n    <tr>\n      <td>2</td>\n      <td>AE000041196</td>\n      <td>25.3330</td>\n      <td>55.5170</td>\n      <td>34.0</td>\n      <td>SHARJAH INTER. AIRP</td>\n      <td>NaN</td>\n      <td>GSN</td>\n      <td>41196.0</td>\n      <td>NaN</td>\n    </tr>\n    <tr>\n      <td>3</td>\n      <td>AEM00041194</td>\n      <td>25.2550</td>\n      <td>55.3640</td>\n      <td>10.4</td>\n      <td>DUBAI INTL</td>\n      <td>NaN</td>\n      <td>NaN</td>\n      <td>41194.0</td>\n      <td>NaN</td>\n    </tr>\n    <tr>\n      <td>4</td>\n      <td>AEM00041217</td>\n      <td>24.4330</td>\n      <td>54.6510</td>\n      <td>26.8</td>\n      <td>ABU DHABI INTL</td>\n      <td>NaN</td>\n      <td>NaN</td>\n      <td>41217.0</td>\n      <td>NaN</td>\n    </tr>\n  </tbody>\n</table>\n</div>"
     },
     "metadata": {},
     "execution_count": 40
    }
   ],
   "source": [
    "colnames = ['station' , 'LATITUDE' , 'LONGITUDE' , 'ELEVATION' , 'STATE' , 'NAME' , 'GSN FLAG' , 'HCN/CRN FLAG' , 'WMO ID']\n",
    "\n",
    "station_loc = pd.read_fwf('https://www1.ncdc.noaa.gov/pub/data/ghcn/daily/ghcnd-stations.txt' , header = None , names = colnames)\n",
    "\n",
    "station_loc.head()"
   ]
  },
  {
   "cell_type": "code",
   "execution_count": 41,
   "metadata": {
    "tags": []
   },
   "outputs": [
    {
     "output_type": "stream",
     "name": "stdout",
     "text": "station  datetime obs_type  obs_value  month  year  LATITUDE  \\\ndatetime_dt                                                                     \n1870-01-01   ASN00066062  18700101     TMAX       27.1      1  1870   33.8607   \n1870-01-01   ASN00074128  18700101     TMAX       41.1      1  1870   35.5269   \n1870-01-01   ASN00086071  18700101     TMAX       23.3      1  1870   37.8075   \n1870-01-01   ASN00090015  18700101     TMAX       20.0      1  1870   38.8556   \n1870-01-01   AU000005901  18700101     TMAX       -0.9      1  1870   48.2331   \n...                  ...       ...      ...        ...    ...   ...       ...   \n1875-12-31   USW00023068  18751231     TMAX        2.2     12  1875   38.2725   \n1875-12-31   USW00024274  18751231     TMAX       12.2     12  1875   45.5333   \n1875-12-31   USW00093820  18751231     TMAX       21.7     12  1875   38.0408   \n1875-12-31   USW00093852  18751231     TMAX       25.6     12  1875   30.3333   \n1875-12-31   USW00094728  18751231     TMAX        7.2     12  1875   40.7789   \n\n             LONGITUDE  ELEVATION                      STATE NAME GSN FLAG  \\\ndatetime_dt                                                                  \n1870-01-01    151.2050       39.0  SYDNEY (OBSERVATORY HILL)  NaN      NaN   \n1870-01-01    144.9520       93.0  DENILIQUIN (WILKINSON ST)  NaN      NaN   \n1870-01-01    144.9700       31.2  MELBOURNE REGIONAL OFFICE  NaN      NaN   \n1870-01-01    143.5128       82.0      CAPE OTWAY LIGHTHOUSE  NaN      GSN   \n1870-01-01     16.3500      199.0                       WIEN  NaN      GSN   \n...                ...        ...                        ...  ...      ...   \n1875-12-31    104.6089     1420.4                     PUEBLO  NaN      NaN   \n1875-12-31    122.6667        9.1          PORTLAND RFC CITY  NaN      NaN   \n1875-12-31    -84.6058      298.7     LEXINGTON BLUEGRASS AP  NaN      GSN   \n1875-12-31    -81.6500       25.0       JACKSONVILLE WB CITY  NaN      NaN   \n1875-12-31    -73.9692       39.6      NEW YORK CNTRL PK TWR  NaN      NaN   \n\n             HCN/CRN FLAG  WMO ID  \ndatetime_dt                        \n1870-01-01        94768.0     NaN  \n1870-01-01            NaN     NaN  \n1870-01-01        94868.0     NaN  \n1870-01-01        94842.0     NaN  \n1870-01-01        11035.0     NaN  \n...                   ...     ...  \n1875-12-31            NaN     NaN  \n1875-12-31            NaN     NaN  \n1875-12-31        72422.0     NaN  \n1875-12-31            NaN     NaN  \n1875-12-31        72506.0     NaN  \n\n[132317 rows x 14 columns]\n"
    }
   ],
   "source": [
    "df_location = pd.merge(df_weather_period , station_loc , on = 'station' , how = 'left')\n",
    "df_location['datetime_dt'] = pd.to_datetime(df_location.datetime.astype(str))\n",
    "df_location.set_index('datetime_dt', inplace = True)\n",
    "\n",
    "\n",
    "print(df_location)"
   ]
  },
  {
   "cell_type": "markdown",
   "metadata": {},
   "source": [
    "# Reshaping  dataframes\n",
    "\n",
    "Often we have data that comes in a format that does not fit our purpose. If you want to know more then you can look up Chapter 8, section 8.3 in Python for Data Analysis, 2ed."
   ]
  },
  {
   "cell_type": "code",
   "execution_count": 42,
   "metadata": {},
   "outputs": [
    {
     "output_type": "execute_result",
     "data": {
      "text/plain": "<IPython.lib.display.YouTubeVideo at 0x2a78e227bc8>",
      "text/html": "\n        <iframe\n            width=\"640\"\n            height=\"360\"\n            src=\"https://www.youtube.com/embed/kJO85WOXNEU\"\n            frameborder=\"0\"\n            allowfullscreen\n        ></iframe>\n        ",
      "image/jpeg": "[encoded data removed]"
     },
     "metadata": {},
     "execution_count": 42
    }
   ],
   "source": [
    "YouTubeVideo('kJO85WOXNEU', width=640, height=360)"
   ]
  },
  {
   "cell_type": "markdown",
   "metadata": {},
   "source": [
    "> **Ex. 5.1.5:** For which months was the temperature in general colder in 1870 vs. 1875?\n",
    "\n",
    "> *Hint: you may use `unstack`.\n"
   ]
  },
  {
   "cell_type": "code",
   "execution_count": 81,
   "metadata": {
    "tags": []
   },
   "outputs": [
    {
     "output_type": "stream",
     "name": "stdout",
     "text": "obs_value                 diff\nyear        1870       1875          \nmonth                                \n1       6.237698   1.378859 -4.858840\n2       5.341376   1.398433 -3.942943\n3       7.628285   6.160701 -1.467584\n4      15.563050  12.145271 -3.417779\n5      19.785612  18.162837 -1.622774\n6      23.142553  22.259036 -0.883518\n7      24.546653  23.759534 -0.787120\n8      23.051009  23.911261  0.860252\n9      20.300396  19.877832 -0.422564\n10     16.137261  13.649564 -2.487697\n11     11.124189   6.860328 -4.263861\n12      5.514842   5.001091 -0.513751\nAugust was warmer in 1875\n"
    }
   ],
   "source": [
    "table = pd.pivot_table(df_location[(df_location.year == 1870) | (df_location.year == 1875)] , values = ['obs_value'] , index = ['month'] , columns = ['year'] , aggfunc = np.mean)\n",
    "\n",
    "table['diff'] = table.iloc[: , 1] - table.iloc[: , 0]\n",
    "\n",
    "print(table)\n",
    "print('August was warmer in 1875')"
   ]
  },
  {
   "cell_type": "markdown",
   "metadata": {},
   "source": [
    "# Summary and beyond pandas\n",
    "\n",
    "We round off this lecture with a brief summary of the most important points. I also review some packages that you can look at, which allows you to scale up your data analysis."
   ]
  },
  {
   "cell_type": "code",
   "execution_count": 83,
   "metadata": {},
   "outputs": [],
   "source": [
    "YouTubeVideo('CKg3MjnhVlg', width=640, height=360)"
   ]
  },
  {
   "cell_type": "markdown",
   "metadata": {},
   "source": [
    "## More practice: Traffic data in Copenhagen\n",
    "\n",
    "In this second part set of exercises you will be working with traffic data from Copenhagen Municipality.\n",
    "\n",
    "The municipality have made the data openly available through the [opendata.dk](http://www.opendata.dk/) platform. We will use the data from traffic counters to construct a dataset of hourly traffic. We will use this data to get basic insights on the development in traffic over time and relate it to weather. The gist here is to practice a very important skill in Data Science: being able to quickly fetch data from the web and structure it so that you can work with it. Scraping usually gets a bit more advanced than what we will do today, but the following exercises should give you a taste for how it works. The bulk of these exercise, however, revolve around using the Pandas library to structure and analyze data."
   ]
  },
  {
   "cell_type": "markdown",
   "metadata": {},
   "source": [
    "### Part 5.2.a: getting some data to work with\n",
    "\n",
    "Hence follows a simple scraping exercise where you (1) collect urls for datasets in the webpage listing data on traffic counters and (2) use these urls to load the data into one dataframe.\n",
    "\n",
    "> **Ex. 5.2.1:** Using the requests module, extract the html markup of the webpage https://www.opendata.dk/city-of-copenhagen/faste-trafiktaellinger and store it as a string in a new variable."
   ]
  },
  {
   "cell_type": "code",
   "execution_count": 102,
   "metadata": {
    "tags": []
   },
   "outputs": [],
   "source": [
    "import requests\n",
    "import re\n",
    "\n",
    "response = requests.get('https://www.opendata.dk/city-of-copenhagen/faste-trafiktaellinger')\n",
    "\n",
    "\n",
    "url_string = response.text\n"
   ]
  },
  {
   "cell_type": "markdown",
   "metadata": {},
   "source": [
    "> **Ex. 5.2.2:** Using the re module, extract a list of all the urls in the html string and store them in a new variable.\n",
    "\n",
    "> _Hint:_ Try using the re.findall method. You may want to Google around to figure out how to do this. Searching for something along the lines of \"extract all links in html regex python\" and hitting the first StackOverflow link will probably get you farther than reading elaborate documentation."
   ]
  },
  {
   "cell_type": "code",
   "execution_count": 97,
   "metadata": {
    "tags": []
   },
   "outputs": [
    {
     "output_type": "stream",
     "name": "stdout",
     "text": "['https://code.jquery.com/jquery-3.3.1.min.js', 'https://www.survey-xact.dk/LinkCollector?key=X3LGR2APJJ15', 'https://admin.opendata.dk/dataset/5f9345b0-d73b-43ff-a659-e468d160bc61/resource/dcb49b51-1a17-40f6-82b4-34eaf58bce57/download/faste-trafiktaellinger-2005.xlsx', 'https://admin.opendata.dk/dataset/5f9345b0-d73b-43ff-a659-e468d160bc61/resource/dcb49b51-1a17-40f6-82b4-34eaf58bce57/download/faste-trafiktaellinger-2005.xlsx', 'https://admin.opendata.dk/dataset/5f9345b0-d73b-43ff-a659-e468d160bc61/resource/0bfc0425-0b2f-43b4-be71-117b4265598d/download/faste-trafiktaellinger-2006.xlsx', 'https://admin.opendata.dk/dataset/5f9345b0-d73b-43ff-a659-e468d160bc61/resource/0bfc0425-0b2f-43b4-be71-117b4265598d/download/faste-trafiktaellinger-2006.xlsx', 'https://admin.opendata.dk/dataset/5f9345b0-d73b-43ff-a659-e468d160bc61/resource/f52749f9-6f90-4f63-a151-c4020d4b2396/download/faste-trafiktaellinger-2007.xlsx', 'https://admin.opendata.dk/dataset/5f9345b0-d73b-43ff-a659-e468d160bc61/resource/f52749f9-6f90-4f63-a151-c4020d4b2396/download/faste-trafiktaellinger-2007.xlsx', 'https://admin.opendata.dk/dataset/5f9345b0-d73b-43ff-a659-e468d160bc61/resource/e4f321ad-76bc-483f-839e-e04cfea6bfc0/download/faste-trafiktaellinger-2008.xlsx', 'https://admin.opendata.dk/dataset/5f9345b0-d73b-43ff-a659-e468d160bc61/resource/e4f321ad-76bc-483f-839e-e04cfea6bfc0/download/faste-trafiktaellinger-2008.xlsx', 'https://admin.opendata.dk/dataset/5f9345b0-d73b-43ff-a659-e468d160bc61/resource/bac5c582-bdd0-45db-b174-f835e82851bc/download/faste-trafiktaellinger-2009.xlsx', 'https://admin.opendata.dk/dataset/5f9345b0-d73b-43ff-a659-e468d160bc61/resource/bac5c582-bdd0-45db-b174-f835e82851bc/download/faste-trafiktaellinger-2009.xlsx', 'https://admin.opendata.dk/dataset/5f9345b0-d73b-43ff-a659-e468d160bc61/resource/a209aef9-802c-4cda-9b42-f4364877b04f/download/faste-trafiktaellinger-2010.xlsx', 'https://admin.opendata.dk/dataset/5f9345b0-d73b-43ff-a659-e468d160bc61/resource/a209aef9-802c-4cda-9b42-f4364877b04f/download/faste-trafiktaellinger-2010.xlsx', 'https://admin.opendata.dk/dataset/5f9345b0-d73b-43ff-a659-e468d160bc61/resource/8b2f60a9-17ac-437d-ae6e-ad44c0a49edd/download/faste-trafiktaellinger-2011.xlsx', 'https://admin.opendata.dk/dataset/5f9345b0-d73b-43ff-a659-e468d160bc61/resource/8b2f60a9-17ac-437d-ae6e-ad44c0a49edd/download/faste-trafiktaellinger-2011.xlsx', 'https://admin.opendata.dk/dataset/5f9345b0-d73b-43ff-a659-e468d160bc61/resource/d41f5bc7-9834-4698-ad2c-3a4dc15d124a/download/faste-trafiktaellinger-2012.xlsx', 'https://admin.opendata.dk/dataset/5f9345b0-d73b-43ff-a659-e468d160bc61/resource/d41f5bc7-9834-4698-ad2c-3a4dc15d124a/download/faste-trafiktaellinger-2012.xlsx', 'https://admin.opendata.dk/dataset/5f9345b0-d73b-43ff-a659-e468d160bc61/resource/3cbd235e-9904-44b4-83f1-35630dbd8acc/download/faste-trafiktaellinger-2013.xlsx', 'https://admin.opendata.dk/dataset/5f9345b0-d73b-43ff-a659-e468d160bc61/resource/3cbd235e-9904-44b4-83f1-35630dbd8acc/download/faste-trafiktaellinger-2013.xlsx', 'https://admin.opendata.dk/dataset/5f9345b0-d73b-43ff-a659-e468d160bc61/resource/03f2768e-0ff0-4b42-9d3d-be268e131088/download/faste-trafiktaellinger-2014.xlsx', 'https://admin.opendata.dk/dataset/5f9345b0-d73b-43ff-a659-e468d160bc61/resource/03f2768e-0ff0-4b42-9d3d-be268e131088/download/faste-trafiktaellinger-2014.xlsx', 'https://admin.opendata.dk/uploads/group/2016-04-25-065450.348702cph-logo.png', 'http://portal.opendata.dk/dataset/open-data-dk-licens', 'https://twitter.com/intent/tweet?url=//www.opendata.dk/city-of-copenhagen/faste-trafiktaellinger&text=Faste', 'https://admin.opendata.dk/dataset/5f9345b0-d73b-43ff-a659-e468d160bc61/resource/dcb49b51-1a17-40f6-82b4-34eaf58bce57/download/faste-trafiktaellinger-2005.xlsx', 'https://admin.opendata.dk/dataset/5f9345b0-d73b-43ff-a659-e468d160bc61/resource/0bfc0425-0b2f-43b4-be71-117b4265598d/download/faste-trafiktaellinger-2006.xlsx', 'https://admin.opendata.dk/dataset/5f9345b0-d73b-43ff-a659-e468d160bc61/resource/f52749f9-6f90-4f63-a151-c4020d4b2396/download/faste-trafiktaellinger-2007.xlsx', 'https://admin.opendata.dk/dataset/5f9345b0-d73b-43ff-a659-e468d160bc61/resource/e4f321ad-76bc-483f-839e-e04cfea6bfc0/download/faste-trafiktaellinger-2008.xlsx', 'https://admin.opendata.dk/dataset/5f9345b0-d73b-43ff-a659-e468d160bc61/resource/bac5c582-bdd0-45db-b174-f835e82851bc/download/faste-trafiktaellinger-2009.xlsx', 'https://admin.opendata.dk/dataset/5f9345b0-d73b-43ff-a659-e468d160bc61/resource/a209aef9-802c-4cda-9b42-f4364877b04f/download/faste-trafiktaellinger-2010.xlsx', 'https://admin.opendata.dk/dataset/5f9345b0-d73b-43ff-a659-e468d160bc61/resource/8b2f60a9-17ac-437d-ae6e-ad44c0a49edd/download/faste-trafiktaellinger-2011.xlsx', 'https://admin.opendata.dk/dataset/5f9345b0-d73b-43ff-a659-e468d160bc61/resource/d41f5bc7-9834-4698-ad2c-3a4dc15d124a/download/faste-trafiktaellinger-2012.xlsx', 'https://admin.opendata.dk/dataset/5f9345b0-d73b-43ff-a659-e468d160bc61/resource/3cbd235e-9904-44b4-83f1-35630dbd8acc/download/faste-trafiktaellinger-2013.xlsx', 'https://admin.opendata.dk/dataset/5f9345b0-d73b-43ff-a659-e468d160bc61/resource/03f2768e-0ff0-4b42-9d3d-be268e131088/download/faste-trafiktaellinger-2014.xlsx', 'https://ckan.org/', 'http://www.w3.org/2000/svg', 'https://www.linkedin.com/company/open-data-dk', 'https://twitter.com/OpenDataDK', 'http://www.w3.org/2000/svg', 'http://www.w3.org/1999/xlink', 'http://www.w3.org/2000/svg', 'http://www.w3.org/2000/svg', 'http://www.w3.org/2000/svg', 'http://www.w3.org/2000/svg']\n"
    }
   ],
   "source": [
    "urls = re.findall('http[s]?://(?:[a-zA-Z]|[0-9]|[$-_@.&+]|[!*\\(\\),]|(?:%[0-9a-fA-F][0-9a-fA-F]))+', url_string)\n",
    "\n",
    "print(urls)"
   ]
  },
  {
   "cell_type": "markdown",
   "metadata": {},
   "source": [
    "> **Ex. 5.2.3:** Create a new variable `datalinks` that only contains the links that point to downloadable traffic data sheets. Some links may be preset more than once on the page. To get the unique links use the `set()` function on `datalinks`.\n",
    "\n",
    "> _Hint:_ You want to filter the results from above. For example to only include urls with the term 'download' in them."
   ]
  },
  {
   "cell_type": "code",
   "execution_count": 104,
   "metadata": {
    "tags": []
   },
   "outputs": [
    {
     "output_type": "stream",
     "name": "stdout",
     "text": "['https://admin.opendata.dk/dataset/5f9345b0-d73b-43ff-a659-e468d160bc61/resource/f52749f9-6f90-4f63-a151-c4020d4b2396/download/faste-trafiktaellinger-2007.xlsx', 'https://admin.opendata.dk/dataset/5f9345b0-d73b-43ff-a659-e468d160bc61/resource/0bfc0425-0b2f-43b4-be71-117b4265598d/download/faste-trafiktaellinger-2006.xlsx', 'https://admin.opendata.dk/dataset/5f9345b0-d73b-43ff-a659-e468d160bc61/resource/e4f321ad-76bc-483f-839e-e04cfea6bfc0/download/faste-trafiktaellinger-2008.xlsx', 'https://admin.opendata.dk/dataset/5f9345b0-d73b-43ff-a659-e468d160bc61/resource/8b2f60a9-17ac-437d-ae6e-ad44c0a49edd/download/faste-trafiktaellinger-2011.xlsx', 'https://admin.opendata.dk/dataset/5f9345b0-d73b-43ff-a659-e468d160bc61/resource/03f2768e-0ff0-4b42-9d3d-be268e131088/download/faste-trafiktaellinger-2014.xlsx', 'https://admin.opendata.dk/dataset/5f9345b0-d73b-43ff-a659-e468d160bc61/resource/a209aef9-802c-4cda-9b42-f4364877b04f/download/faste-trafiktaellinger-2010.xlsx', 'https://admin.opendata.dk/dataset/5f9345b0-d73b-43ff-a659-e468d160bc61/resource/d41f5bc7-9834-4698-ad2c-3a4dc15d124a/download/faste-trafiktaellinger-2012.xlsx', 'https://admin.opendata.dk/dataset/5f9345b0-d73b-43ff-a659-e468d160bc61/resource/dcb49b51-1a17-40f6-82b4-34eaf58bce57/download/faste-trafiktaellinger-2005.xlsx', 'https://admin.opendata.dk/dataset/5f9345b0-d73b-43ff-a659-e468d160bc61/resource/bac5c582-bdd0-45db-b174-f835e82851bc/download/faste-trafiktaellinger-2009.xlsx', 'https://admin.opendata.dk/dataset/5f9345b0-d73b-43ff-a659-e468d160bc61/resource/3cbd235e-9904-44b4-83f1-35630dbd8acc/download/faste-trafiktaellinger-2013.xlsx']\n"
    }
   ],
   "source": [
    "links = list(set(urls)) #Laver en liste over unikke links\n",
    "datalinks = [k for k in links if 'xlsx' in k] #filtrerer URLS der refererer til excel\n",
    "print(datalinks)"
   ]
  },
  {
   "cell_type": "markdown",
   "metadata": {},
   "source": [
    "> **Ex. 5.2.4:** Using pd.read_excel method, load the datasets into a list. Your resulting variable should hold a list of Pandas dataframes.\n",
    "\n",
    "> _Hint:_ you may want to set the `skiprows` keyword argument. "
   ]
  },
  {
   "cell_type": "code",
   "execution_count": 105,
   "metadata": {},
   "outputs": [],
   "source": [
    "datasets = [pd.read_excel(link) for link in datalinks]"
   ]
  },
  {
   "cell_type": "markdown",
   "metadata": {},
   "source": [
    "> **Ex. 5.2.5:** Concatenate the list of dataframes into a single dataframe."
   ]
  },
  {
   "cell_type": "code",
   "execution_count": 143,
   "metadata": {},
   "outputs": [],
   "source": [
    "df_datasets = pd.concat(datasets , axis = 0)"
   ]
  },
  {
   "cell_type": "markdown",
   "metadata": {},
   "source": [
    "### Part 5.2.b Structuring your data\n",
    "\n",
    "If you successfully completed the previous part, you should now have a dataframe with about 183.397 rows (if your number of rows is close but not the same, worry not—it matters little in the following). Well done! But the data is still in no shape for analysis, so we must clean it up a little.\n",
    "\n",
    "183.397 rows (and 30 columns) is a lot of data. ~3.3 MB by my back-of-the-envelope calculations, so not \"Big Data\", but still enough to make your CPU heat up if you don't use it carefully. Pandas is built to handle fairly large dataframes and has advanced functionality to perform very fast operations even when the size of your data grows huge. So instead of working with basic Python we recommend working pandas built-in procedures as they are constructed to be fast on dataframes.\n",
    "\n",
    "Nerd fact: the reason pandas is much faster than pure Python is that dataframes access a lower level programming languages (namely C, C++) which are multiple times faster than Python. The reason it is faster is that it has a higher level of explicitness and thus is more difficult to learn and navigate.\n",
    "\n",
    "> **Ex. 5.2.6:** Reset the row indices of your dataframe so the first index is 0 and the last is whatever the number of rows your dataframe has. Also drop the column named 'index' and the one named `Spor`."
   ]
  },
  {
   "cell_type": "code",
   "execution_count": 144,
   "metadata": {
    "tags": []
   },
   "outputs": [
    {
     "output_type": "execute_result",
     "data": {
      "text/plain": "9       NaN  NaN kl.04-05  NaN  NaN  NaN  NaN  NaN  NaN  NaN  ... kl.19-20  \\\n0       NaN  NaN      187  NaN  NaN  NaN  NaN  NaN  NaN  NaN  ...      435   \n1       NaN  NaN      158  NaN  NaN  NaN  NaN  NaN  NaN  NaN  ...      528   \n2       NaN  NaN      137  NaN  NaN  NaN  NaN  NaN  NaN  NaN  ...      539   \n3       NaN  NaN      143  NaN  NaN  NaN  NaN  NaN  NaN  NaN  ...      543   \n4       NaN  NaN      145  NaN  NaN  NaN  NaN  NaN  NaN  NaN  ...      618   \n...     ...  ...      ...  ...  ...  ...  ...  ...  ...  ...  ...      ...   \n183482  NaN  NaN      NaN  NaN  NaN  NaN  NaN  NaN   29  NaN  ...      559   \n183483  NaN  NaN      NaN  NaN  NaN  NaN  NaN  NaN   26  NaN  ...      419   \n183484  NaN  NaN      NaN  NaN  NaN  NaN  NaN  NaN   37  NaN  ...      391   \n183485  NaN  NaN      NaN  NaN  NaN  NaN  NaN  NaN   28  NaN  ...      792   \n183486  NaN  NaN      NaN  NaN  NaN  NaN  NaN  NaN   22  NaN  ...       73   \n\n9      kl.20-21 kl.21-22 kl.22-23 kl.23-24  (UTM32)        Dato kl.00-01  \\\n0           285      269      243      154  6172777  01.01.2007      166   \n1           359      363      280      183  6172777  02.01.2007       69   \n2           392      360      323      196  6172777  03.01.2007      105   \n3           427      421      387      237  6172777  04.01.2007       90   \n4           471      425      354      285  6172777  05.01.2007      121   \n...         ...      ...      ...      ...      ...         ...      ...   \n183482      426      192      102       76  6171542  27.12.2013       48   \n183483      309      171       99       77  6171542  28.12.2013       59   \n183484      284      195       94       63  6171542  29.12.2013       49   \n183485      573      414      236      135  6171542  30.12.2013       45   \n183486       74       76      100       55  6171542  31.12.2013       71   \n\n9      kl.01-02 kl.02-03  \n0           357      337  \n1            60       52  \n2            68       65  \n3            58       71  \n4            50       69  \n...         ...      ...  \n183482       19       16  \n183483       26       22  \n183484       46       43  \n183485       23       19  \n183486       35       32  \n\n[183487 rows x 39 columns]",
      "text/html": "<div>\n<style scoped>\n    .dataframe tbody tr th:only-of-type {\n        vertical-align: middle;\n    }\n\n    .dataframe tbody tr th {\n        vertical-align: top;\n    }\n\n    .dataframe thead th {\n        text-align: right;\n    }\n</style>\n<table border=\"1\" class=\"dataframe\">\n  <thead>\n    <tr style=\"text-align: right;\">\n      <th>9</th>\n      <th>NaN</th>\n      <th>NaN</th>\n      <th>kl.04-05</th>\n      <th>NaN</th>\n      <th>NaN</th>\n      <th>NaN</th>\n      <th>NaN</th>\n      <th>NaN</th>\n      <th>NaN</th>\n      <th>NaN</th>\n      <th>...</th>\n      <th>kl.19-20</th>\n      <th>kl.20-21</th>\n      <th>kl.21-22</th>\n      <th>kl.22-23</th>\n      <th>kl.23-24</th>\n      <th>(UTM32)</th>\n      <th>Dato</th>\n      <th>kl.00-01</th>\n      <th>kl.01-02</th>\n      <th>kl.02-03</th>\n    </tr>\n  </thead>\n  <tbody>\n    <tr>\n      <td>0</td>\n      <td>NaN</td>\n      <td>NaN</td>\n      <td>187</td>\n      <td>NaN</td>\n      <td>NaN</td>\n      <td>NaN</td>\n      <td>NaN</td>\n      <td>NaN</td>\n      <td>NaN</td>\n      <td>NaN</td>\n      <td>...</td>\n      <td>435</td>\n      <td>285</td>\n      <td>269</td>\n      <td>243</td>\n      <td>154</td>\n      <td>6172777</td>\n      <td>01.01.2007</td>\n      <td>166</td>\n      <td>357</td>\n      <td>337</td>\n    </tr>\n    <tr>\n      <td>1</td>\n      <td>NaN</td>\n      <td>NaN</td>\n      <td>158</td>\n      <td>NaN</td>\n      <td>NaN</td>\n      <td>NaN</td>\n      <td>NaN</td>\n      <td>NaN</td>\n      <td>NaN</td>\n      <td>NaN</td>\n      <td>...</td>\n      <td>528</td>\n      <td>359</td>\n      <td>363</td>\n      <td>280</td>\n      <td>183</td>\n      <td>6172777</td>\n      <td>02.01.2007</td>\n      <td>69</td>\n      <td>60</td>\n      <td>52</td>\n    </tr>\n    <tr>\n      <td>2</td>\n      <td>NaN</td>\n      <td>NaN</td>\n      <td>137</td>\n      <td>NaN</td>\n      <td>NaN</td>\n      <td>NaN</td>\n      <td>NaN</td>\n      <td>NaN</td>\n      <td>NaN</td>\n      <td>NaN</td>\n      <td>...</td>\n      <td>539</td>\n      <td>392</td>\n      <td>360</td>\n      <td>323</td>\n      <td>196</td>\n      <td>6172777</td>\n      <td>03.01.2007</td>\n      <td>105</td>\n      <td>68</td>\n      <td>65</td>\n    </tr>\n    <tr>\n      <td>3</td>\n      <td>NaN</td>\n      <td>NaN</td>\n      <td>143</td>\n      <td>NaN</td>\n      <td>NaN</td>\n      <td>NaN</td>\n      <td>NaN</td>\n      <td>NaN</td>\n      <td>NaN</td>\n      <td>NaN</td>\n      <td>...</td>\n      <td>543</td>\n      <td>427</td>\n      <td>421</td>\n      <td>387</td>\n      <td>237</td>\n      <td>6172777</td>\n      <td>04.01.2007</td>\n      <td>90</td>\n      <td>58</td>\n      <td>71</td>\n    </tr>\n    <tr>\n      <td>4</td>\n      <td>NaN</td>\n      <td>NaN</td>\n      <td>145</td>\n      <td>NaN</td>\n      <td>NaN</td>\n      <td>NaN</td>\n      <td>NaN</td>\n      <td>NaN</td>\n      <td>NaN</td>\n      <td>NaN</td>\n      <td>...</td>\n      <td>618</td>\n      <td>471</td>\n      <td>425</td>\n      <td>354</td>\n      <td>285</td>\n      <td>6172777</td>\n      <td>05.01.2007</td>\n      <td>121</td>\n      <td>50</td>\n      <td>69</td>\n    </tr>\n    <tr>\n      <td>...</td>\n      <td>...</td>\n      <td>...</td>\n      <td>...</td>\n      <td>...</td>\n      <td>...</td>\n      <td>...</td>\n      <td>...</td>\n      <td>...</td>\n      <td>...</td>\n      <td>...</td>\n      <td>...</td>\n      <td>...</td>\n      <td>...</td>\n      <td>...</td>\n      <td>...</td>\n      <td>...</td>\n      <td>...</td>\n      <td>...</td>\n      <td>...</td>\n      <td>...</td>\n      <td>...</td>\n    </tr>\n    <tr>\n      <td>183482</td>\n      <td>NaN</td>\n      <td>NaN</td>\n      <td>NaN</td>\n      <td>NaN</td>\n      <td>NaN</td>\n      <td>NaN</td>\n      <td>NaN</td>\n      <td>NaN</td>\n      <td>29</td>\n      <td>NaN</td>\n      <td>...</td>\n      <td>559</td>\n      <td>426</td>\n      <td>192</td>\n      <td>102</td>\n      <td>76</td>\n      <td>6171542</td>\n      <td>27.12.2013</td>\n      <td>48</td>\n      <td>19</td>\n      <td>16</td>\n    </tr>\n    <tr>\n      <td>183483</td>\n      <td>NaN</td>\n      <td>NaN</td>\n      <td>NaN</td>\n      <td>NaN</td>\n      <td>NaN</td>\n      <td>NaN</td>\n      <td>NaN</td>\n      <td>NaN</td>\n      <td>26</td>\n      <td>NaN</td>\n      <td>...</td>\n      <td>419</td>\n      <td>309</td>\n      <td>171</td>\n      <td>99</td>\n      <td>77</td>\n      <td>6171542</td>\n      <td>28.12.2013</td>\n      <td>59</td>\n      <td>26</td>\n      <td>22</td>\n    </tr>\n    <tr>\n      <td>183484</td>\n      <td>NaN</td>\n      <td>NaN</td>\n      <td>NaN</td>\n      <td>NaN</td>\n      <td>NaN</td>\n      <td>NaN</td>\n      <td>NaN</td>\n      <td>NaN</td>\n      <td>37</td>\n      <td>NaN</td>\n      <td>...</td>\n      <td>391</td>\n      <td>284</td>\n      <td>195</td>\n      <td>94</td>\n      <td>63</td>\n      <td>6171542</td>\n      <td>29.12.2013</td>\n      <td>49</td>\n      <td>46</td>\n      <td>43</td>\n    </tr>\n    <tr>\n      <td>183485</td>\n      <td>NaN</td>\n      <td>NaN</td>\n      <td>NaN</td>\n      <td>NaN</td>\n      <td>NaN</td>\n      <td>NaN</td>\n      <td>NaN</td>\n      <td>NaN</td>\n      <td>28</td>\n      <td>NaN</td>\n      <td>...</td>\n      <td>792</td>\n      <td>573</td>\n      <td>414</td>\n      <td>236</td>\n      <td>135</td>\n      <td>6171542</td>\n      <td>30.12.2013</td>\n      <td>45</td>\n      <td>23</td>\n      <td>19</td>\n    </tr>\n    <tr>\n      <td>183486</td>\n      <td>NaN</td>\n      <td>NaN</td>\n      <td>NaN</td>\n      <td>NaN</td>\n      <td>NaN</td>\n      <td>NaN</td>\n      <td>NaN</td>\n      <td>NaN</td>\n      <td>22</td>\n      <td>NaN</td>\n      <td>...</td>\n      <td>73</td>\n      <td>74</td>\n      <td>76</td>\n      <td>100</td>\n      <td>55</td>\n      <td>6171542</td>\n      <td>31.12.2013</td>\n      <td>71</td>\n      <td>35</td>\n      <td>32</td>\n    </tr>\n  </tbody>\n</table>\n<p>183487 rows × 39 columns</p>\n</div>"
     },
     "metadata": {},
     "execution_count": 144
    }
   ],
   "source": [
    "df_datasets = df_datasets.iloc[9: , :]\n",
    "new_header = df_datasets.iloc[0]\n",
    "df_datasets = df_datasets.iloc[1:]\n",
    "df_datasets.columns = new_header\n",
    "df_datasets.drop(columns = ['Spor'])\n",
    "df_datasets.reset_index(drop = True)"
   ]
  },
  {
   "cell_type": "code",
   "execution_count": 51,
   "metadata": {},
   "outputs": [],
   "source": [
    "# [Answer to Ex. 5.2.7]"
   ]
  },
  {
   "cell_type": "markdown",
   "metadata": {},
   "source": [
    "Python is quite efficient. For example, when you create a new dataframe by manipulating an old one, Python notices that—apart from some minor changes—these two objects are almost the same. Since memory is a precious resource, Python will represent the values in the new dataframe as references to the variables in the old dataset. This is great for performance, but if you for whatever reason change some of the values in your old dataframe, values in the new one will also change—and we don't want that! Luckily, we can break this dependency.\n",
    "\n",
    "> **Ex. 5.2.8:** Break the dependencies of the dataframe that resulted from Ex. 5.2.7 using the `.copy` method. Delete all other dataframes."
   ]
  },
  {
   "cell_type": "code",
   "execution_count": 52,
   "metadata": {},
   "outputs": [],
   "source": [
    "# [Answer to Ex. 5.2.8]"
   ]
  },
  {
   "cell_type": "markdown",
   "metadata": {},
   "source": [
    "Once you have structured appropriately, something that you will want to do again and again is selecting subsets of the data. Specifically, it means that you select specific rows in the dataset based on some column values.\n",
    "\n",
    ">**Ex. 5.2.9:** Create a new column in the dataframe called total that is True when the last letter of road_id is T and otherwise False.\n",
    "\n",
    "> _Hint:_ you will need the `pd.Series.str` attribute for this."
   ]
  },
  {
   "cell_type": "code",
   "execution_count": 53,
   "metadata": {},
   "outputs": [],
   "source": [
    "# [Answer to Ex. 5.2.9]"
   ]
  },
  {
   "cell_type": "markdown",
   "metadata": {},
   "source": [
    "> **Ex. 5.2.10:** Select rows where total is True. Delete all the remaining observations."
   ]
  },
  {
   "cell_type": "code",
   "execution_count": 54,
   "metadata": {},
   "outputs": [],
   "source": [
    "# [Answer to Ex. 5.2.10]"
   ]
  },
  {
   "cell_type": "markdown",
   "metadata": {},
   "source": [
    "> **Ex. 5.2.11:** Make two datasets based on the lists of columns below. Call the dataset with spatial columns data_geo and the other data.\n",
    "\n",
    "```python\n",
    "# Columns for `geo_data`, stored in `geo_columns`\n",
    "spatial_columns = ['road_name', 'UTM32_north', 'UTM32_east']\n",
    "\n",
    "# Columns for `data`, stored in `select_columns`\n",
    "hours = [f'kl.{str(h).zfill(2)}-{str(h+1).zfill(2)}' for h in range(24)]\n",
    "select_columns = ['road_name', 'date'] + hours\n",
    "```"
   ]
  },
  {
   "cell_type": "code",
   "execution_count": 55,
   "metadata": {},
   "outputs": [],
   "source": [
    "# [Answer to Ex. 5.2.11]"
   ]
  },
  {
   "cell_type": "markdown",
   "metadata": {},
   "source": [
    "> **Ex. 5.2.12:** Drop the duplicate rows in data_geo."
   ]
  },
  {
   "cell_type": "code",
   "execution_count": 56,
   "metadata": {},
   "outputs": [],
   "source": [
    "# [Answer to Ex. 5.2.12]"
   ]
  },
  {
   "cell_type": "markdown",
   "metadata": {},
   "source": [
    "**Formatting: wide and narrow format**\n",
    "\n",
    "When talking about two-dimensional data (matrices, tables or dataframes, we can call it many things), we can either say that it is in wide or long format (see explanation here, \"wide\" and \"long\" are used interchangably). In Pandas we can use the commands stack and unstack to move between these formats.\n",
    "\n",
    "The wide format has the advantage that it often requires less storage and is easier to read when printed. On the other hand the long format can be easier for modelling, because each observation has its own row. Turns out that the latter is what we most often need.\n",
    "\n",
    "> **Ex. 5.2.13:** Turn the dataset from wide to long so hourly data is now vertically stacked. Store this dataset in a dataframe called data. Name the column with hourly information hour_period. Your resulting dataframe should look something like this.\n",
    "\n",
    "> _Hint:_ pandas' melt function may be of use."
   ]
  },
  {
   "cell_type": "code",
   "execution_count": 57,
   "metadata": {},
   "outputs": [],
   "source": [
    "# [Answer to Ex. 5.2.13]"
   ]
  },
  {
   "cell_type": "markdown",
   "metadata": {},
   "source": [
    "**Categorical data**\n",
    "\n",
    "Categorical data can contain Python objects, usually strings. These are smart if you have variables with string observations that are long and often repeated, e.g. with road names.\n",
    "\n",
    "> **Ex. 5.2.14:** Use the `.astype` method to convert the type of the road_name column to categorical."
   ]
  },
  {
   "cell_type": "code",
   "execution_count": 58,
   "metadata": {},
   "outputs": [],
   "source": [
    "# [Answer to Ex. 5.2.14]"
   ]
  },
  {
   "cell_type": "markdown",
   "metadata": {},
   "source": [
    "### Structure temporal data\n",
    "\n",
    "Pandas has native support for working with temporal data. This is handy as much 'big data' often has time stamps which we can make Pandas aware of. Once we have encoded temporal data it can be used to extract information such as the hour, second etc.\n",
    "\n",
    "> **Ex. 5.2.15:** Create a new column called hour which contains the hour-of-day for each row. "
   ]
  },
  {
   "cell_type": "code",
   "execution_count": 59,
   "metadata": {},
   "outputs": [],
   "source": [
    "# [Answer to Ex. 5.2.15]"
   ]
  },
  {
   "cell_type": "markdown",
   "metadata": {},
   "source": [
    ">**Ex. 5.2.16:** Create a new column called time, that contains the time of the row in datetime format. Delete the old temporal columns (hour, hour_period, date) to save memory.\n",
    "\n",
    "> _Hint:_ try making an intermediary series of strings that has all temporal information for the row; then use pandas to_datetime function where you can specify the format of the date string."
   ]
  },
  {
   "cell_type": "code",
   "execution_count": 60,
   "metadata": {},
   "outputs": [],
   "source": [
    "# [Answer to Ex. 5.2.16]"
   ]
  },
  {
   "cell_type": "markdown",
   "metadata": {},
   "source": [
    "> **Ex. 5.2.17:** Using your time column make a new column called weekday which stores the weekday (in values between 0 and 6) of the corresponding datetime.\n",
    "\n",
    "> _Hint:_ try using the dt method for the series called time; dt has some relevant methods itself."
   ]
  },
  {
   "cell_type": "code",
   "execution_count": 61,
   "metadata": {},
   "outputs": [],
   "source": [
    "# [Answer to Ex. 5.2.17]"
   ]
  },
  {
   "cell_type": "markdown",
   "metadata": {},
   "source": [
    "### Statistical descriptions of traffic data\n",
    "\n",
    "> **Ex. 5.2.18:** Print the \"descriptive statistics\" of the traffic column. Also show a kernel density estimate of the values.\n",
    "\n",
    "> _Hint:_ Use the describe method of pandas dataframes for the first task. Use seaborn for the second. "
   ]
  },
  {
   "cell_type": "code",
   "execution_count": 62,
   "metadata": {},
   "outputs": [],
   "source": [
    "# [Answer to Ex. 5.2.18]"
   ]
  },
  {
   "cell_type": "markdown",
   "metadata": {},
   "source": [
    "> **Ex. 5.2.19:** Which road has the most average traffic?"
   ]
  },
  {
   "cell_type": "code",
   "execution_count": 63,
   "metadata": {},
   "outputs": [],
   "source": [
    "# [Answer to Ex. 5.2.19]"
   ]
  },
  {
   "cell_type": "markdown",
   "metadata": {},
   "source": [
    "> **Ex. 5.2.20:** Compute annual, average road traffic during day hours (9-17). Which station had the least traffic in 2013? Which station has seen highest growth in traffic from 2013 to 2014?"
   ]
  },
  {
   "cell_type": "code",
   "execution_count": 64,
   "metadata": {},
   "outputs": [],
   "source": [
    "# [Answer to Ex. 5.2.20]"
   ]
  }
 ],
 "metadata": {
  "kernelspec": {
   "display_name": "Python 3",
   "language": "python",
   "name": "python3"
  },
  "language_info": {
   "codemirror_mode": {
    "name": "ipython",
    "version": 3
   },
   "file_extension": ".py",
   "mimetype": "text/x-python",
   "name": "python",
   "nbconvert_exporter": "python",
   "pygments_lexer": "ipython3",
   "version": "3.7.4-final"
  },
  "nav_menu": {},
  "toc": {
   "navigate_menu": true,
   "number_sections": false,
   "sideBar": true,
   "threshold": 6,
   "toc_cell": false,
   "toc_section_display": "block",
   "toc_window_display": true
  },
  "varInspector": {
   "cols": {
    "lenName": 16,
    "lenType": 16,
    "lenVar": 40
   },
   "kernels_config": {
    "python": {
     "delete_cmd_postfix": "",
     "delete_cmd_prefix": "del ",
     "library": "var_list.py",
     "varRefreshCmd": "print(var_dic_list())"
    },
    "r": {
     "delete_cmd_postfix": ") ",
     "delete_cmd_prefix": "rm(",
     "library": "var_list.r",
     "varRefreshCmd": "cat(var_dic_list()) "
    }
   },
   "types_to_exclude": [
    "module",
    "function",
    "builtin_function_or_method",
    "instance",
    "_Feature"
   ],
   "window_display": false
  }
 },
 "nbformat": 4,
 "nbformat_minor": 4
}
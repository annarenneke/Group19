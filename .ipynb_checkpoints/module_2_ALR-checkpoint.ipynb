{
 "cells": [
  {
   "cell_type": "markdown",
   "metadata": {},
   "source": [
    "> **Note:** In most sessions you will be solving exercises posed in a Jupyter notebook that looks like this one. Because you are cloning a Github repository that only we can push to, you should **NEVER EDIT** any of the files you pull from Github. Instead, what you should do, is either make a new notebook and write your solutions in there, or **make a copy of this notebook and save it somewhere else** on your computer, not inside the `isds2020` folder that you cloned, so you can write your answers in there. If you edit the notebook you pulled from Github, those edits (possible your solutions to the exercises) may be overwritten and lost the next time you pull from Github. This is important, so don't hesitate to ask if it is unclear."
   ]
  },
  {
   "cell_type": "markdown",
   "metadata": {},
   "source": [
    "# Session 2: Strings, requests and APIs\n",
    "\n",
    "In this combined teaching module and exercise set you will be working with collecting from the web. We will start out with some basic string operations and build on that to make a query for fetching data.\n",
    "\n",
    "*Alternative sources*: If you get lost, you might find [this page](https://pythonprogramming.net/string-concatenation-formatting-intermediate-python-tutorial/) on pythonprogramming.net useful. [This page](https://www.python-course.eu/python3_sequential_data_types.php) also gives an introduction to the basics of strings and their related data types. "
   ]
  },
  {
   "cell_type": "markdown",
   "metadata": {},
   "source": [
    "# Basic Python (continued)\n",
    "\n",
    "In Assignment 0 we covered a lot about basic Python. We only scratched the surface on many topics and in this session we will be taking a deeper looking at. \n",
    "\n",
    "Start out with watching the introduction video below describing the usefulness of text data and dictionaries."
   ]
  },
  {
   "cell_type": "code",
   "execution_count": 2,
   "metadata": {},
   "outputs": [
    {
     "data": {
      "image/jpeg": "[encoded data removed]",
      "text/html": [
       "\n",
       "        <iframe\n",
       "            width=\"640\"\n",
       "            height=\"360\"\n",
       "            src=\"https://www.youtube.com/embed/QU3AfoezgTE\"\n",
       "            frameborder=\"0\"\n",
       "            allowfullscreen\n",
       "        ></iframe>\n",
       "        "
      ],
      "text/plain": [
       "<IPython.lib.display.YouTubeVideo at 0x110a75910>"
      ]
     },
     "execution_count": 2,
     "metadata": {},
     "output_type": "execute_result"
    }
   ],
   "source": [
    "from IPython.display import YouTubeVideo\n",
    "YouTubeVideo('QU3AfoezgTE', width=640, height=360)"
   ]
  },
  {
   "cell_type": "markdown",
   "metadata": {},
   "source": [
    "## Strings\n",
    "\n",
    "You might be wondering, what exactly are strings. Strings are sequential containers of characters. In Python we use two kinds of characters:\n",
    "-  American Standard Code (`ascii`)\n",
    "    - Characters from English alphabet, numbers, symbols for writing \n",
    "    - 8 bit information\n",
    "\n",
    "- Unicode (`UTF`)  \n",
    "    - Characters from European and Asian language and much more\n",
    "    - 16 bit information\n",
    "    - Available in URLs recently, e.g. [møn.dk](https://møn.dk)        \n",
    "    \n",
    "    \n",
    "Note that while unicode is a little more heavy and costs more space it is way more flexible and we get less errors when importing data from non-ascii languages. This reason is also why Python adopted unicode since Python 3 as standard.\n",
    "\n",
    "To see that strings are sequential containers, see the example below where we slice them like a list or dataframe/array:"
   ]
  },
  {
   "cell_type": "code",
   "execution_count": 3,
   "metadata": {},
   "outputs": [
    {
     "data": {
      "text/plain": [
       "'lice'"
      ]
     },
     "execution_count": 3,
     "metadata": {},
     "output_type": "execute_result"
    }
   ],
   "source": [
    "str1 = 'police'\n",
    "str1[2:]"
   ]
  },
  {
   "cell_type": "markdown",
   "metadata": {},
   "source": [
    "#### Common string operations \n",
    "\n",
    "Strings have multiple operations and functions associated. In this exercise we investigate a few of these. We also explore the sequence form of a string and how it can be sliced and accessed via indices. In the following we provide a small tour of some of the most important ones.\n",
    "\n",
    "You can alter the sentence-case of strings by using the string methods `upper`, `lower`, `capitalize`. Example:"
   ]
  },
  {
   "cell_type": "code",
   "execution_count": 4,
   "metadata": {},
   "outputs": [
    {
     "data": {
      "text/plain": [
       "'POLICE'"
      ]
     },
     "execution_count": 4,
     "metadata": {},
     "output_type": "execute_result"
    }
   ],
   "source": [
    "str1.upper()"
   ]
  },
  {
   "cell_type": "markdown",
   "metadata": {},
   "source": [
    "We can also use the `replace` method to substitute parts of the strings:"
   ]
  },
  {
   "cell_type": "code",
   "execution_count": 5,
   "metadata": {},
   "outputs": [
    {
     "data": {
      "text/plain": [
       "'malice'"
      ]
     },
     "execution_count": 5,
     "metadata": {},
     "output_type": "execute_result"
    }
   ],
   "source": [
    "str1.replace('po', 'ma')"
   ]
  },
  {
   "cell_type": "markdown",
   "metadata": {},
   "source": [
    "We can also check whether a substring is within a given string and much more. The general syntax is \n",
    "```python \n",
    "T in S\n",
    "``` \n",
    "which checks whether a string `S` contains the substring `T`. See two applications below: "
   ]
  },
  {
   "cell_type": "code",
   "execution_count": 6,
   "metadata": {},
   "outputs": [
    {
     "name": "stdout",
     "output_type": "stream",
     "text": [
      "True False\n"
     ]
    }
   ],
   "source": [
    "print('ice' in str1, 'mice' in str1)"
   ]
  },
  {
   "cell_type": "markdown",
   "metadata": {},
   "source": [
    "Another procedure is to add strings together like below:"
   ]
  },
  {
   "cell_type": "code",
   "execution_count": 7,
   "metadata": {},
   "outputs": [
    {
     "data": {
      "text/plain": [
       "'police officer'"
      ]
     },
     "execution_count": 7,
     "metadata": {},
     "output_type": "execute_result"
    }
   ],
   "source": [
    "str2 = 'officer'\n",
    "str1 + ' ' + str2"
   ]
  },
  {
   "cell_type": "markdown",
   "metadata": {},
   "source": [
    "In the first couple of exercises you should use the examples above to answer\n",
    "\n",
    "> **Ex. 2.1.1**: Let `s1='Chameleon'` and `s2='ham'`. Check whether the string `s2` is a substring of `s1`. Is `'hello'` a substring `'goodbye'`?\n",
    "\n"
   ]
  },
  {
   "cell_type": "code",
   "execution_count": 8,
   "metadata": {},
   "outputs": [
    {
     "name": "stdout",
     "output_type": "stream",
     "text": [
      "True False\n",
      "ham is a substring of Chameleon... See? C-ham-eleon\n"
     ]
    }
   ],
   "source": [
    "#CODE\n",
    "s1='chameleon'\n",
    "s2='ham'\n",
    "print(s2 in s1, 'hello' in 'goodbye')\n",
    "\n",
    "#EXAMPLE ANSWER    \n",
    "s1 = 'Chameleon'\n",
    "s2 = 'ham'\n",
    "if s2 in s1:\n",
    "    print(\"ham is a substring of Chameleon... See? C-ham-eleon\")"
   ]
  },
  {
   "cell_type": "markdown",
   "metadata": {},
   "source": [
    "> **Ex. 2.1.2**: From the string `s1` select the last four characters. What is the index of the character `a` in `s1`?\n",
    "\n",
    "> *Hint*: We can selecting a substring by slicing it with the `[]` notation, from the start to end where start is included and end is excluded. Recall that Python has zero-based indexing, see explanation [here](https://softwareengineering.stackexchange.com/questions/110804/why-are-zero-based-arrays-the-norm).\n"
   ]
  },
  {
   "cell_type": "code",
   "execution_count": 9,
   "metadata": {},
   "outputs": [
    {
     "name": "stdout",
     "output_type": "stream",
     "text": [
      "The last four characters are 'leon', the 'a' sits at index 2, since Python is 0-indexed\n"
     ]
    }
   ],
   "source": [
    "#CODE\n",
    "s1[-4:]\n",
    "s1.index('a')\n",
    "\n",
    "#EXAMPLE ANSWER\n",
    "last_four = s1[-4:]\n",
    "index_a = s1.find('a') \n",
    "print(f\"The last four characters are '{last_four}', the 'a' sits at index {index_a}, since Python is 0-indexed\")"
   ]
  },
  {
   "cell_type": "markdown",
   "metadata": {},
   "source": [
    "#### More string operations \n",
    "In addition to the techniques above strings are equipped with an array of _methods_, for solving more complex tasks. For example the `str.join(list)` method will insert a string in between each element of a list. Oppositely `str1.split(str2)` splits `str1` into a list. `.strip()` removes spaces in the beginning and end of a word and the f-string fills in specified blanks in a string.  Below we illustrate the use of each function\n",
    "\n",
    "```python\n",
    ">>> \" \".join(['Hello', 'World!']) \n",
    "'Hello World!'\n",
    "\n",
    ">>> ' Hello World!   '.strip() \n",
    "'Hello World!'\n",
    "\n",
    ">>> w = 'World'\n",
    ">>> f'Hello {w}' \n",
    "'Hello World!'\n",
    "\n",
    ">>> 'a,b,c'.split(',') \n",
    "['a','b','c']\n",
    "```"
   ]
  },
  {
   "cell_type": "markdown",
   "metadata": {},
   "source": [
    "> **Ex. 2.1.3:** Use the `join()` and `strip()` functions to retrieve the sentence `The quick brown fox jumps over the lazy dog` from the list  `list_of_words` in the code cell below."
   ]
  },
  {
   "cell_type": "code",
   "execution_count": 10,
   "metadata": {},
   "outputs": [
    {
     "name": "stdout",
     "output_type": "stream",
     "text": [
      "The quick brown fox jumps over the lazy dog\n",
      "The quick brown fox jumps over the lazy dog\n"
     ]
    }
   ],
   "source": [
    "list_of_words = ['       The        ', '   quick   ', '     brown      ',\n",
    "                 ' fox          ', '          jumps     ', '   over ',\n",
    "                 '          the   ', '  lazy     ', '          dog     ']\n",
    "\n",
    "#CODE\n",
    "\"\".join([list_of_words[0].strip(),\n",
    "         ' ',list_of_words[1].strip(),\n",
    "         ' ',list_of_words[2].strip(),\n",
    "         ' ',list_of_words[3].strip(),\n",
    "         ' ',list_of_words[4].strip(),\n",
    "         ' ',list_of_words[5].strip(),\n",
    "         ' ',list_of_words[6].strip(),\n",
    "         ' ',list_of_words[7].strip(),\n",
    "         ' ',list_of_words[8].strip()\n",
    "        ])\n",
    "#OR\n",
    "x = \" \".join([x.strip(' ') for x in list_of_words])\n",
    "print(x)\n",
    "\n",
    "\n",
    "#EXAMPLE ANSWER\n",
    "list_of_words = ['       The        ', '   quick   ', '     brown      ',\n",
    "                 ' fox          ', '          jumps     ', '   over ',\n",
    "                 '          the   ', '  lazy     ', '          dog     ']\n",
    "print(\" \".join([word.strip() for word in list_of_words]))"
   ]
  },
  {
   "cell_type": "markdown",
   "metadata": {},
   "source": [
    "> **Ex. 2.1.4:** Let `l1 = ['r ', 'Is', '>', ' < ', 'g ', '?']`. Create from `l1` the sentence \"Is r > g?\" using your knowledge about string formatting. Make sure there is only one space in between worlds.\n",
    ">\n",
    ">> _Hint:_ You should be able to combine the above informations to solve this exercise."
   ]
  },
  {
   "cell_type": "code",
   "execution_count": 11,
   "metadata": {},
   "outputs": [
    {
     "data": {
      "text/plain": [
       "'Is r > g ?'"
      ]
     },
     "execution_count": 11,
     "metadata": {},
     "output_type": "execute_result"
    }
   ],
   "source": [
    "#CODE\n",
    "l1 = ['r ', 'Is', '>', ' < ', 'g ', '?']\n",
    "l1[1]+' '+l1[0]+l1[2]+' '+l1[4]+l1[5]"
   ]
  },
  {
   "cell_type": "code",
   "execution_count": 12,
   "metadata": {},
   "outputs": [],
   "source": [
    "# HANDIN"
   ]
  },
  {
   "cell_type": "markdown",
   "metadata": {
    "slideshow": {
     "slide_type": "slide"
    }
   },
   "source": [
    "# Saving as text file\n",
    "We saw in Assignment 0 that we could output tabular data as CSV file. This file is essentially a text file with specific structure that allows a computer to identify rows and columns. In the example below we will learn how to actually save a string directly as a text file. Note how we make line break using `\\n` - this is a string escape sequence, read more [here](https://docs.python.org/3/reference/lexical_analysis.html#literals)"
   ]
  },
  {
   "cell_type": "code",
   "execution_count": 13,
   "metadata": {
    "slideshow": {
     "slide_type": "fragment"
    }
   },
   "outputs": [],
   "source": [
    "my_str = 'This is important...'\n",
    "my_str2 = 'Written in Python!'\n",
    "escape_seq = '\\n'\n",
    "\n",
    "with open('my_file.txt', 'w') as f:\n",
    "    f.write(my_str+escape_seq+my_str2)"
   ]
  },
  {
   "cell_type": "markdown",
   "metadata": {
    "slideshow": {
     "slide_type": "fragment"
    }
   },
   "source": [
    "The code below opens the text file and prints the string."
   ]
  },
  {
   "cell_type": "code",
   "execution_count": 14,
   "metadata": {
    "slideshow": {
     "slide_type": "fragment"
    }
   },
   "outputs": [
    {
     "name": "stdout",
     "output_type": "stream",
     "text": [
      "This is important...\n",
      "Written in Python!\n"
     ]
    }
   ],
   "source": [
    "with open('my_file.txt', 'r') as f:    \n",
    "    print(f.read())"
   ]
  },
  {
   "cell_type": "markdown",
   "metadata": {},
   "source": [
    "> **Ex. 2.1.5:** Create a .txt file called `to_do_list.txt` with a to-do list by looping over the list `to_do = ['1. Hit the gym', '2. Pay bills', '3. Meet George', '4. Buy eggs', '5. Read a book']` and writing each element on a seperate line."
   ]
  },
  {
   "cell_type": "code",
   "execution_count": 15,
   "metadata": {},
   "outputs": [
    {
     "name": "stdout",
     "output_type": "stream",
     "text": [
      "1. Hit the gym\n",
      "2. Pay bills\n",
      "3. Meet George\n",
      "4. Buy eggs\n",
      "5. Read a book\n",
      "1. Hit the gym\n",
      "2. Pay bills\n",
      "3. Meet George\n",
      "4. Buy eggs\n",
      "5. Read a book\n",
      "\n"
     ]
    }
   ],
   "source": [
    "to_do = ['1. Hit the gym', '2. Pay bills', '3. Meet George', '4. Buy eggs', '5. Read a book']\n",
    "\n",
    "#CODE\n",
    "x=escape_seq.join(to_do)\n",
    "with open('to_do_list.txt', 'w') as f:    \n",
    "    f.write(x)\n",
    "with open('to_do_list.txt', 'r') as f:    \n",
    "    print(f.read())\n",
    "    \n",
    "    \n",
    "#EXAMPLE ANSWER\n",
    "to_do = ['1. Hit the gym', '2. Pay bills', '3. Meet George', '4. Buy eggs', '5. Read a book']\n",
    "with open('to_do_list.txt', 'w') as f:\n",
    "    for item in to_do:\n",
    "        f.write(item + \"\\n\")\n",
    "    f.close()\n",
    "with open('to_do_list.txt', 'r') as f:    \n",
    "    print(f.read())"
   ]
  },
  {
   "cell_type": "markdown",
   "metadata": {},
   "source": [
    "## Dictionaries\n",
    "\n",
    "Dictionaries (or simply `dict`) are a central building block of python. Python dicts are constructed from pairs of keys and values making them extremely versatile for data storage. Like list they can contain deep nested structures, e.g. dict of dicts of lists.\n",
    "\n",
    "Try running the code below, where the keys are strings (names from recent Danish prime ministers) and values are also strings (e.g. political affiliation):"
   ]
  },
  {
   "cell_type": "code",
   "execution_count": 16,
   "metadata": {
    "scrolled": true,
    "slideshow": {
     "slide_type": "-"
    }
   },
   "outputs": [
    {
     "name": "stdout",
     "output_type": "stream",
     "text": [
      "Socialdemokratiet\n"
     ]
    }
   ],
   "source": [
    "my_dict1 = {'Anders': \"Venstre\",\n",
    "            'Helle': \"Socialdemokratiet\",\n",
    "            'Lars': \"Venstre\",\n",
    "            'Mette': \"Socialdemokratiet\"}\n",
    "\n",
    "print(my_dict1['Mette'])"
   ]
  },
  {
   "cell_type": "markdown",
   "metadata": {
    "slideshow": {
     "slide_type": "slide"
    }
   },
   "source": [
    "Dictionaries can also be constructed from two associated lists. These are tied together with the `zip` function. Try the following code:"
   ]
  },
  {
   "cell_type": "code",
   "execution_count": 17,
   "metadata": {
    "slideshow": {
     "slide_type": "-"
    }
   },
   "outputs": [
    {
     "data": {
      "text/plain": [
       "{'a': 2, 'b': 3, 'c': 4}"
      ]
     },
     "execution_count": 17,
     "metadata": {},
     "output_type": "execute_result"
    }
   ],
   "source": [
    "keys = ['a', 'b', 'c']\n",
    "values = list(range(2,5))\n",
    "\n",
    "key_value_pairs = list(zip(keys, values))\n",
    "\n",
    "my_dict2 = dict(key_value_pairs)\n",
    "my_dict2"
   ]
  },
  {
   "cell_type": "markdown",
   "metadata": {},
   "source": [
    "> **Ex. 2.1.6**: Create an empty dictionary `words` using the `dict()`function. Then add each of the words in `['animal', 'coffee', 'python', 'unit', 'knowledge', 'tread', 'arise']` as a key, with the value being a boolean indicator for whether the word begins with a vowel. The results should look like `{'bacon': False, 'asynchronous': True ...}`\n",
    ">\n",
    ">> _Hint:_ You might want co first construct a function that asseses whether a given word begins with a vowel or not."
   ]
  },
  {
   "cell_type": "code",
   "execution_count": 18,
   "metadata": {},
   "outputs": [
    {
     "name": "stdout",
     "output_type": "stream",
     "text": [
      "{'animal': True, 'coffee': False, 'python': False, 'unit': True, 'knowledge': False, 'tread': False, 'arise': True}\n"
     ]
    }
   ],
   "source": [
    "W = ['animal', 'coffee', 'python', 'unit', 'knowledge', 'tread', 'arise']\n",
    "vowels = ['a' , 'e' , 'i' , 'o' , 'u' , 'y']\n",
    "\n",
    "#CODE\n",
    "def keys(x):\n",
    "    vowels = ['a' , 'e' , 'i' , 'o' , 'u' , 'y']\n",
    "    new=x[0] in vowels\n",
    "    return new\n",
    "boolian = []\n",
    "for item in W:\n",
    "    boolian.append(keys(item))\n",
    "words = dict(zip(W , boolian))\n",
    "print(words)"
   ]
  },
  {
   "cell_type": "code",
   "execution_count": 19,
   "metadata": {},
   "outputs": [],
   "source": [
    "# HANDIN"
   ]
  },
  {
   "cell_type": "markdown",
   "metadata": {},
   "source": [
    "> **Ex. 2.1.7:** Loop through the dictionary `words`. In each iteration you should print a proper sentence stating if the current word begins with a vowel or not. \n",
    "\n",
    "> _Hint:_ You can loop through both keys and values simultaneously with the `.items()` method. [This](https://www.tutorialspoint.com/python/python_dictionary.htm) might help you."
   ]
  },
  {
   "cell_type": "code",
   "execution_count": 20,
   "metadata": {},
   "outputs": [
    {
     "name": "stdout",
     "output_type": "stream",
     "text": [
      "animal starts with a vowel\n",
      "coffee do not start with a vowel\n",
      "python do not start with a vowel\n",
      "unit starts with a vowel\n",
      "knowledge do not start with a vowel\n",
      "tread do not start with a vowel\n",
      "arise starts with a vowel\n",
      "animal begins with a vowel\n",
      "coffee does not begin with a vowel\n",
      "python does not begin with a vowel\n",
      "unit begins with a vowel\n",
      "knowledge does not begin with a vowel\n",
      "tread does not begin with a vowel\n",
      "arise begins with a vowel\n"
     ]
    }
   ],
   "source": [
    "#CODE\n",
    "for W in words.items():\n",
    "    if W[1] == True:\n",
    "        print('{} starts with a vowel'.format(W[0]))\n",
    "    if W[1] == False:\n",
    "        print('{} do not start with a vowel'.format(W[0]))\n",
    "        \n",
    "        \n",
    "#EXAMPLE ANSWER\n",
    "for w,b in words.items():\n",
    "    if b:\n",
    "        print(f'{w} begins with a vowel')\n",
    "    else:\n",
    "        print(f'{w} does not begin with a vowel')"
   ]
  },
  {
   "cell_type": "markdown",
   "metadata": {
    "slideshow": {
     "slide_type": "slide"
    }
   },
   "source": [
    "## Storing Python containers\n",
    "\n",
    "You might wonder does there exist a file format for easy storage of Python containers?\n",
    "\n",
    "Yes, the immensely popular JSON file format, which can store lists and dictionaries. The advantage is that JSON uses the same syntax as Python lists and dictionaries! The only thing we need to add are quotation marks, see example: \n",
    "\n",
    "- Python dict: `{\"a\":1,\"b\":1}`\n",
    "- JSON: `'{\"a\":1,\"b\":1}'`"
   ]
  },
  {
   "cell_type": "markdown",
   "metadata": {
    "slideshow": {
     "slide_type": "slide"
    }
   },
   "source": [
    "The popularity of JSON comes from the fact that it can hold any list or dictionary of any depth which the three fundamental data types: float, int, str. It does not work well with other formats, but in essence it can hold any form of structured data, e.g. text data, spatial data (GeoJSON) etc.\n",
    "\n",
    "The code example below uses the JSON module to save our dictionary. We use a trick by first converting the JSON file to a string. This can be done with the function `dumps` in the module `json`:"
   ]
  },
  {
   "cell_type": "code",
   "execution_count": 21,
   "metadata": {},
   "outputs": [
    {
     "name": "stdout",
     "output_type": "stream",
     "text": [
      "{\"a\": 2, \"b\": 3, \"c\": 4}\n"
     ]
    }
   ],
   "source": [
    "import json\n",
    "with open('my_file.JSON', 'w') as f:\n",
    "    my_json_str = json.dumps(my_dict2) # convert dictonary to string with JSON formatting\n",
    "    f.write(my_json_str) # write the string to file\n",
    "\n",
    "with open('my_file.JSON', 'r') as f:\n",
    "    print(f.read()) # read the string from file"
   ]
  },
  {
   "cell_type": "markdown",
   "metadata": {},
   "source": [
    "<br>\n",
    "\n",
    "# Python and the web\n",
    "\n",
    "The internet is a massive source for collecting data. Watch the video below to get an overview of the most fundamental protocols and how we work with them."
   ]
  },
  {
   "cell_type": "code",
   "execution_count": 22,
   "metadata": {
    "scrolled": true
   },
   "outputs": [
    {
     "data": {
      "image/jpeg": "[encoded data removed]",
      "text/html": [
       "\n",
       "        <iframe\n",
       "            width=\"640\"\n",
       "            height=\"360\"\n",
       "            src=\"https://www.youtube.com/embed/vfn6zLmIyUY\"\n",
       "            frameborder=\"0\"\n",
       "            allowfullscreen\n",
       "        ></iframe>\n",
       "        "
      ],
      "text/plain": [
       "<IPython.lib.display.YouTubeVideo at 0x111c1a110>"
      ]
     },
     "execution_count": 22,
     "metadata": {},
     "output_type": "execute_result"
    }
   ],
   "source": [
    "YouTubeVideo('vfn6zLmIyUY', width=640, height=360)"
   ]
  },
  {
   "cell_type": "markdown",
   "metadata": {
    "slideshow": {
     "slide_type": "slide"
    }
   },
   "source": [
    "## Application Programming Interface (API)\n",
    "\n",
    "APIs are protocols that allow us to request information and/or services from the provider of the API. In this course, we are mainly interested in APIs that provide data as a response to our requests. Watch the video below to get a sense of what APIs exist and how they work."
   ]
  },
  {
   "cell_type": "code",
   "execution_count": 23,
   "metadata": {},
   "outputs": [
    {
     "data": {
      "image/jpeg": "[encoded data removed]",
      "text/html": [
       "\n",
       "        <iframe\n",
       "            width=\"640\"\n",
       "            height=\"360\"\n",
       "            src=\"https://www.youtube.com/embed/abQl_BD-rQo\"\n",
       "            frameborder=\"0\"\n",
       "            allowfullscreen\n",
       "        ></iframe>\n",
       "        "
      ],
      "text/plain": [
       "<IPython.lib.display.YouTubeVideo at 0x111c1ae50>"
      ]
     },
     "execution_count": 23,
     "metadata": {},
     "output_type": "execute_result"
    }
   ],
   "source": [
    "YouTubeVideo('abQl_BD-rQo', width=640, height=360)"
   ]
  },
  {
   "cell_type": "markdown",
   "metadata": {},
   "source": [
    "#### Building the queries\n",
    "We will now move on to understanding how we can interact with a web API in Python. First we will see how to build a query, which simply a web address. By typing in a specific web address the web server will receive information from us.\n",
    "\n",
    "In the example below we build a URL that allows us to check out which repositories Andreas BN has publicly available."
   ]
  },
  {
   "cell_type": "code",
   "execution_count": 24,
   "metadata": {
    "slideshow": {
     "slide_type": "fragment"
    }
   },
   "outputs": [
    {
     "name": "stdout",
     "output_type": "stream",
     "text": [
      "https://api.github.com/users/abjer/repos\n"
     ]
    }
   ],
   "source": [
    "server_url = 'https://api.github.com'\n",
    "endpoint_path = '/users/abjer/repos'\n",
    "url = server_url + endpoint_path\n",
    "print(url)"
   ]
  },
  {
   "cell_type": "markdown",
   "metadata": {
    "slideshow": {
     "slide_type": "slide"
    }
   },
   "source": [
    "#### Sending the query\n",
    "Python has a smart module, named `requests`, that allows us to interact with the web. When we request a URL we get a response in return. Among other things it allows us to inspect the HTML code. In the example below we query the URL for the GitHub API we made above. "
   ]
  },
  {
   "cell_type": "code",
   "execution_count": 25,
   "metadata": {
    "slideshow": {
     "slide_type": "fragment"
    }
   },
   "outputs": [],
   "source": [
    "import requests # import the module requests\n",
    "\n",
    "response = requests.get(url) # submit query with `get` and save response as object"
   ]
  },
  {
   "cell_type": "markdown",
   "metadata": {},
   "source": [
    "When we examine the response, we can see the HTML string is pretty long, so we limit the initial output to the first 1,000 characters. "
   ]
  },
  {
   "cell_type": "code",
   "execution_count": 26,
   "metadata": {
    "slideshow": {
     "slide_type": "fragment"
    }
   },
   "outputs": [
    {
     "name": "stdout",
     "output_type": "stream",
     "text": [
      "56402 \n",
      "\n",
      "[{\"id\":111244798,\"node_id\":\"MDEwOlJlcG9zaXRvcnkxMTEyNDQ3OTg=\",\"name\":\"abjer.github.io\",\"full_name\":\"abjer/abjer.github.io\",\"private\":false,\"owner\":{\"login\":\"abjer\",\"id\":6363844,\"node_id\":\"MDQ6VXNlcjYzNjM4NDQ=\",\"avatar_url\":\"https://avatars3.githubusercontent.com/u/6363844?v=4\",\"gravatar_id\":\"\",\"url\":\"https://api.github.com/users/abjer\",\"html_url\":\"https://github.com/abjer\",\"followers_url\":\"https://api.github.com/users/abjer/followers\",\"following_url\":\"https://api.github.com/users/abjer/following{/other_user}\",\"gists_url\":\"https://api.github.com/users/abjer/gists{/gist_id}\",\"starred_url\":\"https://api.github.com/users/abjer/starred{/owner}{/repo}\",\"subscriptions_url\":\"https://api.github.com/users/abjer/subscriptions\",\"organizations_url\":\"https://api.github.com/users/abjer/orgs\",\"repos_url\":\"https://api.github.com/users/abjer/repos\",\"events_url\":\"https://api.github.com/users/abjer/events{/privacy}\",\"received_events_url\":\"https://api.github.com/users/abjer/received_events\",\"type\":\"User\",\"s \n",
      "\n"
     ]
    }
   ],
   "source": [
    "print(len(response.text),'\\n') # print length of HTML\n",
    "print(response.text[:1000],'\\n') # print first 1,000 characters of HTML "
   ]
  },
  {
   "cell_type": "markdown",
   "metadata": {},
   "source": [
    "We notice how the structure resembles lists and dictionaries. Therefore, we try to convert it by assuming that it is structured as JSON. Voila! It now makes a lot of sense!"
   ]
  },
  {
   "cell_type": "code",
   "execution_count": 27,
   "metadata": {
    "scrolled": true
   },
   "outputs": [
    {
     "data": {
      "text/plain": [
       "{'id': 111244798,\n",
       " 'node_id': 'MDEwOlJlcG9zaXRvcnkxMTEyNDQ3OTg=',\n",
       " 'name': 'abjer.github.io',\n",
       " 'full_name': 'abjer/abjer.github.io',\n",
       " 'private': False,\n",
       " 'owner': {'login': 'abjer',\n",
       "  'id': 6363844,\n",
       "  'node_id': 'MDQ6VXNlcjYzNjM4NDQ=',\n",
       "  'avatar_url': 'https://avatars3.githubusercontent.com/u/6363844?v=4',\n",
       "  'gravatar_id': '',\n",
       "  'url': 'https://api.github.com/users/abjer',\n",
       "  'html_url': 'https://github.com/abjer',\n",
       "  'followers_url': 'https://api.github.com/users/abjer/followers',\n",
       "  'following_url': 'https://api.github.com/users/abjer/following{/other_user}',\n",
       "  'gists_url': 'https://api.github.com/users/abjer/gists{/gist_id}',\n",
       "  'starred_url': 'https://api.github.com/users/abjer/starred{/owner}{/repo}',\n",
       "  'subscriptions_url': 'https://api.github.com/users/abjer/subscriptions',\n",
       "  'organizations_url': 'https://api.github.com/users/abjer/orgs',\n",
       "  'repos_url': 'https://api.github.com/users/abjer/repos',\n",
       "  'events_url': 'https://api.github.com/users/abjer/events{/privacy}',\n",
       "  'received_events_url': 'https://api.github.com/users/abjer/received_events',\n",
       "  'type': 'User',\n",
       "  'site_admin': False},\n",
       " 'html_url': 'https://github.com/abjer/abjer.github.io',\n",
       " 'description': 'Repository for personal webpage https://abjer.github.io',\n",
       " 'fork': False,\n",
       " 'url': 'https://api.github.com/repos/abjer/abjer.github.io',\n",
       " 'forks_url': 'https://api.github.com/repos/abjer/abjer.github.io/forks',\n",
       " 'keys_url': 'https://api.github.com/repos/abjer/abjer.github.io/keys{/key_id}',\n",
       " 'collaborators_url': 'https://api.github.com/repos/abjer/abjer.github.io/collaborators{/collaborator}',\n",
       " 'teams_url': 'https://api.github.com/repos/abjer/abjer.github.io/teams',\n",
       " 'hooks_url': 'https://api.github.com/repos/abjer/abjer.github.io/hooks',\n",
       " 'issue_events_url': 'https://api.github.com/repos/abjer/abjer.github.io/issues/events{/number}',\n",
       " 'events_url': 'https://api.github.com/repos/abjer/abjer.github.io/events',\n",
       " 'assignees_url': 'https://api.github.com/repos/abjer/abjer.github.io/assignees{/user}',\n",
       " 'branches_url': 'https://api.github.com/repos/abjer/abjer.github.io/branches{/branch}',\n",
       " 'tags_url': 'https://api.github.com/repos/abjer/abjer.github.io/tags',\n",
       " 'blobs_url': 'https://api.github.com/repos/abjer/abjer.github.io/git/blobs{/sha}',\n",
       " 'git_tags_url': 'https://api.github.com/repos/abjer/abjer.github.io/git/tags{/sha}',\n",
       " 'git_refs_url': 'https://api.github.com/repos/abjer/abjer.github.io/git/refs{/sha}',\n",
       " 'trees_url': 'https://api.github.com/repos/abjer/abjer.github.io/git/trees{/sha}',\n",
       " 'statuses_url': 'https://api.github.com/repos/abjer/abjer.github.io/statuses/{sha}',\n",
       " 'languages_url': 'https://api.github.com/repos/abjer/abjer.github.io/languages',\n",
       " 'stargazers_url': 'https://api.github.com/repos/abjer/abjer.github.io/stargazers',\n",
       " 'contributors_url': 'https://api.github.com/repos/abjer/abjer.github.io/contributors',\n",
       " 'subscribers_url': 'https://api.github.com/repos/abjer/abjer.github.io/subscribers',\n",
       " 'subscription_url': 'https://api.github.com/repos/abjer/abjer.github.io/subscription',\n",
       " 'commits_url': 'https://api.github.com/repos/abjer/abjer.github.io/commits{/sha}',\n",
       " 'git_commits_url': 'https://api.github.com/repos/abjer/abjer.github.io/git/commits{/sha}',\n",
       " 'comments_url': 'https://api.github.com/repos/abjer/abjer.github.io/comments{/number}',\n",
       " 'issue_comment_url': 'https://api.github.com/repos/abjer/abjer.github.io/issues/comments{/number}',\n",
       " 'contents_url': 'https://api.github.com/repos/abjer/abjer.github.io/contents/{+path}',\n",
       " 'compare_url': 'https://api.github.com/repos/abjer/abjer.github.io/compare/{base}...{head}',\n",
       " 'merges_url': 'https://api.github.com/repos/abjer/abjer.github.io/merges',\n",
       " 'archive_url': 'https://api.github.com/repos/abjer/abjer.github.io/{archive_format}{/ref}',\n",
       " 'downloads_url': 'https://api.github.com/repos/abjer/abjer.github.io/downloads',\n",
       " 'issues_url': 'https://api.github.com/repos/abjer/abjer.github.io/issues{/number}',\n",
       " 'pulls_url': 'https://api.github.com/repos/abjer/abjer.github.io/pulls{/number}',\n",
       " 'milestones_url': 'https://api.github.com/repos/abjer/abjer.github.io/milestones{/number}',\n",
       " 'notifications_url': 'https://api.github.com/repos/abjer/abjer.github.io/notifications{?since,all,participating}',\n",
       " 'labels_url': 'https://api.github.com/repos/abjer/abjer.github.io/labels{/name}',\n",
       " 'releases_url': 'https://api.github.com/repos/abjer/abjer.github.io/releases{/id}',\n",
       " 'deployments_url': 'https://api.github.com/repos/abjer/abjer.github.io/deployments',\n",
       " 'created_at': '2017-11-18T22:34:19Z',\n",
       " 'updated_at': '2020-08-06T17:55:21Z',\n",
       " 'pushed_at': '2020-08-06T17:55:18Z',\n",
       " 'git_url': 'git://github.com/abjer/abjer.github.io.git',\n",
       " 'ssh_url': 'git@github.com:abjer/abjer.github.io.git',\n",
       " 'clone_url': 'https://github.com/abjer/abjer.github.io.git',\n",
       " 'svn_url': 'https://github.com/abjer/abjer.github.io',\n",
       " 'homepage': None,\n",
       " 'size': 3185,\n",
       " 'stargazers_count': 0,\n",
       " 'watchers_count': 0,\n",
       " 'language': 'HTML',\n",
       " 'has_issues': True,\n",
       " 'has_projects': True,\n",
       " 'has_downloads': True,\n",
       " 'has_wiki': True,\n",
       " 'has_pages': True,\n",
       " 'forks_count': 0,\n",
       " 'mirror_url': None,\n",
       " 'archived': False,\n",
       " 'disabled': False,\n",
       " 'open_issues_count': 0,\n",
       " 'license': None,\n",
       " 'forks': 0,\n",
       " 'open_issues': 0,\n",
       " 'watchers': 0,\n",
       " 'default_branch': 'master'}"
      ]
     },
     "execution_count": 27,
     "metadata": {},
     "output_type": "execute_result"
    }
   ],
   "source": [
    "response_json = response.json() # convert response to a list of dicts\n",
    "response_json[0]"
   ]
  },
  {
   "cell_type": "markdown",
   "metadata": {},
   "source": [
    "## Introducing the punk API\n",
    "The [punk API](https://punkapi.com/) serves information about _beers_. It is a well made and well documented API which makes it great for learning about APIs. \n",
    "\n",
    "> **Ex. 2.2.1:** Read the documentation on the Punk API available [here](https://punkapi.com/documentation/v2). What is the server url (i.e. root endpoint) of the Punk API? Does it require authentication? Then use the Punk API to make a request for beers brewed before December, 2008 with an ABV of at least 8."
   ]
  },
  {
   "cell_type": "code",
   "execution_count": 28,
   "metadata": {},
   "outputs": [],
   "source": [
    "#CODE\n",
    "#https://api.punkapi.com/v2/\n",
    "#Nope as it states in the given text\n",
    "url = 'https://api.punkapi.com/v2/beers?brewed_before=12-2008&abv_gt=8'\n",
    "response = requests.get(url)\n",
    "response_json = response.json()\n",
    "response_json[0]\n",
    "\n",
    "#EXAMPLE ANSWER\n",
    "#Server URL is 'https://api.punkapi.com/v2/'\n",
    "#No authentication required \n",
    "import requests\n",
    "response = requests.get('https://api.punkapi.com/v2/beers?brewed_before=12-2008&abv_gt=8')"
   ]
  },
  {
   "cell_type": "markdown",
   "metadata": {},
   "source": [
    "> **Ex. 2.2.2:** What object type is the API's JSON response? What about the individual items in the container? Convert the response object to a suitable format and answer the following questions:\n",
    ">> 1) How many beers are in the JSON object?\n",
    ">>\n",
    ">> 2) Print the names of the beers in the JSON object using lower case characters.\n",
    ">>\n",
    ">> 3) Select the beer called Paradox Islay from the JSON object.\n",
    ">>\n",
    ">> 4) Which hop ingredients does the Paradox Islay contain?\n"
   ]
  },
  {
   "cell_type": "code",
   "execution_count": 29,
   "metadata": {},
   "outputs": [
    {
     "name": "stdout",
     "output_type": "stream",
     "text": [
      "Number of beers 4\n",
      "Beer names: ['zephyr', 'paradox islay', 'coffee imperial stout', 'ab:03']\n",
      "Paradox Islay is the 2nd entry, i.e. index 1.\n",
      "Ingredients in Paradox Islay: {'First Gold', 'Columbus', 'Saaz'}\n"
     ]
    }
   ],
   "source": [
    "#CODE\n",
    "\n",
    "#EXAMPLE ANSWER\n",
    "#format is json (see documentation)\n",
    "beers = response.json()\n",
    "\n",
    "# 1) How many beers are in the JSON object?\n",
    "print(f\"Number of beers {len(beers)}\")\n",
    "\n",
    "# 2) Print the names of the beers in the JSON object using lower case characters.\n",
    "print('Beer names:', [b['name'].lower() for b in beers])\n",
    "\n",
    "# 3) Select the beer called Paradox Islay from the JSON object.\n",
    "print(f'{beers[1][\"name\"]} is the 2nd entry, i.e. index 1.')\n",
    "      \n",
    "paradox_islay = beers[1]\n",
    "\n",
    "# 4) Which hop ingredients does the Paradox Islay contain?\n",
    "print('Ingredients in Paradox Islay:', set(i['name'] for i in paradox_islay['ingredients']['hops']))"
   ]
  },
  {
   "cell_type": "markdown",
   "metadata": {},
   "source": [
    "> **Ex. 2.2.3:** Save the beers as a JSON file on your machine.\n",
    "\n",
    "> _Hint:_ you might want to take a look at the [json](https://docs.python.org/3/library/json.html) module.\n"
   ]
  },
  {
   "cell_type": "code",
   "execution_count": 30,
   "metadata": {},
   "outputs": [],
   "source": [
    "#CODE\n",
    "\n",
    "#EXAMPLE ANSWER\n",
    "import json\n",
    "\n",
    "with open('beers.json', 'w') as f:\n",
    "    f.write(json.dumps(beers))\n",
    "\n",
    "with open(\"beers.json\", \"r\") as f:\n",
    "    beers = json.loads(f.read())"
   ]
  },
  {
   "cell_type": "markdown",
   "metadata": {},
   "source": [
    "<br>\n",
    "\n",
    "## The API for Statistics Denmark \n",
    "\n",
    "Statistics Denmark (DST) provide an API access to their aggregate data. For developers they supply a [console](https://api.statbank.dk/console) for testing. In this exercise we will code up a simple script which can collect data from the DST API. \n",
    "\n",
    "> **Ex 2.3.1:** Use the API console to construct a GET request which retrieves the table FOLK1A split by quarter. The return should be in JSON format. We want all available dates.\n",
    ">\n",
    ">Then write a function `construct_link()` which takes as inputs: a table ID (e.g. `'FOLK1A'`) and a list of strings like `['var1=*', 'var2=somevalue']`. The function should return the proper URL for getting a dataset with the specified variables (e.g. in this case all levels of var1, but only where var2=somevalue).\n",
    "\n",
    "> _Hint:_ The time variable is called 'tid'. To select all available values, set the value-id to '*'. Spend a little time with the console to get a sense of how the URLs are constructed.\n"
   ]
  },
  {
   "cell_type": "code",
   "execution_count": 31,
   "metadata": {},
   "outputs": [
    {
     "data": {
      "text/plain": [
       "'https://api.statbank.dk/v1/data/FOLK1A/JSONSTAT?lang=en&Tid=*'"
      ]
     },
     "execution_count": 31,
     "metadata": {},
     "output_type": "execute_result"
    }
   ],
   "source": [
    "#CODE\n",
    "\n",
    "#EXAMPLE ANSWER\n",
    "#This is the manually constructed link\n",
    "'https://api.statbank.dk/v1/data/FOLK1A/JSONSTAT?lang=en&Tid=*'\n",
    "\n",
    "# This function will do it for you\n",
    "def construct_link(table_id, variables):\n",
    "    base = f'https://api.statbank.dk/v1/data/{table_id}/JSONSTAT?lang=en'\n",
    "    \n",
    "    for var in variables:\n",
    "        base += f'&{var}'\n",
    "\n",
    "    return base \n",
    "\n",
    "construct_link('FOLK1A', ['Tid=*'])"
   ]
  },
  {
   "cell_type": "markdown",
   "metadata": {},
   "source": [
    "When executing the request in the console you should get a json file as output. Next lets write some code to load these json files directly into python. \n",
    "\n",
    "\n",
    "> **Ex. 2.3.2:** use the `requests` module (get it with `pip install requests`) and `construct_link()` to request birth data from the \"FOD\" table. Get all available years (variable \"Tid\"), but only female births (BARNKON=P) . Unpack the json payload and store the result. Wrap the whole thing in a function which takes an url as input and returns the corresponding output.\n",
    "\n",
    "> _Hint:_ The `requests.response` object has a `.json()` method. "
   ]
  },
  {
   "cell_type": "code",
   "execution_count": null,
   "metadata": {},
   "outputs": [],
   "source": [
    "#To check whats in the dictionaries we use: resulttable.keys(). This dictionary includes \"dataset\". \n",
    "#We now check whats in this dictionary: resulttable['dataset'].keys(). This dictionary includes \"value\" and we use\n",
    "#this reference"
   ]
  },
  {
   "cell_type": "code",
   "execution_count": 89,
   "metadata": {},
   "outputs": [
    {
     "data": {
      "text/plain": [
       "{'dimension': {'BARNKON': {'label': 'sex of child',\n",
       "   'category': {'index': {'P': 0}, 'label': {'P': 'Girls'}}},\n",
       "  'ContentsCode': {'label': 'Indhold',\n",
       "   'category': {'index': {'FOD': 0},\n",
       "    'label': {'FOD': 'Live births'},\n",
       "    'unit': {'FOD': {'base': 'number', 'decimals': 0}}}},\n",
       "  'Tid': {'label': 'time',\n",
       "   'category': {'index': {'1973': 0,\n",
       "     '1974': 1,\n",
       "     '1975': 2,\n",
       "     '1976': 3,\n",
       "     '1977': 4,\n",
       "     '1978': 5,\n",
       "     '1979': 6,\n",
       "     '1980': 7,\n",
       "     '1981': 8,\n",
       "     '1982': 9,\n",
       "     '1983': 10,\n",
       "     '1984': 11,\n",
       "     '1985': 12,\n",
       "     '1986': 13,\n",
       "     '1987': 14,\n",
       "     '1988': 15,\n",
       "     '1989': 16,\n",
       "     '1990': 17,\n",
       "     '1991': 18,\n",
       "     '1992': 19,\n",
       "     '1993': 20,\n",
       "     '1994': 21,\n",
       "     '1995': 22,\n",
       "     '1996': 23,\n",
       "     '1997': 24,\n",
       "     '1998': 25,\n",
       "     '1999': 26,\n",
       "     '2000': 27,\n",
       "     '2001': 28,\n",
       "     '2002': 29,\n",
       "     '2003': 30,\n",
       "     '2004': 31,\n",
       "     '2005': 32,\n",
       "     '2006': 33,\n",
       "     '2007': 34,\n",
       "     '2008': 35,\n",
       "     '2009': 36,\n",
       "     '2010': 37,\n",
       "     '2011': 38,\n",
       "     '2012': 39,\n",
       "     '2013': 40,\n",
       "     '2014': 41,\n",
       "     '2015': 42,\n",
       "     '2016': 43,\n",
       "     '2017': 44,\n",
       "     '2018': 45,\n",
       "     '2019': 46},\n",
       "    'label': {'1973': '1973',\n",
       "     '1974': '1974',\n",
       "     '1975': '1975',\n",
       "     '1976': '1976',\n",
       "     '1977': '1977',\n",
       "     '1978': '1978',\n",
       "     '1979': '1979',\n",
       "     '1980': '1980',\n",
       "     '1981': '1981',\n",
       "     '1982': '1982',\n",
       "     '1983': '1983',\n",
       "     '1984': '1984',\n",
       "     '1985': '1985',\n",
       "     '1986': '1986',\n",
       "     '1987': '1987',\n",
       "     '1988': '1988',\n",
       "     '1989': '1989',\n",
       "     '1990': '1990',\n",
       "     '1991': '1991',\n",
       "     '1992': '1992',\n",
       "     '1993': '1993',\n",
       "     '1994': '1994',\n",
       "     '1995': '1995',\n",
       "     '1996': '1996',\n",
       "     '1997': '1997',\n",
       "     '1998': '1998',\n",
       "     '1999': '1999',\n",
       "     '2000': '2000',\n",
       "     '2001': '2001',\n",
       "     '2002': '2002',\n",
       "     '2003': '2003',\n",
       "     '2004': '2004',\n",
       "     '2005': '2005',\n",
       "     '2006': '2006',\n",
       "     '2007': '2007',\n",
       "     '2008': '2008',\n",
       "     '2009': '2009',\n",
       "     '2010': '2010',\n",
       "     '2011': '2011',\n",
       "     '2012': '2012',\n",
       "     '2013': '2013',\n",
       "     '2014': '2014',\n",
       "     '2015': '2015',\n",
       "     '2016': '2016',\n",
       "     '2017': '2017',\n",
       "     '2018': '2018',\n",
       "     '2019': '2019'}}},\n",
       "  'id': ['BARNKON', 'ContentsCode', 'Tid'],\n",
       "  'size': [1, 1, 47],\n",
       "  'role': {'metric': ['ContentsCode'], 'time': ['Tid']}},\n",
       " 'label': 'Live births by sex of child, Indhold and time',\n",
       " 'source': 'Statistics Denmark',\n",
       " 'updated': '2020-02-11T07:00:00Z',\n",
       " 'value': [34996,\n",
       "  34771,\n",
       "  35260,\n",
       "  31533,\n",
       "  30055,\n",
       "  30161,\n",
       "  28909,\n",
       "  27941,\n",
       "  25972,\n",
       "  25595,\n",
       "  24821,\n",
       "  25228,\n",
       "  26284,\n",
       "  26878,\n",
       "  27142,\n",
       "  28520,\n",
       "  29876,\n",
       "  30813,\n",
       "  31353,\n",
       "  32914,\n",
       "  32760,\n",
       "  34027,\n",
       "  33885,\n",
       "  32819,\n",
       "  32899,\n",
       "  32116,\n",
       "  32341,\n",
       "  32652,\n",
       "  31961,\n",
       "  31109,\n",
       "  31441,\n",
       "  31539,\n",
       "  31459,\n",
       "  31580,\n",
       "  31267,\n",
       "  31507,\n",
       "  30557,\n",
       "  30946,\n",
       "  28984,\n",
       "  28131,\n",
       "  27283,\n",
       "  27616,\n",
       "  28357,\n",
       "  29833,\n",
       "  29930,\n",
       "  29865,\n",
       "  29648]}"
      ]
     },
     "execution_count": 89,
     "metadata": {},
     "output_type": "execute_result"
    }
   ],
   "source": [
    "#CODE\n",
    "def requestdst(url):\n",
    "    response = requests.get(url)\n",
    "    response_json = response.json()\n",
    "    return response_json['dataset']\n",
    "#variables = ['Tid=*', 'BARNKON=P']\n",
    "resulttable = requestdst(construct_link('FOD', ['Tid=*', 'BARNKON=P']))\n",
    "resulttable\n",
    "\n",
    "#data=construct_link('FOD', ['Tid=*','BARNKON=P'])"
   ]
  },
  {
   "cell_type": "code",
   "execution_count": 33,
   "metadata": {},
   "outputs": [],
   "source": [
    "# HANDIN"
   ]
  },
  {
   "cell_type": "markdown",
   "metadata": {},
   "source": [
    "> **Ex. 2.3.3:** Extract the number of girls born each year. Store the results as a list."
   ]
  },
  {
   "cell_type": "code",
   "execution_count": 84,
   "metadata": {},
   "outputs": [
    {
     "data": {
      "text/plain": [
       "[34996,\n",
       " 34771,\n",
       " 35260,\n",
       " 31533,\n",
       " 30055,\n",
       " 30161,\n",
       " 28909,\n",
       " 27941,\n",
       " 25972,\n",
       " 25595,\n",
       " 24821,\n",
       " 25228,\n",
       " 26284,\n",
       " 26878,\n",
       " 27142,\n",
       " 28520,\n",
       " 29876,\n",
       " 30813,\n",
       " 31353,\n",
       " 32914,\n",
       " 32760,\n",
       " 34027,\n",
       " 33885,\n",
       " 32819,\n",
       " 32899,\n",
       " 32116,\n",
       " 32341,\n",
       " 32652,\n",
       " 31961,\n",
       " 31109,\n",
       " 31441,\n",
       " 31539,\n",
       " 31459,\n",
       " 31580,\n",
       " 31267,\n",
       " 31507,\n",
       " 30557,\n",
       " 30946,\n",
       " 28984,\n",
       " 28131,\n",
       " 27283,\n",
       " 27616,\n",
       " 28357,\n",
       " 29833,\n",
       " 29930,\n",
       " 29865,\n",
       " 29648]"
      ]
     },
     "execution_count": 84,
     "metadata": {},
     "output_type": "execute_result"
    }
   ],
   "source": [
    "#CODE\n",
    "import requests\n",
    "# EXAMPLE ANSWER\n",
    "girls = resulttable['value']\n",
    "#s1 = construct_link('FOD', ['Tid=*', 'BARNKON=P'])\n",
    "#girls = send_GET_request(s1)['value']\n",
    "girls"
   ]
  },
  {
   "cell_type": "markdown",
   "metadata": {},
   "source": [
    "> **Ex. 2.3.4:** Repeat 2.3.2 and 2.3.3 but this time only get boy births (BARNKON=D). Store the numbers in a new list and use the `plot_births` (supplied below) function to plot the data. If you don't already have matplotlib installed run `pip install matplotlib`."
   ]
  },
  {
   "cell_type": "code",
   "execution_count": 90,
   "metadata": {},
   "outputs": [],
   "source": [
    "#Just run this once, do not change it.\n",
    "import matplotlib.pyplot as plt \n",
    "\n",
    "def plot_births(boys, girls):\n",
    "    \"\"\" Plots lineplot of the number of births split by gender.\n",
    "    \n",
    "    Args: \n",
    "        boys: a list of boy births by year\n",
    "        girls: a list of girl births by year\n",
    "    \"\"\"\n",
    "    if not len(boys) == len(girls):\n",
    "        raise ValueError('There must be the same number of observations for boys and girls')\n",
    "    \n",
    "    labels = [f'{year}' for year in range(1973,2018)]\n",
    "    \n",
    "    plt.plot(range(len(boys)), boys, color = 'blue', label = 'boys')\n",
    "    plt.plot(range(len(boys)), girls, color = 'red', label = 'girls')\n",
    "    plt.xticks([i for i in range(len(boys)) if i%4 == 0],\n",
    "               [l for i,l in zip(range(len(boys)),labels) if i%4 == 0],\n",
    "               rotation = 'vertical')\n",
    "    plt.legend()\n",
    "    plt.show()"
   ]
  },
  {
   "cell_type": "code",
   "execution_count": 91,
   "metadata": {},
   "outputs": [],
   "source": [
    "#CODE\n",
    "\n",
    "#Just run this once, do not change it.\n",
    "import matplotlib.pyplot as plt \n",
    "\n",
    "def plot_births(boys, girls):\n",
    "    \"\"\" Plots lineplot of the number of births split by gender.\n",
    "    \n",
    "    Args: \n",
    "        boys: a list of boy births by year\n",
    "        girls: a list of girl births by year\n",
    "    \"\"\"\n",
    "    if not len(boys) == len(girls):\n",
    "        raise ValueError('There must be the same number of observations for boys and girls')\n",
    "    \n",
    "    labels = [f'{year}' for year in range(1973,2018)]\n",
    "    \n",
    "    plt.plot(range(len(boys)), boys, color = 'blue', label = 'boys')\n",
    "    plt.plot(range(len(boys)), girls, color = 'red', label = 'girls')\n",
    "    plt.xticks([i for i in range(len(boys)) if i%4 == 0],\n",
    "               [l for i,l in enumerate(labels) if i%4 == 0],\n",
    "               rotation = 'vertical')\n",
    "    plt.legend()\n",
    "    plt.show()"
   ]
  },
  {
   "cell_type": "markdown",
   "metadata": {},
   "source": [
    "The final question in this module is optional and only for those curious in learning more.\n",
    "\n",
    ">**(Bonus question) Ex. 2.3.5:** Go to [https://kristianuruplarsen.github.io/PyDST/](https://kristianuruplarsen.github.io/PyDST/) follow the installation instructions and import PyDST. Try to replicate the birth figure from 2.3.4 using PyDST. Use [the documentation](https://kristianuruplarsen.github.io/PyDST/connection) to learn how the package works."
   ]
  },
  {
   "cell_type": "code",
   "execution_count": 93,
   "metadata": {},
   "outputs": [
    {
     "data": {
      "image/png": "[encoded data removed]",
      "text/plain": [
       "<Figure size 432x288 with 1 Axes>"
      ]
     },
     "metadata": {
      "needs_background": "light"
     },
     "output_type": "display_data"
    },
    {
     "ename": "NameError",
     "evalue": "name 'PyDST' is not defined",
     "output_type": "error",
     "traceback": [
      "\u001b[0;31m---------------------------------------------------------------------------\u001b[0m",
      "\u001b[0;31mNameError\u001b[0m                                 Traceback (most recent call last)",
      "\u001b[0;32m<ipython-input-93-b60a0bb43d25>\u001b[0m in \u001b[0;36m<module>\u001b[0;34m\u001b[0m\n\u001b[1;32m     16\u001b[0m \u001b[0;34m\u001b[0m\u001b[0m\n\u001b[1;32m     17\u001b[0m \u001b[0;31m#get response object and json data\u001b[0m\u001b[0;34m\u001b[0m\u001b[0;34m\u001b[0m\u001b[0;34m\u001b[0m\u001b[0m\n\u001b[0;32m---> 18\u001b[0;31m \u001b[0mresp\u001b[0m \u001b[0;34m=\u001b[0m \u001b[0mPyDST\u001b[0m\u001b[0;34m.\u001b[0m\u001b[0mget_data\u001b[0m\u001b[0;34m(\u001b[0m\u001b[0;34m'FOD'\u001b[0m\u001b[0;34m,\u001b[0m \u001b[0;34m{\u001b[0m\u001b[0;34m'Tid'\u001b[0m\u001b[0;34m:\u001b[0m \u001b[0;34m'*'\u001b[0m\u001b[0;34m,\u001b[0m \u001b[0;34m'BARNKON'\u001b[0m\u001b[0;34m:\u001b[0m \u001b[0;34m'*'\u001b[0m\u001b[0;34m}\u001b[0m\u001b[0;34m)\u001b[0m\u001b[0;34m\u001b[0m\u001b[0;34m\u001b[0m\u001b[0m\n\u001b[0m\u001b[1;32m     19\u001b[0m \u001b[0mdata_json\u001b[0m \u001b[0;34m=\u001b[0m  \u001b[0mresp\u001b[0m\u001b[0;34m.\u001b[0m\u001b[0mjson\u001b[0m\u001b[0;34m(\u001b[0m\u001b[0;34m)\u001b[0m\u001b[0;34m[\u001b[0m\u001b[0;34m'dataset'\u001b[0m\u001b[0;34m]\u001b[0m\u001b[0;34m\u001b[0m\u001b[0;34m\u001b[0m\u001b[0m\n\u001b[1;32m     20\u001b[0m \u001b[0;34m\u001b[0m\u001b[0m\n",
      "\u001b[0;31mNameError\u001b[0m: name 'PyDST' is not defined"
     ]
    }
   ],
   "source": [
    "#CODE\n",
    "\n",
    "#EXAMPLE ANSWER\n",
    "resulttable2 = requestdst(construct_link('FOD', ['Tid=*', 'BARNKON=D']))\n",
    "boys = resulttable2['value']\n",
    "\n",
    "\n",
    "plot_births(boys, girls)\n",
    "\n",
    "#EXAMPLE ANSWER\n",
    "import pandas as pd\n",
    "import matplotlib.pyplot as plt \n",
    "#import PyDST\n",
    "import seaborn as sns; sns.set_style(\"whitegrid\")\n",
    "\n",
    "#get response object and json data \n",
    "resp = PyDST.get_data('FOD', {'Tid': '*', 'BARNKON': '*'})\n",
    "data_json =  resp.json()['dataset']\n",
    "\n",
    "#extract values from dictionary \n",
    "category_labels =data_json['dimension']['BARNKON']['category']['label']\n",
    "index_labels = data_json['dimension']['Tid']['category']['label']\n",
    "dataset_dimensions = data_json['dimension']['size']\n",
    "values_data = data_json['value']\n",
    "\n",
    "#reshape data to (number_of_years, number_of_columns).\n",
    "#In this case 47 years and 2 columns \n",
    "data_reshaped = np.reshape(values_data, (-1, dataset_dimensions[0]))\n",
    "assert len(data_reshaped) == dataset_dimensions[-1]    #assert that length of dataframe equals number of years \n",
    "\n",
    "#create dataframe \n",
    "df_barnkon = pd.DataFrame(data_reshaped,\n",
    "                          columns = category_labels.values(),\n",
    "                          index=index_labels)\n",
    "\n",
    "\n",
    "#plot data\n",
    "fig, ax = plt.subplots(figsize=(12, 8))\n",
    "ax.set_xticks([i for i in range(len(df_barnkon)) if i%4 == 0])\n",
    "ax.set_xticklabels([l for i, l in enumerate(index_labels) if i%4 == 0],\n",
    "                   rotation = \"vertical\")\n",
    "ax.set_ylabel(\"Number of births\", fontsize = 12)\n",
    "ax.set_title(f\"Number of births for boys and girls in the years {df_barnkon.index[0]}-{df_barnkon.index[-1]}\",\n",
    "             fontsize=15)\n",
    "sns.lineplot(data = df_barnkon, markers=True, palette = ['blue', 'red'])\n",
    "\n"
   ]
  },
  {
   "cell_type": "code",
   "execution_count": null,
   "metadata": {},
   "outputs": [],
   "source": [
    "#The error does not have an inpact on the graph making, only a visual part"
   ]
  }
 ],
 "metadata": {
  "kernelspec": {
   "display_name": "Python 3",
   "language": "python",
   "name": "python3"
  },
  "language_info": {
   "codemirror_mode": {
    "name": "ipython",
    "version": 3
   },
   "file_extension": ".py",
   "mimetype": "text/x-python",
   "name": "python",
   "nbconvert_exporter": "python",
   "pygments_lexer": "ipython3",
   "version": "3.7.6"
  }
 },
 "nbformat": 4,
 "nbformat_minor": 4
}

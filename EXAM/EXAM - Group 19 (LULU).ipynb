{
 "cells": [
  {
   "cell_type": "code",
   "execution_count": 1,
   "metadata": {},
   "outputs": [],
   "source": [
    "import json\n",
    "import geojson\n",
    "import pandas as pd"
   ]
  },
  {
   "cell_type": "code",
   "execution_count": 8,
   "metadata": {
    "tags": []
   },
   "outputs": [],
   "source": [
    "with open(r'C:\\Users\\Bruger\\Documents\\GitHub\\dagi\\geojson\\postnumre.geojson') as f:\n",
    "  data = json.load(f)\n",
    "\n",
    "daata = []\n",
    "koor = []\n",
    "test = []\n",
    "\n",
    "for post in data['features']:\n",
    "    daata.append(post['properties'])\n",
    "    koor.append(post['geometry'])\n",
    "\n",
    "test = pd.DataFrame(data = daata)\n",
    "koor = pd.DataFrame(data = koor)\n",
    "test['coordinates'] = koor.iloc[: , 1]\n",
    "#pd.concat([test, test['coordinates'].str.split(', ', expand=True)], axis=1)\n",
    "\n",
    "#Sort the data so we only include the specific postal codes\n",
    "data2 = test.copy()\n",
    "data2.set_index('POSTNR_TXT')\n",
    "data2 = data2.sort_values('POSTNR_TXT')\n",
    "data2 = data2.reset_index(drop = True)\n",
    "#data2.reset_index(inplace=True)\n",
    "\n",
    "#postnr = data2.loc[data2[\"POSTNR_TXT\"] == '1000-1499, 2000]\n",
    "#postnr = data2.iloc[0:15]\n",
    "\n",
    "#print(test)"
   ]
  },
  {
   "cell_type": "code",
   "execution_count": null,
   "metadata": {},
   "outputs": [],
   "source": []
  }
 ],
 "metadata": {
  "kernelspec": {
   "display_name": "Python 3",
   "language": "python",
   "name": "python3"
  },
  "language_info": {
   "codemirror_mode": {
    "name": "ipython",
    "version": 3
   },
   "file_extension": ".py",
   "mimetype": "text/x-python",
   "name": "python",
   "nbconvert_exporter": "python",
   "pygments_lexer": "ipython3",
   "version": "3.7.4-final"
  }
 },
 "nbformat": 4,
 "nbformat_minor": 4
}
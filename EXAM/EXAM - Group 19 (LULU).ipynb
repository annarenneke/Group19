{
 "cells": [
  {
   "cell_type": "code",
   "execution_count": 2,
   "metadata": {},
   "outputs": [],
   "source": [
    "import json\n",
    "import geojson\n",
    "import pandas as pd"
   ]
  },
  {
   "cell_type": "code",
   "execution_count": 36,
   "metadata": {
    "tags": []
   },
   "outputs": [
    {
     "output_type": "execute_result",
     "data": {
      "text/plain": "    POSTNR_TXT   POSTBYNAVN                                        coordinates\n23   1000-1499  København K  [[[12.666542562884098, 55.71937575051712, -999...\n22   1000-1499  København K  [[[12.729095505845207, 55.70326432400145, -999...\n21   1000-1499  København K  [[[12.613831814120543, 55.70149026627223, -999...\n20   1000-1499  København K  [[[12.58972912951792, 55.66790522143455, -999....\n19   1000-1499  København K  [[[12.577792422735687, 55.670762504573865, -99...\n..         ...          ...                                                ...\n572       9940         Læsø  [[[10.898202907267818, 57.245416371817264, -99...\n391       9970     Strandby  [[[10.50756333752875, 57.48554327502682, -999....\n472       9981        Jerup  [[[10.3477417745637, 57.52611119046122, -999.0...\n776       9982        Ålbæk  [[[10.269505867015152, 57.61887141822833, -999...\n223       9990       Skagen  [[[10.343131283408797, 57.64543909530037, -999...\n\n[805 rows x 3 columns]",
      "text/html": "<div>\n<style scoped>\n    .dataframe tbody tr th:only-of-type {\n        vertical-align: middle;\n    }\n\n    .dataframe tbody tr th {\n        vertical-align: top;\n    }\n\n    .dataframe thead th {\n        text-align: right;\n    }\n</style>\n<table border=\"1\" class=\"dataframe\">\n  <thead>\n    <tr style=\"text-align: right;\">\n      <th></th>\n      <th>POSTNR_TXT</th>\n      <th>POSTBYNAVN</th>\n      <th>coordinates</th>\n    </tr>\n  </thead>\n  <tbody>\n    <tr>\n      <th>23</th>\n      <td>1000-1499</td>\n      <td>København K</td>\n      <td>[[[12.666542562884098, 55.71937575051712, -999...</td>\n    </tr>\n    <tr>\n      <th>22</th>\n      <td>1000-1499</td>\n      <td>København K</td>\n      <td>[[[12.729095505845207, 55.70326432400145, -999...</td>\n    </tr>\n    <tr>\n      <th>21</th>\n      <td>1000-1499</td>\n      <td>København K</td>\n      <td>[[[12.613831814120543, 55.70149026627223, -999...</td>\n    </tr>\n    <tr>\n      <th>20</th>\n      <td>1000-1499</td>\n      <td>København K</td>\n      <td>[[[12.58972912951792, 55.66790522143455, -999....</td>\n    </tr>\n    <tr>\n      <th>19</th>\n      <td>1000-1499</td>\n      <td>København K</td>\n      <td>[[[12.577792422735687, 55.670762504573865, -99...</td>\n    </tr>\n    <tr>\n      <th>...</th>\n      <td>...</td>\n      <td>...</td>\n      <td>...</td>\n    </tr>\n    <tr>\n      <th>572</th>\n      <td>9940</td>\n      <td>Læsø</td>\n      <td>[[[10.898202907267818, 57.245416371817264, -99...</td>\n    </tr>\n    <tr>\n      <th>391</th>\n      <td>9970</td>\n      <td>Strandby</td>\n      <td>[[[10.50756333752875, 57.48554327502682, -999....</td>\n    </tr>\n    <tr>\n      <th>472</th>\n      <td>9981</td>\n      <td>Jerup</td>\n      <td>[[[10.3477417745637, 57.52611119046122, -999.0...</td>\n    </tr>\n    <tr>\n      <th>776</th>\n      <td>9982</td>\n      <td>Ålbæk</td>\n      <td>[[[10.269505867015152, 57.61887141822833, -999...</td>\n    </tr>\n    <tr>\n      <th>223</th>\n      <td>9990</td>\n      <td>Skagen</td>\n      <td>[[[10.343131283408797, 57.64543909530037, -999...</td>\n    </tr>\n  </tbody>\n</table>\n<p>805 rows × 3 columns</p>\n</div>"
     },
     "metadata": {},
     "execution_count": 36
    }
   ],
   "source": [
    "with open(r'/Users/louisejensen/Desktop/GitHub/postnumre.geojson') as f:\n",
    "  data = json.load(f)\n",
    "\n",
    "daata = []\n",
    "koor = []\n",
    "test = []\n",
    "\n",
    "for post in data['features']:\n",
    "    daata.append(post['properties'])\n",
    "    koor.append(post['geometry'])\n",
    "\n",
    "test = pd.DataFrame(data = daata)\n",
    "koor = pd.DataFrame(data = koor)\n",
    "test['coordinates'] = koor.iloc[: , 1]\n",
    "#pd.concat([test, test['coordinates'].str.split(', ', expand=True)], axis=1)\n",
    "\n",
    "#Sort the data so we only include the specific postal codes\n",
    "data2 = test.copy()\n",
    "data2.set_index('POSTNR_TXT')\n",
    "data2.sort_values('POSTNR_TXT')\n",
    "#data2.reset_index(inplace=True)\n",
    "\n",
    "#postnr = data2.loc[data2[\"POSTNR_TXT\"] == '1000-1499, 2000]\n",
    "#postnr = data2.iloc[0:15]\n",
    "\n",
    "#print(test)"
   ]
  },
  {
   "cell_type": "code",
   "execution_count": null,
   "metadata": {},
   "outputs": [],
   "source": []
  }
 ],
 "metadata": {
  "kernelspec": {
   "display_name": "Python 3",
   "language": "python",
   "name": "python3"
  },
  "language_info": {
   "codemirror_mode": {
    "name": "ipython",
    "version": 3
   },
   "file_extension": ".py",
   "mimetype": "text/x-python",
   "name": "python",
   "nbconvert_exporter": "python",
   "pygments_lexer": "ipython3",
   "version": "3.7.6-final"
  }
 },
 "nbformat": 4,
 "nbformat_minor": 4
}
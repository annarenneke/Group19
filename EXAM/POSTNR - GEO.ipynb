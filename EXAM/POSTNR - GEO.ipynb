{
 "cells": [
  {
   "cell_type": "markdown",
   "metadata": {},
   "source": [
    "**Map over Copenhagen**"
   ]
  },
  {
   "cell_type": "code",
   "execution_count": 18,
   "metadata": {
    "tags": []
   },
   "outputs": [
    {
     "output_type": "stream",
     "name": "stdout",
     "text": "Collecting geoplot\n  Using cached geoplot-0.4.1-py3-none-any.whl (28 kB)\nCollecting mapclassify>=2.1\n  Downloading mapclassify-2.3.0-py3-none-any.whl (35 kB)\nCollecting cartopy\n  Using cached Cartopy-0.18.0.tar.gz (14.4 MB)\n\u001b[31m    ERROR: Command errored out with exit status 1:\n     command: /opt/anaconda3/bin/python -c 'import sys, setuptools, tokenize; sys.argv[0] = '\"'\"'/private/var/folders/0d/q7gn_6vs0fndms1dv9vx2rdr0000gn/T/pip-install-g2ld225d/cartopy/setup.py'\"'\"'; __file__='\"'\"'/private/var/folders/0d/q7gn_6vs0fndms1dv9vx2rdr0000gn/T/pip-install-g2ld225d/cartopy/setup.py'\"'\"';f=getattr(tokenize, '\"'\"'open'\"'\"', open)(__file__);code=f.read().replace('\"'\"'\\r\\n'\"'\"', '\"'\"'\\n'\"'\"');f.close();exec(compile(code, __file__, '\"'\"'exec'\"'\"'))' egg_info --egg-base /private/var/folders/0d/q7gn_6vs0fndms1dv9vx2rdr0000gn/T/pip-install-g2ld225d/cartopy/pip-egg-info\n         cwd: /private/var/folders/0d/q7gn_6vs0fndms1dv9vx2rdr0000gn/T/pip-install-g2ld225d/cartopy/\n    Complete output (1 lines):\n    Proj 4.9.0 must be installed.\n    ----------------------------------------\u001b[0m\n\u001b[31mERROR: Command errored out with exit status 1: python setup.py egg_info Check the logs for full command output.\u001b[0m\n"
    }
   ],
   "source": [
    "import geopandas as gpd\n",
    "import pandas as pd\n",
    "import matplotlib as plt\n",
    "!pip install geoplot\n",
    "#import geoplot"
   ]
  },
  {
   "cell_type": "code",
   "execution_count": 16,
   "metadata": {
    "tags": []
   },
   "outputs": [
    {
     "output_type": "error",
     "ename": "NameError",
     "evalue": "name 'geoplot' is not defined",
     "traceback": [
      "\u001b[0;31m---------------------------------------------------------------------------\u001b[0m",
      "\u001b[0;31mNameError\u001b[0m                                 Traceback (most recent call last)",
      "\u001b[0;32m<ipython-input-16-a7b299319c8b>\u001b[0m in \u001b[0;36m<module>\u001b[0;34m\u001b[0m\n\u001b[1;32m      7\u001b[0m \u001b[0mpostnr\u001b[0m\u001b[0;34m.\u001b[0m\u001b[0mrename\u001b[0m\u001b[0;34m(\u001b[0m\u001b[0mcolumns\u001b[0m \u001b[0;34m=\u001b[0m \u001b[0;34m{\u001b[0m\u001b[0;34m'postnr_txt'\u001b[0m\u001b[0;34m:\u001b[0m\u001b[0;34m'postnr'\u001b[0m\u001b[0;34m}\u001b[0m\u001b[0;34m,\u001b[0m \u001b[0minplace\u001b[0m \u001b[0;34m=\u001b[0m \u001b[0;32mTrue\u001b[0m\u001b[0;34m)\u001b[0m\u001b[0;34m\u001b[0m\u001b[0;34m\u001b[0m\u001b[0m\n\u001b[1;32m      8\u001b[0m \u001b[0;34m\u001b[0m\u001b[0m\n\u001b[0;32m----> 9\u001b[0;31m \u001b[0mgeoplot\u001b[0m\u001b[0;34m.\u001b[0m\u001b[0mpolyplot\u001b[0m\u001b[0;34m(\u001b[0m\u001b[0mpostnr\u001b[0m\u001b[0;34m,\u001b[0m \u001b[0mfigsize\u001b[0m\u001b[0;34m=\u001b[0m\u001b[0;34m(\u001b[0m\u001b[0;36m8\u001b[0m\u001b[0;34m,\u001b[0m \u001b[0;36m4\u001b[0m\u001b[0;34m)\u001b[0m\u001b[0;34m)\u001b[0m\u001b[0;34m\u001b[0m\u001b[0;34m\u001b[0m\u001b[0m\n\u001b[0m\u001b[1;32m     10\u001b[0m \u001b[0;31m#print(postnr)\u001b[0m\u001b[0;34m\u001b[0m\u001b[0;34m\u001b[0m\u001b[0;34m\u001b[0m\u001b[0m\n\u001b[1;32m     11\u001b[0m \u001b[0;34m\u001b[0m\u001b[0m\n",
      "\u001b[0;31mNameError\u001b[0m: name 'geoplot' is not defined"
     ]
    }
   ],
   "source": [
    "#Henter geo-info om de danske Postnumre\n",
    "url = \"https://raw.githubusercontent.com/ok-dk/dagi/master/geojson/postnumre.geojson\"\n",
    "postnr = gpd.read_file(url)\n",
    "#Set to meter based system\n",
    "postnr.to_crs(epsg = '25832', inplace = True)\n",
    "postnr.columns = postnr.columns.str.lower()\n",
    "postnr.rename(columns = {'postnr_txt':'postnr'}, inplace = True)\n",
    "\n",
    "geoplot.polyplot(postnr, figsize=(8, 4))\n",
    "#print(postnr)\n",
    "\n",
    "\n",
    "#Average score rating per postal code\n"
   ]
  },
  {
   "cell_type": "code",
   "execution_count": null,
   "metadata": {},
   "outputs": [],
   "source": []
  }
 ],
 "metadata": {
  "kernelspec": {
   "name": "python_defaultSpec_1598265368283",
   "display_name": "Python 3.7.6 64-bit ('base': conda)"
  }
 },
 "nbformat": 4,
 "nbformat_minor": 4
}
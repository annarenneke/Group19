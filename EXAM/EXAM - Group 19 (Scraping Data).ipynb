{
 "cells": [
  {
   "cell_type": "code",
   "execution_count": 91,
   "metadata": {
    "tags": []
   },
   "outputs": [
    {
     "name": "stdout",
     "output_type": "stream",
     "text": [
      "POSTNR_TXT      POSTBYNAVN  \\\n",
      "0         2800  Kongens Lyngby   \n",
      "1         6310         Broager   \n",
      "2         4941        Bandholm   \n",
      "3         5985     SÃ¸by Ã†rÃ¸   \n",
      "4         7770       Vestervig   \n",
      "..         ...             ...   \n",
      "800       4654  Faxe Ladeplads   \n",
      "801       6534        Agerskov   \n",
      "802       7330          Brande   \n",
      "803       8450          Hammel   \n",
      "804       3060     EspergÃ¦rde   \n",
      "\n",
      "                                           coordinates  \n",
      "0    [[[12.504553413144006, 55.80083012539309, -999...  \n",
      "1    [[[9.705443781114873, 54.901676343927136, -999...  \n",
      "2    [[[11.42391904564483, 54.84050013907172, -999....  \n",
      "3    [[[10.272472694433407, 54.90163191580138, -999...  \n",
      "4    [[[8.30876097054022, 56.72704465943537, -999.0...  \n",
      "..                                                 ...  \n",
      "800  [[[12.137829575992656, 55.19352451362395, -999...  \n",
      "801  [[[9.145422973889628, 55.09754089356915, -999....  \n",
      "802  [[[9.07094436073763, 55.84453141198094, -999.0...  \n",
      "803  [[[9.897711191733602, 56.21377705766988, -999....  \n",
      "804  [[[12.519373183527009, 55.97693520346551, -999...  \n",
      "\n",
      "[805 rows x 3 columns]\n"
     ]
    }
   ],
   "source": [
    "import json\n",
    "import geojson\n",
    "import pandas as pd\n",
    "\n",
    "with open(r'C:\\Users\\Bruger\\Documents\\GitHub\\dagi\\geojson\\postnumre.geojson') as f:\n",
    "  data = json.load(f)\n",
    "\n",
    "daata = []\n",
    "koor = []\n",
    "test = []\n",
    "\n",
    "for post in data['features']:\n",
    "    daata.append(post['properties'])\n",
    "    koor.append(post['geometry'])\n",
    "\n",
    "test = pd.DataFrame(data = daata)\n",
    "koor = pd.DataFrame(data = koor)\n",
    "test['coordinates'] = koor.iloc[: , 1]\n",
    "#pd.concat([test, test['coordinates'].str.split(', ', expand=True)], axis=1)\n",
    "\n",
    "print(test)"
   ]
  },
  {
   "cell_type": "code",
   "execution_count": null,
   "metadata": {},
   "outputs": [],
   "source": []
  }
 ],
 "metadata": {
  "kernelspec": {
   "display_name": "Python 3",
   "language": "python",
   "name": "python3"
  },
  "language_info": {
   "codemirror_mode": {
    "name": "ipython",
    "version": 3
   },
   "file_extension": ".py",
   "mimetype": "text/x-python",
   "name": "python",
   "nbconvert_exporter": "python",
   "pygments_lexer": "ipython3",
   "version": "3.7.6"
  }
 },
 "nbformat": 4,
 "nbformat_minor": 4
}

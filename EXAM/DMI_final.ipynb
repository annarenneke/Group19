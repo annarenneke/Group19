{
 "cells": [
  {
   "cell_type": "code",
   "execution_count": 9,
   "metadata": {},
   "outputs": [],
   "source": [
    "#Importing packages\n",
    "import requests\n",
    "import pandas as pd\n",
    "import matplotlib.pyplot as plt\n",
    "plt.style.use('seaborn-whitegrid')"
   ]
  },
  {
   "cell_type": "code",
   "execution_count": 10,
   "metadata": {},
   "outputs": [],
   "source": [
    "#DMI requires a personal key to access their API\n",
    "api_key = '12a4bffe-21d5-4154-96e5-12bf959cc1dd'"
   ]
  },
  {
   "cell_type": "code",
   "execution_count": 11,
   "metadata": {},
   "outputs": [],
   "source": [
    "#Defining URL for the API\n",
    "url = 'https://dmigw.govcloud.dk/metObs/v1/observation'"
   ]
  },
  {
   "cell_type": "code",
   "execution_count": 12,
   "metadata": {},
   "outputs": [
    {
     "name": "stderr",
     "output_type": "stream",
     "text": [
      "/opt/anaconda3/lib/python3.7/site-packages/ipykernel_launcher.py:2: FutureWarning: The pandas.datetime class is deprecated and will be removed from pandas in a future version. Import from datetime module instead.\n",
      "  \n",
      "/opt/anaconda3/lib/python3.7/site-packages/ipykernel_launcher.py:3: FutureWarning: The pandas.datetime class is deprecated and will be removed from pandas in a future version. Import from datetime module instead.\n",
      "  This is separate from the ipykernel package so we can avoid doing imports until\n"
     ]
    },
    {
     "name": "stdout",
     "output_type": "stream",
     "text": [
      "<Response [200]> https://dmigw.govcloud.dk/metObs/v1/observation?api-key=12a4bffe-21d5-4154-96e5-12bf959cc1dd&from=1514764800000000&to=1598175085394643&stationId=06184&parameterId=temp_dry&limit=1000000\n"
     ]
    }
   ],
   "source": [
    "#Defining data period\n",
    "end_time = pd.datetime.today()\n",
    "start_time = pd.datetime(2018,1,1)\n",
    "\n",
    "#Creates function that convertes datetime objects to Unix microsecond string\n",
    "def date_time(dt):\n",
    "    '''\n",
    "    Function convertes datetime objects to Unix microsecond string\n",
    "    '''\n",
    "    return str(int(pd.to_datetime(dt).value*10**-3))\n",
    "\n",
    "#Specifying query parameters: \n",
    "#Personal API-key, data period by using our function, stationId (06185 is the DMI station at Østerbro, Kbh), \n",
    "#parameterId (temp_dry is \"Present air temperature measured 2 m over terrain every 10 min\") and finally the limit\n",
    "#which should be more than 6*24*(365+365+235)=138960 (incl. 22 of august)\n",
    "params = {'api-key' : api_key,\n",
    "          'from' : date_time(start_time),\n",
    "          'to' : date_time(end_time),\n",
    "          'stationId' : '06184',\n",
    "          'parameterId' : 'temp_dry',\n",
    "          'limit' : '1000000',\n",
    "          }\n",
    "#Requests and gets URL for the chosen query parameters.\n",
    "r = requests.get(url, params=params)\n",
    "print(r, r.url)"
   ]
  },
  {
   "cell_type": "code",
   "execution_count": 19,
   "metadata": {},
   "outputs": [
    {
     "data": {
      "text/html": [
       "<div>\n",
       "<style scoped>\n",
       "    .dataframe tbody tr th:only-of-type {\n",
       "        vertical-align: middle;\n",
       "    }\n",
       "\n",
       "    .dataframe tbody tr th {\n",
       "        vertical-align: top;\n",
       "    }\n",
       "\n",
       "    .dataframe thead th {\n",
       "        text-align: right;\n",
       "    }\n",
       "</style>\n",
       "<table border=\"1\" class=\"dataframe\">\n",
       "  <thead>\n",
       "    <tr style=\"text-align: right;\">\n",
       "      <th></th>\n",
       "      <th>parameterId</th>\n",
       "      <th>stationId</th>\n",
       "      <th>value</th>\n",
       "      <th>time</th>\n",
       "    </tr>\n",
       "    <tr>\n",
       "      <th>time</th>\n",
       "      <th></th>\n",
       "      <th></th>\n",
       "      <th></th>\n",
       "      <th></th>\n",
       "    </tr>\n",
       "  </thead>\n",
       "  <tbody>\n",
       "    <tr>\n",
       "      <th>2020-08-23 07:30:00</th>\n",
       "      <td>temp_dry</td>\n",
       "      <td>06184</td>\n",
       "      <td>19.1</td>\n",
       "      <td>2020-08-23 07:30:00</td>\n",
       "    </tr>\n",
       "    <tr>\n",
       "      <th>2020-08-23 07:20:00</th>\n",
       "      <td>temp_dry</td>\n",
       "      <td>06184</td>\n",
       "      <td>19.4</td>\n",
       "      <td>2020-08-23 07:20:00</td>\n",
       "    </tr>\n",
       "    <tr>\n",
       "      <th>2020-08-23 07:10:00</th>\n",
       "      <td>temp_dry</td>\n",
       "      <td>06184</td>\n",
       "      <td>19.4</td>\n",
       "      <td>2020-08-23 07:10:00</td>\n",
       "    </tr>\n",
       "    <tr>\n",
       "      <th>2020-08-23 07:00:00</th>\n",
       "      <td>temp_dry</td>\n",
       "      <td>06184</td>\n",
       "      <td>18.6</td>\n",
       "      <td>2020-08-23 07:00:00</td>\n",
       "    </tr>\n",
       "    <tr>\n",
       "      <th>2020-08-23 06:50:00</th>\n",
       "      <td>temp_dry</td>\n",
       "      <td>06184</td>\n",
       "      <td>18.5</td>\n",
       "      <td>2020-08-23 06:50:00</td>\n",
       "    </tr>\n",
       "    <tr>\n",
       "      <th>...</th>\n",
       "      <td>...</td>\n",
       "      <td>...</td>\n",
       "      <td>...</td>\n",
       "      <td>...</td>\n",
       "    </tr>\n",
       "    <tr>\n",
       "      <th>2018-01-01 00:40:00</th>\n",
       "      <td>temp_dry</td>\n",
       "      <td>06184</td>\n",
       "      <td>7.6</td>\n",
       "      <td>2018-01-01 00:40:00</td>\n",
       "    </tr>\n",
       "    <tr>\n",
       "      <th>2018-01-01 00:30:00</th>\n",
       "      <td>temp_dry</td>\n",
       "      <td>06184</td>\n",
       "      <td>7.6</td>\n",
       "      <td>2018-01-01 00:30:00</td>\n",
       "    </tr>\n",
       "    <tr>\n",
       "      <th>2018-01-01 00:20:00</th>\n",
       "      <td>temp_dry</td>\n",
       "      <td>06184</td>\n",
       "      <td>7.6</td>\n",
       "      <td>2018-01-01 00:20:00</td>\n",
       "    </tr>\n",
       "    <tr>\n",
       "      <th>2018-01-01 00:10:00</th>\n",
       "      <td>temp_dry</td>\n",
       "      <td>06184</td>\n",
       "      <td>7.7</td>\n",
       "      <td>2018-01-01 00:10:00</td>\n",
       "    </tr>\n",
       "    <tr>\n",
       "      <th>2018-01-01 00:00:00</th>\n",
       "      <td>temp_dry</td>\n",
       "      <td>06184</td>\n",
       "      <td>7.8</td>\n",
       "      <td>2018-01-01 00:00:00</td>\n",
       "    </tr>\n",
       "  </tbody>\n",
       "</table>\n",
       "<p>138196 rows × 4 columns</p>\n",
       "</div>"
      ],
      "text/plain": [
       "                    parameterId stationId  value                time\n",
       "time                                                                \n",
       "2020-08-23 07:30:00    temp_dry     06184   19.1 2020-08-23 07:30:00\n",
       "2020-08-23 07:20:00    temp_dry     06184   19.4 2020-08-23 07:20:00\n",
       "2020-08-23 07:10:00    temp_dry     06184   19.4 2020-08-23 07:10:00\n",
       "2020-08-23 07:00:00    temp_dry     06184   18.6 2020-08-23 07:00:00\n",
       "2020-08-23 06:50:00    temp_dry     06184   18.5 2020-08-23 06:50:00\n",
       "...                         ...       ...    ...                 ...\n",
       "2018-01-01 00:40:00    temp_dry     06184    7.6 2018-01-01 00:40:00\n",
       "2018-01-01 00:30:00    temp_dry     06184    7.6 2018-01-01 00:30:00\n",
       "2018-01-01 00:20:00    temp_dry     06184    7.6 2018-01-01 00:20:00\n",
       "2018-01-01 00:10:00    temp_dry     06184    7.7 2018-01-01 00:10:00\n",
       "2018-01-01 00:00:00    temp_dry     06184    7.8 2018-01-01 00:00:00\n",
       "\n",
       "[138196 rows x 4 columns]"
      ]
     },
     "execution_count": 19,
     "metadata": {},
     "output_type": "execute_result"
    }
   ],
   "source": [
    "#Extracting JSON\n",
    "json = r.json()\n",
    "\n",
    "#Convertes JSON to Pandas DataFrame\n",
    "df = pd.DataFrame(json)\n",
    "\n",
    "#Creates time varaible with format YYYY-MM-DD HH:MM:SS\n",
    "df['time'] = pd.to_datetime(df['timeObserved'], unit='us')\n",
    "\n",
    "#Drop irrelevant variables\n",
    "df = df.drop(['_id', 'timeCreated', 'timeObserved'], axis=1)\n",
    "\n",
    "#Index the time variables\n",
    "df.index = df['time']\n",
    "df"
   ]
  },
  {
   "cell_type": "code",
   "execution_count": 14,
   "metadata": {},
   "outputs": [
    {
     "data": {
      "text/html": [
       "<div>\n",
       "<style scoped>\n",
       "    .dataframe tbody tr th:only-of-type {\n",
       "        vertical-align: middle;\n",
       "    }\n",
       "\n",
       "    .dataframe tbody tr th {\n",
       "        vertical-align: top;\n",
       "    }\n",
       "\n",
       "    .dataframe thead th {\n",
       "        text-align: right;\n",
       "    }\n",
       "</style>\n",
       "<table border=\"1\" class=\"dataframe\">\n",
       "  <thead>\n",
       "    <tr style=\"text-align: right;\">\n",
       "      <th></th>\n",
       "      <th>parameterId</th>\n",
       "      <th>stationId</th>\n",
       "      <th>value</th>\n",
       "      <th>time</th>\n",
       "      <th>date</th>\n",
       "    </tr>\n",
       "    <tr>\n",
       "      <th>time</th>\n",
       "      <th></th>\n",
       "      <th></th>\n",
       "      <th></th>\n",
       "      <th></th>\n",
       "      <th></th>\n",
       "    </tr>\n",
       "  </thead>\n",
       "  <tbody>\n",
       "    <tr>\n",
       "      <th>2020-08-23 07:30:00</th>\n",
       "      <td>temp_dry</td>\n",
       "      <td>06184</td>\n",
       "      <td>19.1</td>\n",
       "      <td>2020-08-23 07:30:00</td>\n",
       "      <td>2020-08-23</td>\n",
       "    </tr>\n",
       "    <tr>\n",
       "      <th>2020-08-23 07:20:00</th>\n",
       "      <td>temp_dry</td>\n",
       "      <td>06184</td>\n",
       "      <td>19.4</td>\n",
       "      <td>2020-08-23 07:20:00</td>\n",
       "      <td>2020-08-23</td>\n",
       "    </tr>\n",
       "    <tr>\n",
       "      <th>2020-08-23 07:10:00</th>\n",
       "      <td>temp_dry</td>\n",
       "      <td>06184</td>\n",
       "      <td>19.4</td>\n",
       "      <td>2020-08-23 07:10:00</td>\n",
       "      <td>2020-08-23</td>\n",
       "    </tr>\n",
       "    <tr>\n",
       "      <th>2020-08-23 07:00:00</th>\n",
       "      <td>temp_dry</td>\n",
       "      <td>06184</td>\n",
       "      <td>18.6</td>\n",
       "      <td>2020-08-23 07:00:00</td>\n",
       "      <td>2020-08-23</td>\n",
       "    </tr>\n",
       "    <tr>\n",
       "      <th>2020-08-23 06:50:00</th>\n",
       "      <td>temp_dry</td>\n",
       "      <td>06184</td>\n",
       "      <td>18.5</td>\n",
       "      <td>2020-08-23 06:50:00</td>\n",
       "      <td>2020-08-23</td>\n",
       "    </tr>\n",
       "    <tr>\n",
       "      <th>...</th>\n",
       "      <td>...</td>\n",
       "      <td>...</td>\n",
       "      <td>...</td>\n",
       "      <td>...</td>\n",
       "      <td>...</td>\n",
       "    </tr>\n",
       "    <tr>\n",
       "      <th>2018-01-01 00:40:00</th>\n",
       "      <td>temp_dry</td>\n",
       "      <td>06184</td>\n",
       "      <td>7.6</td>\n",
       "      <td>2018-01-01 00:40:00</td>\n",
       "      <td>2018-01-01</td>\n",
       "    </tr>\n",
       "    <tr>\n",
       "      <th>2018-01-01 00:30:00</th>\n",
       "      <td>temp_dry</td>\n",
       "      <td>06184</td>\n",
       "      <td>7.6</td>\n",
       "      <td>2018-01-01 00:30:00</td>\n",
       "      <td>2018-01-01</td>\n",
       "    </tr>\n",
       "    <tr>\n",
       "      <th>2018-01-01 00:20:00</th>\n",
       "      <td>temp_dry</td>\n",
       "      <td>06184</td>\n",
       "      <td>7.6</td>\n",
       "      <td>2018-01-01 00:20:00</td>\n",
       "      <td>2018-01-01</td>\n",
       "    </tr>\n",
       "    <tr>\n",
       "      <th>2018-01-01 00:10:00</th>\n",
       "      <td>temp_dry</td>\n",
       "      <td>06184</td>\n",
       "      <td>7.7</td>\n",
       "      <td>2018-01-01 00:10:00</td>\n",
       "      <td>2018-01-01</td>\n",
       "    </tr>\n",
       "    <tr>\n",
       "      <th>2018-01-01 00:00:00</th>\n",
       "      <td>temp_dry</td>\n",
       "      <td>06184</td>\n",
       "      <td>7.8</td>\n",
       "      <td>2018-01-01 00:00:00</td>\n",
       "      <td>2018-01-01</td>\n",
       "    </tr>\n",
       "  </tbody>\n",
       "</table>\n",
       "<p>138196 rows × 5 columns</p>\n",
       "</div>"
      ],
      "text/plain": [
       "                    parameterId stationId  value                time  \\\n",
       "time                                                                   \n",
       "2020-08-23 07:30:00    temp_dry     06184   19.1 2020-08-23 07:30:00   \n",
       "2020-08-23 07:20:00    temp_dry     06184   19.4 2020-08-23 07:20:00   \n",
       "2020-08-23 07:10:00    temp_dry     06184   19.4 2020-08-23 07:10:00   \n",
       "2020-08-23 07:00:00    temp_dry     06184   18.6 2020-08-23 07:00:00   \n",
       "2020-08-23 06:50:00    temp_dry     06184   18.5 2020-08-23 06:50:00   \n",
       "...                         ...       ...    ...                 ...   \n",
       "2018-01-01 00:40:00    temp_dry     06184    7.6 2018-01-01 00:40:00   \n",
       "2018-01-01 00:30:00    temp_dry     06184    7.6 2018-01-01 00:30:00   \n",
       "2018-01-01 00:20:00    temp_dry     06184    7.6 2018-01-01 00:20:00   \n",
       "2018-01-01 00:10:00    temp_dry     06184    7.7 2018-01-01 00:10:00   \n",
       "2018-01-01 00:00:00    temp_dry     06184    7.8 2018-01-01 00:00:00   \n",
       "\n",
       "                           date  \n",
       "time                             \n",
       "2020-08-23 07:30:00  2020-08-23  \n",
       "2020-08-23 07:20:00  2020-08-23  \n",
       "2020-08-23 07:10:00  2020-08-23  \n",
       "2020-08-23 07:00:00  2020-08-23  \n",
       "2020-08-23 06:50:00  2020-08-23  \n",
       "...                         ...  \n",
       "2018-01-01 00:40:00  2018-01-01  \n",
       "2018-01-01 00:30:00  2018-01-01  \n",
       "2018-01-01 00:20:00  2018-01-01  \n",
       "2018-01-01 00:10:00  2018-01-01  \n",
       "2018-01-01 00:00:00  2018-01-01  \n",
       "\n",
       "[138196 rows x 5 columns]"
      ]
     },
     "execution_count": 14,
     "metadata": {},
     "output_type": "execute_result"
    }
   ],
   "source": [
    "#Creates date variable with format YYYY-MM-DD\n",
    "df['date']=df.time.astype(str).str[:10]\n",
    "df"
   ]
  },
  {
   "cell_type": "code",
   "execution_count": 15,
   "metadata": {},
   "outputs": [
    {
     "data": {
      "text/plain": [
       "date\n",
       "2018-01-01     6.401389\n",
       "2018-01-02     5.265278\n",
       "2018-01-03     4.591667\n",
       "2018-01-04     3.515278\n",
       "2018-01-05     3.217361\n",
       "                ...    \n",
       "2020-08-19    20.031250\n",
       "2020-08-20    20.424306\n",
       "2020-08-21    20.572917\n",
       "2020-08-22    21.059028\n",
       "2020-08-23    17.308696\n",
       "Name: value, Length: 966, dtype: float64"
      ]
     },
     "execution_count": 15,
     "metadata": {},
     "output_type": "execute_result"
    }
   ],
   "source": [
    "#Calculates dayly average\n",
    "mean=df.groupby('date')['value'].mean().copy()\n",
    "mean"
   ]
  },
  {
   "cell_type": "code",
   "execution_count": 16,
   "metadata": {},
   "outputs": [
    {
     "data": {
      "image/png": "[encoded data removed]",
      "text/plain": [
       "<Figure size 432x288 with 1 Axes>"
      ]
     },
     "metadata": {},
     "output_type": "display_data"
    }
   ],
   "source": [
    "#Generate plot of data - dayly average\n",
    "avg_temp = df.groupby('date')['value'].agg('mean')\n",
    "avg_temp.plot()\n",
    "plt.show()"
   ]
  },
  {
   "cell_type": "code",
   "execution_count": 17,
   "metadata": {
    "scrolled": true
   },
   "outputs": [
    {
     "data": {
      "text/plain": [
       "Text(0.5, 0, '')"
      ]
     },
     "execution_count": 17,
     "metadata": {},
     "output_type": "execute_result"
    },
    {
     "data": {
      "image/png": "[encoded data removed]",
      "text/plain": [
       "<Figure size 864x504 with 1 Axes>"
      ]
     },
     "metadata": {},
     "output_type": "display_data"
    }
   ],
   "source": [
    "#Deletes data duplicates\n",
    "df2 = df.set_index(['time', 'parameterId']).drop_duplicates().unstack(level=-1)['value'].copy()\n",
    "\n",
    "#Generate plot of data - 10 min\n",
    "ax = df2['temp_dry'].interpolate().plot(figsize=(12,7), legend=False, fontsize=12, subplots=True)\n",
    "ax[0].set_ylabel('Air temperature [$^\\circ$C]', size=12)\n",
    "ax[0].set_xlabel('', size=12)"
   ]
  }
 ],
 "metadata": {
  "kernelspec": {
   "display_name": "Python 3",
   "language": "python",
   "name": "python3"
  },
  "language_info": {
   "codemirror_mode": {
    "name": "ipython",
    "version": 3
   },
   "file_extension": ".py",
   "mimetype": "text/x-python",
   "name": "python",
   "nbconvert_exporter": "python",
   "pygments_lexer": "ipython3",
   "version": "3.7.6"
  }
 },
 "nbformat": 4,
 "nbformat_minor": 4
}

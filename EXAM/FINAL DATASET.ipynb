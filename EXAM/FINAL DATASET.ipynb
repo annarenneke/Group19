{
 "cells": [
  {
   "cell_type": "code",
   "execution_count": 3,
   "metadata": {},
   "outputs": [],
   "source": [
    "import pandas as pd\n",
    "import numpy as np"
   ]
  },
  {
   "cell_type": "code",
   "execution_count": 9,
   "metadata": {
    "tags": []
   },
   "outputs": [
    {
     "output_type": "execute_result",
     "data": {
      "text/plain": "         rest_name  rest_rating  year month     date\n0  Lomos Food Shop            5  2017    04  2017-04\n1  Lomos Food Shop            4  2017    02  2017-02\n2  Lomos Food Shop            4  2017    02  2017-02\n3  Lomos Food Shop            5  2016    11  2016-11\n4  Lomos Food Shop            5  2016    12  2016-12",
      "text/html": "<div>\n<style scoped>\n    .dataframe tbody tr th:only-of-type {\n        vertical-align: middle;\n    }\n\n    .dataframe tbody tr th {\n        vertical-align: top;\n    }\n\n    .dataframe thead th {\n        text-align: right;\n    }\n</style>\n<table border=\"1\" class=\"dataframe\">\n  <thead>\n    <tr style=\"text-align: right;\">\n      <th></th>\n      <th>rest_name</th>\n      <th>rest_rating</th>\n      <th>year</th>\n      <th>month</th>\n      <th>date</th>\n    </tr>\n  </thead>\n  <tbody>\n    <tr>\n      <td>0</td>\n      <td>Lomos Food Shop</td>\n      <td>5</td>\n      <td>2017</td>\n      <td>04</td>\n      <td>2017-04</td>\n    </tr>\n    <tr>\n      <td>1</td>\n      <td>Lomos Food Shop</td>\n      <td>4</td>\n      <td>2017</td>\n      <td>02</td>\n      <td>2017-02</td>\n    </tr>\n    <tr>\n      <td>2</td>\n      <td>Lomos Food Shop</td>\n      <td>4</td>\n      <td>2017</td>\n      <td>02</td>\n      <td>2017-02</td>\n    </tr>\n    <tr>\n      <td>3</td>\n      <td>Lomos Food Shop</td>\n      <td>5</td>\n      <td>2016</td>\n      <td>11</td>\n      <td>2016-11</td>\n    </tr>\n    <tr>\n      <td>4</td>\n      <td>Lomos Food Shop</td>\n      <td>5</td>\n      <td>2016</td>\n      <td>12</td>\n      <td>2016-12</td>\n    </tr>\n  </tbody>\n</table>\n</div>"
     },
     "metadata": {},
     "execution_count": 9
    }
   ],
   "source": [
    "df = pd.read_csv(r'C:\\Users\\Bruger\\Documents\\GitHub\\Group19\\EXAM\\LOL\\rest_rates_rating_BRUG.csv' , sep = ';')\n",
    "\n",
    "df['rest_rating'] = df['rest_rates_rating;month_year'].astype(str).str[37:38]\n",
    "df['month_year'] = df['rest_rates_rating;month_year'].astype(str).str[49:]\n",
    "df['year'] = df['month_year'].astype(str).str[-4:]\n",
    "df['month'] = df['month_year'].astype(str).str[:-4]\n",
    "\n",
    "df = df.loc[: , ['rest_name' , 'rest_rating' , 'year' , 'month']]\n",
    "\n",
    "j = ['januar' , 'februar' , 'marts' , 'april' , 'maj' , 'juni' , 'juli' , 'august' , 'september' , 'oktober' , 'november' , 'december']\n",
    "k=['01' , '02' , '03' , '04' , '05' , '06' , '07' , '08' , '09' , '10' , '11' , '12']\n",
    "df['month2']=df['month']\n",
    "#vi replacer så vi ikke har variabel med  ]\n",
    "df['month2'].replace(j, k, inplace=True)\n",
    "\n",
    "df['rest_rating'] = pd.to_numeric(df['rest_rating'])\n",
    "\n",
    "#df2 = df.copy()\n",
    "\n",
    "df = df.loc[(df['year'] != '\"\">\"')]\n",
    "\n",
    "#df['year'] = pd.to_numeric(df['year'])\n",
    "#df['month2'] = pd.to_numeric(df['month2'])\n",
    "df['month'] = df['month2']\n",
    "df = df.iloc[: , :-1]\n",
    "\n",
    "df['date'] = df.year + '-' + df.month\n",
    "\n",
    "\n",
    "df.head()\n"
   ]
  },
  {
   "cell_type": "code",
   "execution_count": 10,
   "metadata": {},
   "outputs": [],
   "source": [
    "#Indlæser DMI data\n",
    "df_weather = pd.read_csv(r'C:\\Users\\Bruger\\Documents\\GitHub\\Group19\\EXAM\\dmi_join_rdy.csv')\n",
    "df_weather\n",
    "\n",
    "#Joining datasets\n",
    "\n",
    "df = df.join(df_weather.set_index('date'), on='date')\n",
    "\n"
   ]
  }
 ],
 "metadata": {
  "kernelspec": {
   "name": "python37464bitbaseconda9d688960b6cd49efa67beae88550422e",
   "display_name": "Python 3.7.4 64-bit ('base': conda)"
  }
 },
 "nbformat": 4,
 "nbformat_minor": 4
}
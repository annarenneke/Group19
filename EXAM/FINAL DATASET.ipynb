{
 "cells": [
  {
   "cell_type": "code",
   "execution_count": 3,
   "metadata": {},
   "outputs": [],
   "source": [
    "import pandas as pd\n",
    "import numpy as np"
   ]
  },
  {
   "cell_type": "code",
   "execution_count": 5,
   "metadata": {
    "tags": []
   },
   "outputs": [
    {
     "output_type": "execute_result",
     "data": {
      "text/plain": "         rest_name  rest_rating  year month     date\n0  Lomos Food Shop            5  2017    04  2017-04\n1  Lomos Food Shop            4  2017    02  2017-02\n2  Lomos Food Shop            4  2017    02  2017-02\n3  Lomos Food Shop            5  2016    11  2016-11\n4  Lomos Food Shop            5  2016    12  2016-12",
      "text/html": "<div>\n<style scoped>\n    .dataframe tbody tr th:only-of-type {\n        vertical-align: middle;\n    }\n\n    .dataframe tbody tr th {\n        vertical-align: top;\n    }\n\n    .dataframe thead th {\n        text-align: right;\n    }\n</style>\n<table border=\"1\" class=\"dataframe\">\n  <thead>\n    <tr style=\"text-align: right;\">\n      <th></th>\n      <th>rest_name</th>\n      <th>rest_rating</th>\n      <th>year</th>\n      <th>month</th>\n      <th>date</th>\n    </tr>\n  </thead>\n  <tbody>\n    <tr>\n      <td>0</td>\n      <td>Lomos Food Shop</td>\n      <td>5</td>\n      <td>2017</td>\n      <td>04</td>\n      <td>2017-04</td>\n    </tr>\n    <tr>\n      <td>1</td>\n      <td>Lomos Food Shop</td>\n      <td>4</td>\n      <td>2017</td>\n      <td>02</td>\n      <td>2017-02</td>\n    </tr>\n    <tr>\n      <td>2</td>\n      <td>Lomos Food Shop</td>\n      <td>4</td>\n      <td>2017</td>\n      <td>02</td>\n      <td>2017-02</td>\n    </tr>\n    <tr>\n      <td>3</td>\n      <td>Lomos Food Shop</td>\n      <td>5</td>\n      <td>2016</td>\n      <td>11</td>\n      <td>2016-11</td>\n    </tr>\n    <tr>\n      <td>4</td>\n      <td>Lomos Food Shop</td>\n      <td>5</td>\n      <td>2016</td>\n      <td>12</td>\n      <td>2016-12</td>\n    </tr>\n  </tbody>\n</table>\n</div>"
     },
     "metadata": {},
     "execution_count": 5
    }
   ],
   "source": [
    "df = pd.read_csv(r'rest_rates_rating_BRUG.csv' , sep = ';')\n",
    "\n",
    "df['rest_rating'] = df['rest_rates_rating;month_year'].astype(str).str[37:38]\n",
    "df['month_year'] = df['rest_rates_rating;month_year'].astype(str).str[49:]\n",
    "df['year'] = df['month_year'].astype(str).str[-4:]\n",
    "df['month'] = df['month_year'].astype(str).str[:-4]\n",
    "\n",
    "df = df.loc[: , ['rest_name' , 'rest_rating' , 'year' , 'month']]\n",
    "\n",
    "j = ['januar' , 'februar' , 'marts' , 'april' , 'maj' , 'juni' , 'juli' , 'august' , 'september' , 'oktober' , 'november' , 'december']\n",
    "k=['01' , '02' , '03' , '04' , '05' , '06' , '07' , '08' , '09' , '10' , '11' , '12']\n",
    "df['month2']=df['month']\n",
    "#vi replacer så vi ikke har variabel med  ]\n",
    "df['month2'].replace(j, k, inplace=True)\n",
    "\n",
    "df['rest_rating'] = pd.to_numeric(df['rest_rating'])\n",
    "\n",
    "#df2 = df.copy()\n",
    "\n",
    "df = df.loc[(df['year'] != '\"\">\"')]\n",
    "\n",
    "#df['year'] = pd.to_numeric(df['year'])\n",
    "#df['month2'] = pd.to_numeric(df['month2'])\n",
    "df['month'] = df['month2']\n",
    "df = df.iloc[: , :-1]\n",
    "\n",
    "df['date'] = df.year + '-' + df.month\n",
    "\n",
    "\n",
    "df.head()\n"
   ]
  },
  {
   "cell_type": "code",
   "execution_count": 6,
   "metadata": {},
   "outputs": [
    {
     "output_type": "execute_result",
     "data": {
      "text/plain": "             rest_name  rest_rating  year month     date      value\n0      Lomos Food Shop            5  2017    04  2017-04   7.143611\n1      Lomos Food Shop            4  2017    02  2017-02   2.414839\n2      Lomos Food Shop            4  2017    02  2017-02   2.414839\n3      Lomos Food Shop            5  2016    11  2016-11   4.801204\n4      Lomos Food Shop            5  2016    12  2016-12   4.892359\n...                ...          ...   ...   ...      ...        ...\n89027       Kardemomme            5  2016    03  2016-03   4.381023\n89028       Kardemomme            4  2015    09  2015-09  14.370063\n89029       Kardemomme            4  2015    08  2015-08  18.730390\n89030       Kardemomme            2  2014    03  2014-03   6.394351\n89031       Kardemomme            4  2012    12  2012-12   0.865009\n\n[85434 rows x 6 columns]",
      "text/html": "<div>\n<style scoped>\n    .dataframe tbody tr th:only-of-type {\n        vertical-align: middle;\n    }\n\n    .dataframe tbody tr th {\n        vertical-align: top;\n    }\n\n    .dataframe thead th {\n        text-align: right;\n    }\n</style>\n<table border=\"1\" class=\"dataframe\">\n  <thead>\n    <tr style=\"text-align: right;\">\n      <th></th>\n      <th>rest_name</th>\n      <th>rest_rating</th>\n      <th>year</th>\n      <th>month</th>\n      <th>date</th>\n      <th>value</th>\n    </tr>\n  </thead>\n  <tbody>\n    <tr>\n      <td>0</td>\n      <td>Lomos Food Shop</td>\n      <td>5</td>\n      <td>2017</td>\n      <td>04</td>\n      <td>2017-04</td>\n      <td>7.143611</td>\n    </tr>\n    <tr>\n      <td>1</td>\n      <td>Lomos Food Shop</td>\n      <td>4</td>\n      <td>2017</td>\n      <td>02</td>\n      <td>2017-02</td>\n      <td>2.414839</td>\n    </tr>\n    <tr>\n      <td>2</td>\n      <td>Lomos Food Shop</td>\n      <td>4</td>\n      <td>2017</td>\n      <td>02</td>\n      <td>2017-02</td>\n      <td>2.414839</td>\n    </tr>\n    <tr>\n      <td>3</td>\n      <td>Lomos Food Shop</td>\n      <td>5</td>\n      <td>2016</td>\n      <td>11</td>\n      <td>2016-11</td>\n      <td>4.801204</td>\n    </tr>\n    <tr>\n      <td>4</td>\n      <td>Lomos Food Shop</td>\n      <td>5</td>\n      <td>2016</td>\n      <td>12</td>\n      <td>2016-12</td>\n      <td>4.892359</td>\n    </tr>\n    <tr>\n      <td>...</td>\n      <td>...</td>\n      <td>...</td>\n      <td>...</td>\n      <td>...</td>\n      <td>...</td>\n      <td>...</td>\n    </tr>\n    <tr>\n      <td>89027</td>\n      <td>Kardemomme</td>\n      <td>5</td>\n      <td>2016</td>\n      <td>03</td>\n      <td>2016-03</td>\n      <td>4.381023</td>\n    </tr>\n    <tr>\n      <td>89028</td>\n      <td>Kardemomme</td>\n      <td>4</td>\n      <td>2015</td>\n      <td>09</td>\n      <td>2015-09</td>\n      <td>14.370063</td>\n    </tr>\n    <tr>\n      <td>89029</td>\n      <td>Kardemomme</td>\n      <td>4</td>\n      <td>2015</td>\n      <td>08</td>\n      <td>2015-08</td>\n      <td>18.730390</td>\n    </tr>\n    <tr>\n      <td>89030</td>\n      <td>Kardemomme</td>\n      <td>2</td>\n      <td>2014</td>\n      <td>03</td>\n      <td>2014-03</td>\n      <td>6.394351</td>\n    </tr>\n    <tr>\n      <td>89031</td>\n      <td>Kardemomme</td>\n      <td>4</td>\n      <td>2012</td>\n      <td>12</td>\n      <td>2012-12</td>\n      <td>0.865009</td>\n    </tr>\n  </tbody>\n</table>\n<p>85434 rows × 6 columns</p>\n</div>"
     },
     "metadata": {},
     "execution_count": 6
    }
   ],
   "source": [
    "#Indlæser DMI data\n",
    "df_weather = pd.read_csv(r'dmi_join_rdy.csv')\n",
    "df_weather\n",
    "\n",
    "#Joining datasets\n",
    "\n",
    "df = df.join(df_weather.set_index('date'), on='date')\n",
    "\n",
    "df"
   ]
  },
  {
   "cell_type": "code",
   "execution_count": 7,
   "metadata": {},
   "outputs": [
    {
     "output_type": "execute_result",
     "data": {
      "text/plain": "      Unnamed: 0  Unnamed: 0.1  \\\n0              0           931   \n1              1           607   \n2              2           363   \n3              3          1276   \n4              4          1645   \n...          ...           ...   \n1148        1148           678   \n1149        1149           754   \n1150        1150           278   \n1151        1151           938   \n1152        1152           428   \n\n                                                  links  \\\n0     https://www.tripadvisor.dk/Restaurant_Review-g...   \n1     https://www.tripadvisor.dk/Restaurant_Review-g...   \n2     https://www.tripadvisor.dk/Restaurant_Review-g...   \n3     https://www.tripadvisor.dk/Restaurant_Review-g...   \n4     https://www.tripadvisor.dk/Restaurant_Review-g...   \n...                                                 ...   \n1148  https://www.tripadvisor.dk/Restaurant_Review-g...   \n1149  https://www.tripadvisor.dk/Restaurant_Review-g...   \n1150  https://www.tripadvisor.dk/Restaurant_Review-g...   \n1151  https://www.tripadvisor.dk/Restaurant_Review-g...   \n1152  https://www.tripadvisor.dk/Restaurant_Review-g...   \n\n                                 rest_name  \\\n0                          Lomos Food Shop   \n1                      Rossopomodoro Illum   \n2     Skagen Fiskerestaurant Illum Rooftop   \n3                             The Bagel Co   \n4                            Rio Temakeria   \n...                                    ...   \n1148                              Madhus24   \n1149              Trattoria Campo De Fiori   \n1150                            Altopalato   \n1151                            Kardemomme   \n1152                        Sticks'n'Sushi   \n\n                                          rest_location  rest_rating_aggr  \\\n0               Holbergsgade 17, København 1000 Danmark               4.5   \n1            Ostergade 52 Illum, København 1001 Danmark               3.5   \n2          Oestergade 52 4. Sal, København 1001 Danmark               4.0   \n3                  Ostergade 52, København 1001 Danmark               4.0   \n4     Østergade 52 Illum rooftop, København 1001 Dan...               4.5   \n...                                                 ...               ...   \n1148        Søborg Hovedgade 24, København 2870 Danmark               4.0   \n1149       Soeborg Hovedgade 12, København 2870 Danmark               4.0   \n1150  Duntzfelts Alle 3 Hellerup, København 2900 Dan...               4.5   \n1151             Maglemosevej 1, København 2900 Danmark               4.0   \n1152            Strandvejen 199, København 2900 Danmark               4.0   \n\n         rest_cuisine rest_cuisine_2     rest_cuisine_3  rest_no_review  \\\n0           Europæisk         Dansk]                NaN            48.0   \n1           Italiensk          Pizza  Middelhavsområdet           315.0   \n2     Fisk og skaldyr      Europæisk       Skandinavisk           219.0   \n3      Vegetarvenlig]            NaN                NaN            27.0   \n4             Japansk    Brasiliansk    Fisk og skaldyr            13.0   \n...               ...            ...                ...             ...   \n1148             Café      Europæisk       Skandinavisk            60.0   \n1149        Italiensk     Europæisk]                NaN            51.0   \n1150        Italiensk      Europæisk      Vegetarvenlig           139.0   \n1151           Indisk  Vegetarvenlig    Veganske retter            56.0   \n1152          Japansk          Sushi           Asiatisk           119.0   \n\n      rest_price_cat                                       post1   post2  \\\n0                2.5             Holbergsgade 17, København 1000  1050.0   \n1                2.5          Ostergade 52 Illum, København 1001  1050.0   \n2                2.5        Oestergade 52 4. Sal, København 1001  1050.0   \n3                1.0                Ostergade 52, København 1001  1001.0   \n4                2.5  Østergade 52 Illum rooftop, København 1001  1001.0   \n...              ...                                         ...     ...   \n1148             2.5         Søborg Hovedgade 24, København 2870  2870.0   \n1149             2.5        Soeborg Hovedgade 12, København 2870  2870.0   \n1150             2.5  Duntzfelts Alle 3 Hellerup, København 2900  2900.0   \n1151             2.5              Maglemosevej 1, København 2900  2900.0   \n1152             2.5             Strandvejen 199, København 2900  2900.0   \n\n             area            rest1            rest2  \n0     København K        Europæisk        Europæisk  \n1     København K        Italiensk        Italiensk  \n2     København K  Fisk og skaldyr  Fisk og skaldyr  \n3     København K    Vegetarvenlig          Moderne  \n4     København K          Japansk          Japansk  \n...           ...              ...              ...  \n1148     Hellerup             Café             Café  \n1149     Hellerup        Italiensk        Italiensk  \n1150     Hellerup        Italiensk        Italiensk  \n1151     Hellerup           Indisk           Indisk  \n1152     Hellerup          Japansk          Japansk  \n\n[1153 rows x 16 columns]",
      "text/html": "<div>\n<style scoped>\n    .dataframe tbody tr th:only-of-type {\n        vertical-align: middle;\n    }\n\n    .dataframe tbody tr th {\n        vertical-align: top;\n    }\n\n    .dataframe thead th {\n        text-align: right;\n    }\n</style>\n<table border=\"1\" class=\"dataframe\">\n  <thead>\n    <tr style=\"text-align: right;\">\n      <th></th>\n      <th>Unnamed: 0</th>\n      <th>Unnamed: 0.1</th>\n      <th>links</th>\n      <th>rest_name</th>\n      <th>rest_location</th>\n      <th>rest_rating_aggr</th>\n      <th>rest_cuisine</th>\n      <th>rest_cuisine_2</th>\n      <th>rest_cuisine_3</th>\n      <th>rest_no_review</th>\n      <th>rest_price_cat</th>\n      <th>post1</th>\n      <th>post2</th>\n      <th>area</th>\n      <th>rest1</th>\n      <th>rest2</th>\n    </tr>\n  </thead>\n  <tbody>\n    <tr>\n      <td>0</td>\n      <td>0</td>\n      <td>931</td>\n      <td>https://www.tripadvisor.dk/Restaurant_Review-g...</td>\n      <td>Lomos Food Shop</td>\n      <td>Holbergsgade 17, København 1000 Danmark</td>\n      <td>4.5</td>\n      <td>Europæisk</td>\n      <td>Dansk]</td>\n      <td>NaN</td>\n      <td>48.0</td>\n      <td>2.5</td>\n      <td>Holbergsgade 17, København 1000</td>\n      <td>1050.0</td>\n      <td>København K</td>\n      <td>Europæisk</td>\n      <td>Europæisk</td>\n    </tr>\n    <tr>\n      <td>1</td>\n      <td>1</td>\n      <td>607</td>\n      <td>https://www.tripadvisor.dk/Restaurant_Review-g...</td>\n      <td>Rossopomodoro Illum</td>\n      <td>Ostergade 52 Illum, København 1001 Danmark</td>\n      <td>3.5</td>\n      <td>Italiensk</td>\n      <td>Pizza</td>\n      <td>Middelhavsområdet</td>\n      <td>315.0</td>\n      <td>2.5</td>\n      <td>Ostergade 52 Illum, København 1001</td>\n      <td>1050.0</td>\n      <td>København K</td>\n      <td>Italiensk</td>\n      <td>Italiensk</td>\n    </tr>\n    <tr>\n      <td>2</td>\n      <td>2</td>\n      <td>363</td>\n      <td>https://www.tripadvisor.dk/Restaurant_Review-g...</td>\n      <td>Skagen Fiskerestaurant Illum Rooftop</td>\n      <td>Oestergade 52 4. Sal, København 1001 Danmark</td>\n      <td>4.0</td>\n      <td>Fisk og skaldyr</td>\n      <td>Europæisk</td>\n      <td>Skandinavisk</td>\n      <td>219.0</td>\n      <td>2.5</td>\n      <td>Oestergade 52 4. Sal, København 1001</td>\n      <td>1050.0</td>\n      <td>København K</td>\n      <td>Fisk og skaldyr</td>\n      <td>Fisk og skaldyr</td>\n    </tr>\n    <tr>\n      <td>3</td>\n      <td>3</td>\n      <td>1276</td>\n      <td>https://www.tripadvisor.dk/Restaurant_Review-g...</td>\n      <td>The Bagel Co</td>\n      <td>Ostergade 52, København 1001 Danmark</td>\n      <td>4.0</td>\n      <td>Vegetarvenlig]</td>\n      <td>NaN</td>\n      <td>NaN</td>\n      <td>27.0</td>\n      <td>1.0</td>\n      <td>Ostergade 52, København 1001</td>\n      <td>1001.0</td>\n      <td>København K</td>\n      <td>Vegetarvenlig</td>\n      <td>Moderne</td>\n    </tr>\n    <tr>\n      <td>4</td>\n      <td>4</td>\n      <td>1645</td>\n      <td>https://www.tripadvisor.dk/Restaurant_Review-g...</td>\n      <td>Rio Temakeria</td>\n      <td>Østergade 52 Illum rooftop, København 1001 Dan...</td>\n      <td>4.5</td>\n      <td>Japansk</td>\n      <td>Brasiliansk</td>\n      <td>Fisk og skaldyr</td>\n      <td>13.0</td>\n      <td>2.5</td>\n      <td>Østergade 52 Illum rooftop, København 1001</td>\n      <td>1001.0</td>\n      <td>København K</td>\n      <td>Japansk</td>\n      <td>Japansk</td>\n    </tr>\n    <tr>\n      <td>...</td>\n      <td>...</td>\n      <td>...</td>\n      <td>...</td>\n      <td>...</td>\n      <td>...</td>\n      <td>...</td>\n      <td>...</td>\n      <td>...</td>\n      <td>...</td>\n      <td>...</td>\n      <td>...</td>\n      <td>...</td>\n      <td>...</td>\n      <td>...</td>\n      <td>...</td>\n      <td>...</td>\n    </tr>\n    <tr>\n      <td>1148</td>\n      <td>1148</td>\n      <td>678</td>\n      <td>https://www.tripadvisor.dk/Restaurant_Review-g...</td>\n      <td>Madhus24</td>\n      <td>Søborg Hovedgade 24, København 2870 Danmark</td>\n      <td>4.0</td>\n      <td>Café</td>\n      <td>Europæisk</td>\n      <td>Skandinavisk</td>\n      <td>60.0</td>\n      <td>2.5</td>\n      <td>Søborg Hovedgade 24, København 2870</td>\n      <td>2870.0</td>\n      <td>Hellerup</td>\n      <td>Café</td>\n      <td>Café</td>\n    </tr>\n    <tr>\n      <td>1149</td>\n      <td>1149</td>\n      <td>754</td>\n      <td>https://www.tripadvisor.dk/Restaurant_Review-g...</td>\n      <td>Trattoria Campo De Fiori</td>\n      <td>Soeborg Hovedgade 12, København 2870 Danmark</td>\n      <td>4.0</td>\n      <td>Italiensk</td>\n      <td>Europæisk]</td>\n      <td>NaN</td>\n      <td>51.0</td>\n      <td>2.5</td>\n      <td>Soeborg Hovedgade 12, København 2870</td>\n      <td>2870.0</td>\n      <td>Hellerup</td>\n      <td>Italiensk</td>\n      <td>Italiensk</td>\n    </tr>\n    <tr>\n      <td>1150</td>\n      <td>1150</td>\n      <td>278</td>\n      <td>https://www.tripadvisor.dk/Restaurant_Review-g...</td>\n      <td>Altopalato</td>\n      <td>Duntzfelts Alle 3 Hellerup, København 2900 Dan...</td>\n      <td>4.5</td>\n      <td>Italiensk</td>\n      <td>Europæisk</td>\n      <td>Vegetarvenlig</td>\n      <td>139.0</td>\n      <td>2.5</td>\n      <td>Duntzfelts Alle 3 Hellerup, København 2900</td>\n      <td>2900.0</td>\n      <td>Hellerup</td>\n      <td>Italiensk</td>\n      <td>Italiensk</td>\n    </tr>\n    <tr>\n      <td>1151</td>\n      <td>1151</td>\n      <td>938</td>\n      <td>https://www.tripadvisor.dk/Restaurant_Review-g...</td>\n      <td>Kardemomme</td>\n      <td>Maglemosevej 1, København 2900 Danmark</td>\n      <td>4.0</td>\n      <td>Indisk</td>\n      <td>Vegetarvenlig</td>\n      <td>Veganske retter</td>\n      <td>56.0</td>\n      <td>2.5</td>\n      <td>Maglemosevej 1, København 2900</td>\n      <td>2900.0</td>\n      <td>Hellerup</td>\n      <td>Indisk</td>\n      <td>Indisk</td>\n    </tr>\n    <tr>\n      <td>1152</td>\n      <td>1152</td>\n      <td>428</td>\n      <td>https://www.tripadvisor.dk/Restaurant_Review-g...</td>\n      <td>Sticks'n'Sushi</td>\n      <td>Strandvejen 199, København 2900 Danmark</td>\n      <td>4.0</td>\n      <td>Japansk</td>\n      <td>Sushi</td>\n      <td>Asiatisk</td>\n      <td>119.0</td>\n      <td>2.5</td>\n      <td>Strandvejen 199, København 2900</td>\n      <td>2900.0</td>\n      <td>Hellerup</td>\n      <td>Japansk</td>\n      <td>Japansk</td>\n    </tr>\n  </tbody>\n</table>\n<p>1153 rows × 16 columns</p>\n</div>"
     },
     "metadata": {},
     "execution_count": 7
    }
   ],
   "source": [
    "dfkokkener = pd.read_csv(r'kokkenerfinal2.csv' , sep = ',')\n",
    "dfkokkener"
   ]
  },
  {
   "cell_type": "code",
   "execution_count": 8,
   "metadata": {},
   "outputs": [
    {
     "output_type": "execute_result",
     "data": {
      "text/plain": "             rest_name  rest_rating  year month     date      value  \\\n0      Lomos Food Shop            5  2017    04  2017-04   7.143611   \n1      Lomos Food Shop            4  2017    02  2017-02   2.414839   \n2      Lomos Food Shop            4  2017    02  2017-02   2.414839   \n3      Lomos Food Shop            5  2016    11  2016-11   4.801204   \n4      Lomos Food Shop            5  2016    12  2016-12   4.892359   \n...                ...          ...   ...   ...      ...        ...   \n89027       Kardemomme            5  2016    03  2016-03   4.381023   \n89028       Kardemomme            4  2015    09  2015-09  14.370063   \n89029       Kardemomme            4  2015    08  2015-08  18.730390   \n89030       Kardemomme            2  2014    03  2014-03   6.394351   \n89031       Kardemomme            4  2012    12  2012-12   0.865009   \n\n       Unnamed: 0  Unnamed: 0.1  \\\n0             0.0         931.0   \n1             0.0         931.0   \n2             0.0         931.0   \n3             0.0         931.0   \n4             0.0         931.0   \n...           ...           ...   \n89027      1151.0         938.0   \n89028      1151.0         938.0   \n89029      1151.0         938.0   \n89030      1151.0         938.0   \n89031      1151.0         938.0   \n\n                                                   links  \\\n0      https://www.tripadvisor.dk/Restaurant_Review-g...   \n1      https://www.tripadvisor.dk/Restaurant_Review-g...   \n2      https://www.tripadvisor.dk/Restaurant_Review-g...   \n3      https://www.tripadvisor.dk/Restaurant_Review-g...   \n4      https://www.tripadvisor.dk/Restaurant_Review-g...   \n...                                                  ...   \n89027  https://www.tripadvisor.dk/Restaurant_Review-g...   \n89028  https://www.tripadvisor.dk/Restaurant_Review-g...   \n89029  https://www.tripadvisor.dk/Restaurant_Review-g...   \n89030  https://www.tripadvisor.dk/Restaurant_Review-g...   \n89031  https://www.tripadvisor.dk/Restaurant_Review-g...   \n\n                                 rest_location  ...  rest_cuisine  \\\n0      Holbergsgade 17, København 1000 Danmark  ...     Europæisk   \n1      Holbergsgade 17, København 1000 Danmark  ...     Europæisk   \n2      Holbergsgade 17, København 1000 Danmark  ...     Europæisk   \n3      Holbergsgade 17, København 1000 Danmark  ...     Europæisk   \n4      Holbergsgade 17, København 1000 Danmark  ...     Europæisk   \n...                                        ...  ...           ...   \n89027   Maglemosevej 1, København 2900 Danmark  ...        Indisk   \n89028   Maglemosevej 1, København 2900 Danmark  ...        Indisk   \n89029   Maglemosevej 1, København 2900 Danmark  ...        Indisk   \n89030   Maglemosevej 1, København 2900 Danmark  ...        Indisk   \n89031   Maglemosevej 1, København 2900 Danmark  ...        Indisk   \n\n      rest_cuisine_2   rest_cuisine_3 rest_no_review  rest_price_cat  \\\n0             Dansk]              NaN           48.0             2.5   \n1             Dansk]              NaN           48.0             2.5   \n2             Dansk]              NaN           48.0             2.5   \n3             Dansk]              NaN           48.0             2.5   \n4             Dansk]              NaN           48.0             2.5   \n...              ...              ...            ...             ...   \n89027  Vegetarvenlig  Veganske retter           56.0             2.5   \n89028  Vegetarvenlig  Veganske retter           56.0             2.5   \n89029  Vegetarvenlig  Veganske retter           56.0             2.5   \n89030  Vegetarvenlig  Veganske retter           56.0             2.5   \n89031  Vegetarvenlig  Veganske retter           56.0             2.5   \n\n                                 post1   post2         area      rest1  \\\n0      Holbergsgade 17, København 1000  1050.0  København K  Europæisk   \n1      Holbergsgade 17, København 1000  1050.0  København K  Europæisk   \n2      Holbergsgade 17, København 1000  1050.0  København K  Europæisk   \n3      Holbergsgade 17, København 1000  1050.0  København K  Europæisk   \n4      Holbergsgade 17, København 1000  1050.0  København K  Europæisk   \n...                                ...     ...          ...        ...   \n89027   Maglemosevej 1, København 2900  2900.0     Hellerup     Indisk   \n89028   Maglemosevej 1, København 2900  2900.0     Hellerup     Indisk   \n89029   Maglemosevej 1, København 2900  2900.0     Hellerup     Indisk   \n89030   Maglemosevej 1, København 2900  2900.0     Hellerup     Indisk   \n89031   Maglemosevej 1, København 2900  2900.0     Hellerup     Indisk   \n\n           rest2  \n0      Europæisk  \n1      Europæisk  \n2      Europæisk  \n3      Europæisk  \n4      Europæisk  \n...          ...  \n89027     Indisk  \n89028     Indisk  \n89029     Indisk  \n89030     Indisk  \n89031     Indisk  \n\n[94701 rows x 21 columns]",
      "text/html": "<div>\n<style scoped>\n    .dataframe tbody tr th:only-of-type {\n        vertical-align: middle;\n    }\n\n    .dataframe tbody tr th {\n        vertical-align: top;\n    }\n\n    .dataframe thead th {\n        text-align: right;\n    }\n</style>\n<table border=\"1\" class=\"dataframe\">\n  <thead>\n    <tr style=\"text-align: right;\">\n      <th></th>\n      <th>rest_name</th>\n      <th>rest_rating</th>\n      <th>year</th>\n      <th>month</th>\n      <th>date</th>\n      <th>value</th>\n      <th>Unnamed: 0</th>\n      <th>Unnamed: 0.1</th>\n      <th>links</th>\n      <th>rest_location</th>\n      <th>...</th>\n      <th>rest_cuisine</th>\n      <th>rest_cuisine_2</th>\n      <th>rest_cuisine_3</th>\n      <th>rest_no_review</th>\n      <th>rest_price_cat</th>\n      <th>post1</th>\n      <th>post2</th>\n      <th>area</th>\n      <th>rest1</th>\n      <th>rest2</th>\n    </tr>\n  </thead>\n  <tbody>\n    <tr>\n      <td>0</td>\n      <td>Lomos Food Shop</td>\n      <td>5</td>\n      <td>2017</td>\n      <td>04</td>\n      <td>2017-04</td>\n      <td>7.143611</td>\n      <td>0.0</td>\n      <td>931.0</td>\n      <td>https://www.tripadvisor.dk/Restaurant_Review-g...</td>\n      <td>Holbergsgade 17, København 1000 Danmark</td>\n      <td>...</td>\n      <td>Europæisk</td>\n      <td>Dansk]</td>\n      <td>NaN</td>\n      <td>48.0</td>\n      <td>2.5</td>\n      <td>Holbergsgade 17, København 1000</td>\n      <td>1050.0</td>\n      <td>København K</td>\n      <td>Europæisk</td>\n      <td>Europæisk</td>\n    </tr>\n    <tr>\n      <td>1</td>\n      <td>Lomos Food Shop</td>\n      <td>4</td>\n      <td>2017</td>\n      <td>02</td>\n      <td>2017-02</td>\n      <td>2.414839</td>\n      <td>0.0</td>\n      <td>931.0</td>\n      <td>https://www.tripadvisor.dk/Restaurant_Review-g...</td>\n      <td>Holbergsgade 17, København 1000 Danmark</td>\n      <td>...</td>\n      <td>Europæisk</td>\n      <td>Dansk]</td>\n      <td>NaN</td>\n      <td>48.0</td>\n      <td>2.5</td>\n      <td>Holbergsgade 17, København 1000</td>\n      <td>1050.0</td>\n      <td>København K</td>\n      <td>Europæisk</td>\n      <td>Europæisk</td>\n    </tr>\n    <tr>\n      <td>2</td>\n      <td>Lomos Food Shop</td>\n      <td>4</td>\n      <td>2017</td>\n      <td>02</td>\n      <td>2017-02</td>\n      <td>2.414839</td>\n      <td>0.0</td>\n      <td>931.0</td>\n      <td>https://www.tripadvisor.dk/Restaurant_Review-g...</td>\n      <td>Holbergsgade 17, København 1000 Danmark</td>\n      <td>...</td>\n      <td>Europæisk</td>\n      <td>Dansk]</td>\n      <td>NaN</td>\n      <td>48.0</td>\n      <td>2.5</td>\n      <td>Holbergsgade 17, København 1000</td>\n      <td>1050.0</td>\n      <td>København K</td>\n      <td>Europæisk</td>\n      <td>Europæisk</td>\n    </tr>\n    <tr>\n      <td>3</td>\n      <td>Lomos Food Shop</td>\n      <td>5</td>\n      <td>2016</td>\n      <td>11</td>\n      <td>2016-11</td>\n      <td>4.801204</td>\n      <td>0.0</td>\n      <td>931.0</td>\n      <td>https://www.tripadvisor.dk/Restaurant_Review-g...</td>\n      <td>Holbergsgade 17, København 1000 Danmark</td>\n      <td>...</td>\n      <td>Europæisk</td>\n      <td>Dansk]</td>\n      <td>NaN</td>\n      <td>48.0</td>\n      <td>2.5</td>\n      <td>Holbergsgade 17, København 1000</td>\n      <td>1050.0</td>\n      <td>København K</td>\n      <td>Europæisk</td>\n      <td>Europæisk</td>\n    </tr>\n    <tr>\n      <td>4</td>\n      <td>Lomos Food Shop</td>\n      <td>5</td>\n      <td>2016</td>\n      <td>12</td>\n      <td>2016-12</td>\n      <td>4.892359</td>\n      <td>0.0</td>\n      <td>931.0</td>\n      <td>https://www.tripadvisor.dk/Restaurant_Review-g...</td>\n      <td>Holbergsgade 17, København 1000 Danmark</td>\n      <td>...</td>\n      <td>Europæisk</td>\n      <td>Dansk]</td>\n      <td>NaN</td>\n      <td>48.0</td>\n      <td>2.5</td>\n      <td>Holbergsgade 17, København 1000</td>\n      <td>1050.0</td>\n      <td>København K</td>\n      <td>Europæisk</td>\n      <td>Europæisk</td>\n    </tr>\n    <tr>\n      <td>...</td>\n      <td>...</td>\n      <td>...</td>\n      <td>...</td>\n      <td>...</td>\n      <td>...</td>\n      <td>...</td>\n      <td>...</td>\n      <td>...</td>\n      <td>...</td>\n      <td>...</td>\n      <td>...</td>\n      <td>...</td>\n      <td>...</td>\n      <td>...</td>\n      <td>...</td>\n      <td>...</td>\n      <td>...</td>\n      <td>...</td>\n      <td>...</td>\n      <td>...</td>\n      <td>...</td>\n    </tr>\n    <tr>\n      <td>89027</td>\n      <td>Kardemomme</td>\n      <td>5</td>\n      <td>2016</td>\n      <td>03</td>\n      <td>2016-03</td>\n      <td>4.381023</td>\n      <td>1151.0</td>\n      <td>938.0</td>\n      <td>https://www.tripadvisor.dk/Restaurant_Review-g...</td>\n      <td>Maglemosevej 1, København 2900 Danmark</td>\n      <td>...</td>\n      <td>Indisk</td>\n      <td>Vegetarvenlig</td>\n      <td>Veganske retter</td>\n      <td>56.0</td>\n      <td>2.5</td>\n      <td>Maglemosevej 1, København 2900</td>\n      <td>2900.0</td>\n      <td>Hellerup</td>\n      <td>Indisk</td>\n      <td>Indisk</td>\n    </tr>\n    <tr>\n      <td>89028</td>\n      <td>Kardemomme</td>\n      <td>4</td>\n      <td>2015</td>\n      <td>09</td>\n      <td>2015-09</td>\n      <td>14.370063</td>\n      <td>1151.0</td>\n      <td>938.0</td>\n      <td>https://www.tripadvisor.dk/Restaurant_Review-g...</td>\n      <td>Maglemosevej 1, København 2900 Danmark</td>\n      <td>...</td>\n      <td>Indisk</td>\n      <td>Vegetarvenlig</td>\n      <td>Veganske retter</td>\n      <td>56.0</td>\n      <td>2.5</td>\n      <td>Maglemosevej 1, København 2900</td>\n      <td>2900.0</td>\n      <td>Hellerup</td>\n      <td>Indisk</td>\n      <td>Indisk</td>\n    </tr>\n    <tr>\n      <td>89029</td>\n      <td>Kardemomme</td>\n      <td>4</td>\n      <td>2015</td>\n      <td>08</td>\n      <td>2015-08</td>\n      <td>18.730390</td>\n      <td>1151.0</td>\n      <td>938.0</td>\n      <td>https://www.tripadvisor.dk/Restaurant_Review-g...</td>\n      <td>Maglemosevej 1, København 2900 Danmark</td>\n      <td>...</td>\n      <td>Indisk</td>\n      <td>Vegetarvenlig</td>\n      <td>Veganske retter</td>\n      <td>56.0</td>\n      <td>2.5</td>\n      <td>Maglemosevej 1, København 2900</td>\n      <td>2900.0</td>\n      <td>Hellerup</td>\n      <td>Indisk</td>\n      <td>Indisk</td>\n    </tr>\n    <tr>\n      <td>89030</td>\n      <td>Kardemomme</td>\n      <td>2</td>\n      <td>2014</td>\n      <td>03</td>\n      <td>2014-03</td>\n      <td>6.394351</td>\n      <td>1151.0</td>\n      <td>938.0</td>\n      <td>https://www.tripadvisor.dk/Restaurant_Review-g...</td>\n      <td>Maglemosevej 1, København 2900 Danmark</td>\n      <td>...</td>\n      <td>Indisk</td>\n      <td>Vegetarvenlig</td>\n      <td>Veganske retter</td>\n      <td>56.0</td>\n      <td>2.5</td>\n      <td>Maglemosevej 1, København 2900</td>\n      <td>2900.0</td>\n      <td>Hellerup</td>\n      <td>Indisk</td>\n      <td>Indisk</td>\n    </tr>\n    <tr>\n      <td>89031</td>\n      <td>Kardemomme</td>\n      <td>4</td>\n      <td>2012</td>\n      <td>12</td>\n      <td>2012-12</td>\n      <td>0.865009</td>\n      <td>1151.0</td>\n      <td>938.0</td>\n      <td>https://www.tripadvisor.dk/Restaurant_Review-g...</td>\n      <td>Maglemosevej 1, København 2900 Danmark</td>\n      <td>...</td>\n      <td>Indisk</td>\n      <td>Vegetarvenlig</td>\n      <td>Veganske retter</td>\n      <td>56.0</td>\n      <td>2.5</td>\n      <td>Maglemosevej 1, København 2900</td>\n      <td>2900.0</td>\n      <td>Hellerup</td>\n      <td>Indisk</td>\n      <td>Indisk</td>\n    </tr>\n  </tbody>\n</table>\n<p>94701 rows × 21 columns</p>\n</div>"
     },
     "metadata": {},
     "execution_count": 8
    }
   ],
   "source": [
    "df = df.join(dfkokkener.set_index('rest_name'), on='rest_name')\n",
    "df"
   ]
  },
  {
   "cell_type": "code",
   "execution_count": 14,
   "metadata": {},
   "outputs": [],
   "source": [
    "df2 = df.loc[: , ['rest_name' , 'rest_rating' , 'date' , 'avg_temp','area','rest2','rest_price_cat','rest_no_review','rest_rating_aggr']]\n",
    "df2 = df2.reset_index()"
   ]
  },
  {
   "cell_type": "code",
   "execution_count": 15,
   "metadata": {},
   "outputs": [
    {
     "output_type": "execute_result",
     "data": {
      "text/plain": "       index        rest_name  rest_rating     date  avg_temp         area  \\\n0          0  Lomos Food Shop            5  2017-04       NaN  København K   \n1          1  Lomos Food Shop            4  2017-02       NaN  København K   \n2          2  Lomos Food Shop            4  2017-02       NaN  København K   \n3          3  Lomos Food Shop            5  2016-11       NaN  København K   \n4          4  Lomos Food Shop            5  2016-12       NaN  København K   \n...      ...              ...          ...      ...       ...          ...   \n94696  89027       Kardemomme            5  2016-03       NaN     Hellerup   \n94697  89028       Kardemomme            4  2015-09       NaN     Hellerup   \n94698  89029       Kardemomme            4  2015-08       NaN     Hellerup   \n94699  89030       Kardemomme            2  2014-03       NaN     Hellerup   \n94700  89031       Kardemomme            4  2012-12       NaN     Hellerup   \n\n           rest2  rest_price_cat  rest_no_review  rest_rating_aggr  \n0      Europæisk             2.5            48.0               4.5  \n1      Europæisk             2.5            48.0               4.5  \n2      Europæisk             2.5            48.0               4.5  \n3      Europæisk             2.5            48.0               4.5  \n4      Europæisk             2.5            48.0               4.5  \n...          ...             ...             ...               ...  \n94696     Indisk             2.5            56.0               4.0  \n94697     Indisk             2.5            56.0               4.0  \n94698     Indisk             2.5            56.0               4.0  \n94699     Indisk             2.5            56.0               4.0  \n94700     Indisk             2.5            56.0               4.0  \n\n[94701 rows x 10 columns]",
      "text/html": "<div>\n<style scoped>\n    .dataframe tbody tr th:only-of-type {\n        vertical-align: middle;\n    }\n\n    .dataframe tbody tr th {\n        vertical-align: top;\n    }\n\n    .dataframe thead th {\n        text-align: right;\n    }\n</style>\n<table border=\"1\" class=\"dataframe\">\n  <thead>\n    <tr style=\"text-align: right;\">\n      <th></th>\n      <th>index</th>\n      <th>rest_name</th>\n      <th>rest_rating</th>\n      <th>date</th>\n      <th>avg_temp</th>\n      <th>area</th>\n      <th>rest2</th>\n      <th>rest_price_cat</th>\n      <th>rest_no_review</th>\n      <th>rest_rating_aggr</th>\n    </tr>\n  </thead>\n  <tbody>\n    <tr>\n      <td>0</td>\n      <td>0</td>\n      <td>Lomos Food Shop</td>\n      <td>5</td>\n      <td>2017-04</td>\n      <td>NaN</td>\n      <td>København K</td>\n      <td>Europæisk</td>\n      <td>2.5</td>\n      <td>48.0</td>\n      <td>4.5</td>\n    </tr>\n    <tr>\n      <td>1</td>\n      <td>1</td>\n      <td>Lomos Food Shop</td>\n      <td>4</td>\n      <td>2017-02</td>\n      <td>NaN</td>\n      <td>København K</td>\n      <td>Europæisk</td>\n      <td>2.5</td>\n      <td>48.0</td>\n      <td>4.5</td>\n    </tr>\n    <tr>\n      <td>2</td>\n      <td>2</td>\n      <td>Lomos Food Shop</td>\n      <td>4</td>\n      <td>2017-02</td>\n      <td>NaN</td>\n      <td>København K</td>\n      <td>Europæisk</td>\n      <td>2.5</td>\n      <td>48.0</td>\n      <td>4.5</td>\n    </tr>\n    <tr>\n      <td>3</td>\n      <td>3</td>\n      <td>Lomos Food Shop</td>\n      <td>5</td>\n      <td>2016-11</td>\n      <td>NaN</td>\n      <td>København K</td>\n      <td>Europæisk</td>\n      <td>2.5</td>\n      <td>48.0</td>\n      <td>4.5</td>\n    </tr>\n    <tr>\n      <td>4</td>\n      <td>4</td>\n      <td>Lomos Food Shop</td>\n      <td>5</td>\n      <td>2016-12</td>\n      <td>NaN</td>\n      <td>København K</td>\n      <td>Europæisk</td>\n      <td>2.5</td>\n      <td>48.0</td>\n      <td>4.5</td>\n    </tr>\n    <tr>\n      <td>...</td>\n      <td>...</td>\n      <td>...</td>\n      <td>...</td>\n      <td>...</td>\n      <td>...</td>\n      <td>...</td>\n      <td>...</td>\n      <td>...</td>\n      <td>...</td>\n      <td>...</td>\n    </tr>\n    <tr>\n      <td>94696</td>\n      <td>89027</td>\n      <td>Kardemomme</td>\n      <td>5</td>\n      <td>2016-03</td>\n      <td>NaN</td>\n      <td>Hellerup</td>\n      <td>Indisk</td>\n      <td>2.5</td>\n      <td>56.0</td>\n      <td>4.0</td>\n    </tr>\n    <tr>\n      <td>94697</td>\n      <td>89028</td>\n      <td>Kardemomme</td>\n      <td>4</td>\n      <td>2015-09</td>\n      <td>NaN</td>\n      <td>Hellerup</td>\n      <td>Indisk</td>\n      <td>2.5</td>\n      <td>56.0</td>\n      <td>4.0</td>\n    </tr>\n    <tr>\n      <td>94698</td>\n      <td>89029</td>\n      <td>Kardemomme</td>\n      <td>4</td>\n      <td>2015-08</td>\n      <td>NaN</td>\n      <td>Hellerup</td>\n      <td>Indisk</td>\n      <td>2.5</td>\n      <td>56.0</td>\n      <td>4.0</td>\n    </tr>\n    <tr>\n      <td>94699</td>\n      <td>89030</td>\n      <td>Kardemomme</td>\n      <td>2</td>\n      <td>2014-03</td>\n      <td>NaN</td>\n      <td>Hellerup</td>\n      <td>Indisk</td>\n      <td>2.5</td>\n      <td>56.0</td>\n      <td>4.0</td>\n    </tr>\n    <tr>\n      <td>94700</td>\n      <td>89031</td>\n      <td>Kardemomme</td>\n      <td>4</td>\n      <td>2012-12</td>\n      <td>NaN</td>\n      <td>Hellerup</td>\n      <td>Indisk</td>\n      <td>2.5</td>\n      <td>56.0</td>\n      <td>4.0</td>\n    </tr>\n  </tbody>\n</table>\n<p>94701 rows × 10 columns</p>\n</div>"
     },
     "metadata": {},
     "execution_count": 15
    }
   ],
   "source": [
    "df2"
   ]
  },
  {
   "cell_type": "code",
   "execution_count": 11,
   "metadata": {},
   "outputs": [],
   "source": [
    "#Export cuisines . \n",
    "df2.to_csv(r'Finaldata.csv', encoding='utf-8-sig')"
   ]
  },
  {
   "cell_type": "code",
   "execution_count": null,
   "metadata": {},
   "outputs": [],
   "source": []
  }
 ],
 "metadata": {
  "kernelspec": {
   "display_name": "Python 3",
   "language": "python",
   "name": "python3"
  },
  "language_info": {
   "codemirror_mode": {
    "name": "ipython",
    "version": 3
   },
   "file_extension": ".py",
   "mimetype": "text/x-python",
   "name": "python",
   "nbconvert_exporter": "python",
   "pygments_lexer": "ipython3",
   "version": "3.7.4-final"
  }
 },
 "nbformat": 4,
 "nbformat_minor": 4
}
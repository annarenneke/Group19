{
 "cells": [
  {
   "cell_type": "code",
   "execution_count": 2,
   "metadata": {},
   "outputs": [],
   "source": [
    "#Import packages\n",
    "import pandas as pd\n",
    "import matplotlib.pyplot as plt\n",
    "import numpy as np"
   ]
  },
  {
   "cell_type": "code",
   "execution_count": 3,
   "metadata": {
    "tags": []
   },
   "outputs": [],
   "source": [
    "#Read the csv file, which is the scraped Tripadvisor restaurant data\n",
    "data = pd.read_csv(r'File-Name.csv', sep=',')\n",
    "\n",
    "#Deleting duplicates in links (so no duplicates in restaurants)\n",
    "data.drop_duplicates(subset=['links'],inplace=True)\n",
    "\n",
    "#Create new variable \"post2\" which is the postal code and makes it numeric\n",
    "data['post1']=data['rest_location'].astype(str).str[:-8].copy()\n",
    "data['post2']=data['post1'].astype(str).str[-4:].copy()\n",
    "data['post2']=pd.to_numeric(data['post2'], errors='ignore')\n",
    "\n",
    "#Drop elements in post2, that doenst look like a postal code\n",
    "data3=data.loc[(data['post2'] != 'havn') & (data['post2'] != '00 N') & (data['post2'] != '06 K') & (data['post2'] != 'vn V') & (data['post2'] != '')].copy()\n",
    "data3.dropna(subset=['rest_cuisine'], inplace=True)"
   ]
  },
  {
   "cell_type": "code",
   "execution_count": 4,
   "metadata": {
    "tags": []
   },
   "outputs": [
    {
     "name": "stdout",
     "output_type": "stream",
     "text": [
      "Empty DataFrame\n",
      "Columns: [rest_name, rest_rating, post2, links, rest_cuisine]\n",
      "Index: []\n"
     ]
    }
   ],
   "source": [
    "#we make a new dataframe\n",
    "new = pd.DataFrame([data3.rest_name, data3.rest_rating, data3.post2, data3.links , data3.rest_cuisine]).transpose()\n",
    "\n",
    "#make a DF with the duplicates\n",
    "duplicateDFRow = new[new.duplicated()]\n",
    "print(duplicateDFRow)\n",
    "\n",
    "#removes duplicates and make a new dataframe\n",
    "new2 = new.drop_duplicates()\n",
    "#sort the new dataframe\n",
    "new3 = new2.copy()\n",
    "new3 = new3.sort_values('post2')\n",
    "new3 = new3.reset_index(drop = True)\n",
    "#new3.set_index('post2')\n",
    "\n",
    "#we change 3 postal codes from 1001 to 1050 since 1001 is a postal box - (kilde:https://www.dst.dk/da/TilSalg/Forskningsservice/Dokumentation/hoejkvalitetsvariable/folketal/postnr)\n",
    "new3.iloc[:3 , 2] = str(1050)\n",
    "\n",
    "#make a new column with districts (KBH K and so on)\n",
    "new3['area'] = new3['post2']\n",
    "\n",
    "#change the type\n",
    "new3['post2'] = new3['post2'].astype(float)\n",
    "\n",
    "#add data to the new columns\n",
    "new3['area'] = pd.cut(new3.post2, bins=[0, 1499, 1799, 1999, 2000, 2100, 2150, 2200, 2300, 2400, 2450, 2500, 2610, 2620, 2630, 2700, 2720, 2770, 2791, 2800, 2820, 2840, 2860, 2870, 2900], labels=['København K', 'København V','Frederiksberg C', 'Frederiksberg', 'København Ø', 'Nordhavn', 'København N', 'København S', 'København NV', 'København SV', 'Valby', 'Rødovre', 'Albertslund', 'Høje Taastrup', 'Brønshøj', 'Vanløse', 'Kastrup', 'Dragør', 'Kongens Lyndby', 'Gentofte', 'Holte', 'Søborg', 'Dyssegård','Hellerup'])\n",
    "\n",
    "#replace '' and remove them - because their postal code is outside of 2900 (e.g. 2930, 3500, 5000)\n",
    "new3['area'].replace('', np.nan, inplace=True)\n",
    "new3.dropna(subset=['area'], inplace=True)"
   ]
  },
  {
   "cell_type": "code",
   "execution_count": 5,
   "metadata": {
    "tags": []
   },
   "outputs": [],
   "source": [
    "###### FROM HERE I BEGIN CALCULATING THE AVERAGE RATING PER AREA\n",
    "#CALCULATING OF THE SUM OF RESTAURANT AND THEIR RATINGS PER AREA\n",
    "#We calculate the sum and the amount of restaurant per district\n",
    "\n",
    "try:\n",
    "    sum_kbhK = new3[new3['area'] == 'København K'].rest_rating.sum()\n",
    "    len_kbhK = len(new3[new3['area'] == 'København K'].rest_rating)\n",
    "    avg_rating_kbhK = sum_kbhK/len_kbhK\n",
    "except:\n",
    "    avg_rating_kbhK = np.nan\n",
    "\n",
    "try:\n",
    "    sum_kbhV = new3[new3['area'] == 'København V'].rest_rating.sum()\n",
    "    len_kbhV = len(new3[new3['area'] == 'København V'].rest_rating)\n",
    "    avg_rating_kbhV = sum_kbhV/len_kbhV\n",
    "except:\n",
    "    avg_rating_kbhV = np.nan\n",
    "\n",
    "try:\n",
    "    sum_F= new3[new3['area'] == 'Frederiksberg'].rest_rating.sum()\n",
    "    len_F = len(new3[new3['area'] == 'Frederiksberg'].rest_rating)\n",
    "    avg_rating_F = sum_F/len_F\n",
    "except:\n",
    "    avg_rating_F = np.nan\n",
    "\n",
    "try:\n",
    "    sum_Fc= new3[new3['area'] == 'Frederiksberg C'].rest_rating.sum()\n",
    "    len_Fc = len(new3[new3['area'] == 'Frederiksberg C'].rest_rating)\n",
    "    avg_rating_Fc = sum_Fc/len_Fc\n",
    "except:\n",
    "    avg_rating_F = np.nan\n",
    "\n",
    "try:\n",
    "    sum_kbhOE = new3[new3['area'] == 'København Ø'].rest_rating.sum()\n",
    "    len_kbhOE = len(new3[new3['area'] == 'København Ø'].rest_rating)\n",
    "    avg_rating_kbhOE = sum_kbhOE/len_kbhOE\n",
    "except:\n",
    "    avg_rating_kbhOE = np.nan\n",
    "\n",
    "try:\n",
    "    sum_N = new3[new3['area'] == 'Nordhavn'].rest_rating.sum()\n",
    "    len_N = len(new3[new3['area'] == 'Nordhavn'].rest_rating)\n",
    "    avg_rating_N = sum_N/len_N\n",
    "except:\n",
    "    avg_rating_N = np.nan\n",
    "\n",
    "try:\n",
    "    sum_kbhN = new3[new3['area'] == 'København N'].rest_rating.sum()\n",
    "    len_kbhN = len(new3[new3['area'] == 'København N'].rest_rating)\n",
    "    avg_rating_kbhN = sum_kbhN/len_kbhN\n",
    "except:\n",
    "    avg_rating_kbhN = np.nan\n",
    "\n",
    "try:\n",
    "    sum_kbhS = new3[new3['area'] == 'København S'].rest_rating.sum()\n",
    "    len_kbhS = len(new3[new3['area'] == 'København S'].rest_rating)\n",
    "    avg_rating_kbhS = sum_kbhS/len_kbhS\n",
    "except:\n",
    "    avg_rating_kbhS = np.nan\n",
    "\n",
    "try:\n",
    "    sum_kbhNV = new3[new3['area'] == 'København NV'].rest_rating.sum()\n",
    "    len_kbhNV = len(new3[new3['area'] == 'København NV'].rest_rating)\n",
    "    avg_rating_kbhNV = sum_kbhNV/len_kbhNV\n",
    "except:\n",
    "    avg_rating_kbhNV = np.nan\n",
    "\n",
    "try:\n",
    "    sum_kbhSV = new3[new3['area'] == 'København SV'].rest_rating.sum()\n",
    "    len_kbhSV = len(new3[new3['area'] == 'København SV'].rest_rating)\n",
    "    avg_rating_kbhSV = sum_kbhSV/len_kbhSV\n",
    "except:\n",
    "    avg_rating_kbhSV = np.nan\n",
    "\n",
    "try:\n",
    "    sum_V = new3[new3['area'] == 'Valby'].rest_rating.sum()\n",
    "    len_V = len(new3[new3['area'] == 'Valby'].rest_rating)\n",
    "    avg_rating_V = sum_V/len_V\n",
    "except:\n",
    "    avg_rating_V = np.nan\n",
    "\n",
    "try:\n",
    "    sum_R = new3[new3['area'] == 'Rødovre'].rest_rating.sum()\n",
    "    len_R = len(new3[new3['area'] == 'Rødovre'].rest_rating)\n",
    "    avg_rating_R = sum_R/len_R\n",
    "except:\n",
    "    avg_rating_R = np.nan\n",
    "\n",
    "\n",
    "try:\n",
    "    sum_AL = new3[new3['area'] == 'Albertslund'].rest_rating.sum()\n",
    "    len_AL = len(new3[new3['area'] == 'Albertslund'].rest_rating)\n",
    "    avg_rating_AL = sum_AL/len_AL\n",
    "except:\n",
    "    avg_rating_AL = np.nan\n",
    "\n",
    "try:\n",
    "    sum_HT = new3[new3['area'] == 'Høje Taastrup'].rest_rating.sum()\n",
    "    len_HT = len(new3[new3['area'] == 'Høje Taastrup'].rest_rating)\n",
    "    avg_rating_HT = sum_HT/len_HT\n",
    "except:\n",
    "    avg_rating_HT = np.nan\n",
    "\n",
    "try:\n",
    "    sum_B = new3[new3['area'] == 'Brønshøj'].rest_rating.sum()\n",
    "    len_B = len(new3[new3['area'] == 'Brønshøj'].rest_rating)\n",
    "    avg_rating_B = sum_B/len_B\n",
    "except:\n",
    "    avg_rating_B = np.nan\n",
    "\n",
    "try:\n",
    "    sum_VL = new3[new3['area'] == 'Vanløse'].rest_rating.sum()\n",
    "    len_VL = len(new3[new3['area'] == 'Vanløse'].rest_rating)\n",
    "    avg_rating_VL = sum_VL/len_VL\n",
    "except:\n",
    "    avg_rating_VL = np.nan\n",
    "\n",
    "try:\n",
    "    sum_K = new3[new3['area'] == 'Kastrup'].rest_rating.sum()\n",
    "    len_K = len(new3[new3['area'] == 'Kastrup'].rest_rating)\n",
    "    avg_rating_K = sum_K/len_K\n",
    "except:\n",
    "    avg_rating_K = np.nan\n",
    "\n",
    "try:\n",
    "    sum_D = new3[new3['area'] == 'Dragør'].rest_rating.sum()\n",
    "    len_D = len(new3[new3['area'] == 'Dragør'].rest_rating)\n",
    "    avg_rating_D = sum_D/len_D\n",
    "except:\n",
    "    avg_rating_D = np.nan\n",
    "\n",
    "try:\n",
    "    sum_KL = new3[new3['area'] == 'Kongens Lyngby'].rest_rating.sum()\n",
    "    len_KL = len(new3[new3['area'] == 'Kongens Lyngby'].rest_rating)\n",
    "    avg_rating_KL = sum_KL/len_KL\n",
    "except:\n",
    "    avg_rating_KL = np.nan   \n",
    "\n",
    "try:\n",
    "    sum_G = new3[new3['area'] == 'Gentofte'].rest_rating.sum()\n",
    "    len_G = len(new3[new3['area'] == 'Gentofte'].rest_rating)\n",
    "    avg_rating_G = sum_G/len_G\n",
    "except:\n",
    "    avg_rating_G = np.nan   \n",
    "\n",
    "try:\n",
    "    sum_H = new3[new3['area'] == 'Holte'].rest_rating.sum()\n",
    "    len_H = len(new3[new3['area'] == 'Holte'].rest_rating)\n",
    "    avg_rating_H = sum_H/len_H\n",
    "except:\n",
    "    avg_rating_H = np.nan\n",
    "\n",
    "try:\n",
    "    sum_S = new3[new3['area'] == 'Søborg'].rest_rating.sum()\n",
    "    len_S = len(new3[new3['area'] == 'Søborg'].rest_rating)\n",
    "    avg_rating_S = sum_S/len_S\n",
    "except:\n",
    "    avg_rating_S = np.nan\n",
    "\n",
    "try:\n",
    "    sum_D = new3[new3['area'] == 'Dyssegård'].rest_rating.sum()\n",
    "    len_D = len(new3[new3['area'] == 'Dyssegård'].rest_rating)\n",
    "    avg_rating_D = sum_D/len_D\n",
    "except:\n",
    "    avg_rating_D = np.nan\n",
    "\n",
    "try:\n",
    "    sum_H = new3[new3['area'] == 'Hellerup'].rest_rating.sum()\n",
    "    len_H = len(new3[new3['area'] == 'Hellerup'].rest_rating)\n",
    "    avg_rating_H = sum_H/len_H\n",
    "except:\n",
    "    avg_rating_H = np.nan\n",
    "\n"
   ]
  },
  {
   "cell_type": "code",
   "execution_count": 6,
   "metadata": {},
   "outputs": [],
   "source": [
    "avg_rate = [avg_rating_kbhK] + [avg_rating_kbhV] + [avg_rating_F] + [avg_rating_Fc] + [avg_rating_kbhOE] + [avg_rating_N] + [avg_rating_kbhN] + [avg_rating_kbhS] + [avg_rating_kbhNV] + [avg_rating_kbhSV] + [avg_rating_V] + [avg_rating_R] + [avg_rating_AL] + [avg_rating_HT] + [avg_rating_B] + [avg_rating_VL] + [avg_rating_K] + [avg_rating_D] + [avg_rating_KL] + [avg_rating_G] +[avg_rating_H] + [avg_rating_S] + [avg_rating_D] +[avg_rating_H]"
   ]
  },
  {
   "cell_type": "code",
   "execution_count": 7,
   "metadata": {
    "tags": []
   },
   "outputs": [
    {
     "name": "stdout",
     "output_type": "stream",
     "text": [
      "[4.191648822269808, 4.096456692913386, 4.131147540983607, 4.130434782608695, 4.171875, 4.333333333333333, 4.224409448818897, 4.128205128205129, 4.25, 4.285714285714286, 4.357142857142857, 5.0, 5.0, 4.166666666666667, 4.0, 4.0, 3.5, 4.166666666666667, 4.0, 4.0, 4.166666666666667]\n"
     ]
    }
   ],
   "source": [
    "avg_rate = [x for x in avg_rate if str(x) != 'nan']\n",
    "\n",
    "print(avg_rate)"
   ]
  },
  {
   "cell_type": "code",
   "execution_count": 8,
   "metadata": {
    "tags": []
   },
   "outputs": [
    {
     "name": "stdout",
     "output_type": "stream",
     "text": [
      "['København K', 'København V', 'Frederiksberg C', 'Frederiksberg', 'København Ø', 'Nordhavn', 'København N', 'København S', 'København NV', 'København SV', 'Valby', 'Høje Taastrup', 'Brønshøj', 'Vanløse', 'Kastrup', 'Dragør', 'Gentofte', 'Holte', 'Søborg', 'Dyssegård', 'Hellerup'] [467, 254, 61, 46, 64, 6, 127, 78, 10, 7, 7, 1, 1, 9, 3, 2, 1, 3, 1, 2, 3]\n"
     ]
    }
   ],
   "source": [
    "\n",
    "#I have deleted 'Rødovre' 'Albertslund', 'Kongens Lyngby from the following two lists since it is = NAN (no restaurants)\n",
    "bydele = ['København K', 'København V','Frederiksberg C', 'Frederiksberg', 'København Ø', 'Nordhavn', 'København N', 'København S', 'København NV', 'København SV', 'Valby', 'Høje Taastrup', 'Brønshøj', 'Vanløse', 'Kastrup', 'Dragør', 'Gentofte', 'Holte', 'Søborg', 'Dyssegård','Hellerup']\n",
    "\n",
    "antal_rest = [len_kbhK] + [len_kbhV] + [len_F] + [len_Fc] + [len_kbhOE] + [len_N] + [len_kbhN] + [len_kbhS] + [len_kbhNV] + [len_kbhSV] + [len_V] + [len_HT] + [len_B] + [len_VL] + [len_K] + [len_D] + [len_G] +[len_H] + [len_S] + [len_D] +[len_H]\n",
    "\n",
    "print(bydele, antal_rest)\n",
    "\n",
    "a_rating = pd.DataFrame(avg_rate)\n",
    "\n",
    "a_rating = pd.DataFrame(list(zip(bydele, avg_rate, antal_rest)), \n",
    "               columns =['Bydele', 'avg_rate', 'antal_rest'])\n",
    "\n",
    "a_rating2 = a_rating.copy()\n",
    "a_rating2.set_index('avg_rate')\n",
    "a_rating2 = a_rating2.sort_values('antal_rest', ascending = False)\n",
    "a_rating2 = a_rating2.reset_index(drop = True)"
   ]
  },
  {
   "cell_type": "code",
   "execution_count": 9,
   "metadata": {},
   "outputs": [],
   "source": [
    "#avg_rate2 = np.around(avg_rate, decimals=3)"
   ]
  },
  {
   "cell_type": "code",
   "execution_count": 10,
   "metadata": {
    "tags": []
   },
   "outputs": [],
   "source": [
    "#DO NOT USE\n",
    "#print(avg_rate2)\n",
    "#import matplotlib.pyplot as plt\n",
    "#plt.bar(bydele, avg_rate)\n",
    "#plt.xticks(rotation=70)\n",
    "#ax = a_rating.plot.bar(x='Bydele', y='avg_rate', rot=90)\n",
    "#a_rating = a_rating.sort_values('avg_rate')\n",
    "#fig = plt.figure(figsize=(10 , 8)) # Create matplotlib figure\n",
    "# ax = fig.add_subplot(111) # Create matplotlib axes\n",
    "#ax2 = ax.twinx() # Create another axes that shares the same x-axis as ax.\n",
    "#width = 0.4\n",
    "#a_rating2.avg_rate.plot(kind='bar', color='cadetblue', ax=ax, width=0.5, position=1)\n",
    "#a_rating2.antal_rest.plot(kind='bar', color='lightcoral', ax=ax2, width=0.5, position=0)\n",
    "#ax.set_xticklabels(a_rating2['Bydele'], fontsize = 15)\n",
    "#ax.set_ylabel('Average rating', fontsize=15)\n",
    "#ax2.set_ylabel('Number of restaurants', fontsize=15)\n",
    "#ax.set_xlabel('Area', fontsize=15)\n",
    "#ax.set_title('The average rating and number of restaurants for each area in Copenhagen', fontsize=25)\n",
    "#ax.set_yticklabels([0, 0.5, 1, 1.5, 2, 2.5, 3, 3.5, 4, 4.5, 5])\n",
    "#plt.xticks(np.arange(min(avg_rate), max(avg_rate)+1, 1.0))\n",
    "#ax.set_yticks(np.arange(0, 5.5, step=0.5))\n",
    "#ax2.set_yticks(np.arange(0, 600, step=50))\n",
    "#ax.set_yticklabels(np.arange(0, 8, step=0.5), rotation=0, fontsize=12)\n",
    "#ax2.set_yticklabels(np.arange(0, 600, step=50), rotation=0, fontsize=12)\n",
    "#ax.margins(x=0)\n",
    "#for p in ax2.patches:\n",
    "   # ax2.text(p.get_x() + p.get_width()/2., p.get_height()/1.15, '%d' % int(p.get_height()), \n",
    "      #      fontsize=10, ha='center', va='bottom' , color = 'black')\n",
    "#plt.xlim([0,15])\n",
    "#plt.show()\n",
    "#fig.savefig('avgrate.PNG')\n",
    "#fig.savefig(\"image2.png\",bbox_inches='tight',dpi=100)"
   ]
  },
  {
   "cell_type": "code",
   "execution_count": 11,
   "metadata": {
    "tags": []
   },
   "outputs": [
    {
     "name": "stderr",
     "output_type": "stream",
     "text": [
      "No handles with labels found to put in legend.\n"
     ]
    },
    {
     "data": {
      "image/png": "[encoded data removed]",
      "text/plain": [
       "<Figure size 1152x864 with 2 Axes>"
      ]
     },
     "metadata": {
      "needs_background": "light"
     },
     "output_type": "display_data"
    }
   ],
   "source": [
    "#HERE WE MAKE A GRAPH\n",
    "\n",
    "import seaborn as sns\n",
    "\n",
    "fig , ax = plt.subplots(1 , figsize = (16, 12))\n",
    "\n",
    "\n",
    "#Bar chart\n",
    "ax = sns.barplot(x = 'Bydele' , y = 'antal_rest' , data = a_rating2 , color = 'cadetblue' , saturation = 1 , ax = ax , ci = None)\n",
    "ax.set_title('Avg rating and number of restaurants by area' , loc = 'left' , fontsize = 16)\n",
    "ax.legend(bbox_to_anchor=(1.05, 1), loc=2, borderaxespad=0.) #Location of legend\n",
    "ax.set_xticklabels(a_rating2['Bydele'], fontsize = 16)\n",
    "\n",
    "ax.tick_params(axis = 'both' , which = 'both' , bottom = False , top = False , left = False , right = False , rotation = 90) #Removes ticks\n",
    "\n",
    "ax.yaxis.set_label_text(\"#Restaurants\") #Removes axis name\n",
    "ax.xaxis.set_label_text(\"\") #Removes axis name\n",
    "#ax.set_ylim(0, 6)\n",
    "\n",
    "ax.get_yaxis().set_visible(False)\n",
    "\n",
    "\n",
    "#Data labels\n",
    "for p in ax.patches:\n",
    "    ax.text((p.get_x()) + p.get_width()/2., p.get_height(), int(p.get_height()), \n",
    "            fontsize=12, ha='center', va='bottom')\n",
    "\n",
    "#Adding secondary axis\n",
    "ax2 = ax.twinx()\n",
    "ax2 = sns.lineplot(x = 'Bydele' , y = 'avg_rate' , data = a_rating2, color = 'lightcoral' , linewidth = 5, ax = ax2 , ci = None , sort = False)\n",
    "ax2.set_xticklabels(a_rating2['Bydele'] , fontsize = 16)\n",
    "\n",
    "ax2.set_ylim(3.5, 5)\n",
    "ax2.tick_params(axis = 'both' , which = 'both' , bottom = False , top = False , left = False , right = False , labelsize = 14) #Removes ticks\n",
    "ax2.yaxis.set_label_text(\"Avg. rating\") #Removes axis name\n",
    "\n",
    "#ax2.get_yaxis().set_visible(False)\n",
    "\n",
    "sns.despine(left = True , bottom = True , right = True) #Removes border\n",
    "\n",
    "plt.savefig('avg_rate_number.png')"
   ]
  },
  {
   "cell_type": "code",
   "execution_count": 12,
   "metadata": {},
   "outputs": [],
   "source": [
    "#Cuisines - starts from data3 and creates the same data cleaning(as above) but with all columns\n",
    "cuisine1 = data3.copy()\n",
    "cuisine1 = cuisine1.sort_values('post2')\n",
    "cuisine1 = cuisine1.reset_index(drop = True)\n",
    "\n",
    "#Changes 3 postal codes to 1050\n",
    "cuisine1.iloc[:3 , 2] = str(1050)\n",
    "#Creates new variable \"area\", a copy of post2 and makes post2 to a float\n",
    "cuisine1['area'] = cuisine1['post2']\n",
    "cuisine1['post2'] = cuisine1['post2'].astype(float)\n",
    "#Changes area to area names with pd.cut\n",
    "cuisine1['area'] = pd.cut(cuisine1.post2, bins=[0, 1499, 1799, 1999, 2000, 2100, 2150, 2200, 2300, 2400, 2450, 2500, 2610, 2700, 2720, 2770, 2860, 2900], labels=['København K', 'København V','Frederiksberg C', 'Frederiksberg', 'København Ø', 'Nordhavn', 'København N', 'København S', 'København NV', 'København SV', 'Valby', 'Rødovre', 'Brønshøj', 'Vanløse', 'Kastrup', 'Søborg', 'Hellerup'])\n",
    "#Drops area if nan\n",
    "cuisine1['area'].replace('', np.nan, inplace=True)\n",
    "cuisine1.dropna(subset=['area'], inplace=True)\n",
    "#Drops if rest_cuisine nan\n",
    "cuisine1.dropna(subset=['rest_cuisine'], inplace=True)"
   ]
  },
  {
   "cell_type": "code",
   "execution_count": 16,
   "metadata": {},
   "outputs": [],
   "source": [
    "#Since some cuisines have \"]\" in their rest_cuisine name, we create all rest_cuisine with and without ]\n",
    "j=['Europæisk', 'Italiensk', 'Japansk', 'Vegetarvenlig',\n",
    "       'Fisk og skaldyr', 'Pub', 'Bar', 'Fransk', 'Dansk',\n",
    "       'International', 'Asiatisk', 'Steakhouse', 'Mexicansk',\n",
    "       'Pizza', 'Café', 'Kinesisk', 'Indisk', 'Amerikansk',\n",
    "       'Skandinavisk', 'Bar', 'Grillmad', 'Dansk', 'Peruviansk', 'Irsk',\n",
    "       'Italiensk', 'Sushi', 'Pizza', 'Delikatesseforretning', 'Pub',\n",
    "       'En hurtig bid mad', 'Vegetarvenlig', 'Middelhavsområdet',\n",
    "       'Fastfood', 'Steakhouse', 'Fransk', 'Indisk', 'Libanesisk',\n",
    "       'Ølpub', 'Marokkansk', 'Tyrkisk', 'Fastfood', 'Skandinavisk',\n",
    "       'Café', 'Mellemøstlig', 'Europæisk', 'Latinamerikansk',\n",
    "       'Moderne', 'Dessert', 'Asiatisk', 'Belgisk', 'Græsk', 'Moderne',\n",
    "       'Vinstue', 'Indonesisk', 'Gastropub', 'International', 'Tysk',\n",
    "       'Mexicansk', 'Hollandsk', 'Mellemøstlig', 'Østrigsk',\n",
    "       'Kinesisk', 'Fisk og skaldyr', 'Latinamerikansk', 'Thai',\n",
    "       'Sushi]', 'Nepalesisk', 'Japansk', 'Thai', 'Amerikansk',\n",
    "       'Schweizisk', 'Middelhavsområdet', 'Vietnamesisk', 'Caribisk',\n",
    "       'Afrikansk', 'Spisested', 'Etiopisk', 'Brasiliansk','Fusion','Egyptisk','Glutenfri retter','Grill','Hawaiiansk','Koreansk','Malaysisk','Spansk','Sund','Veganske retter','Japansk slikcafé']\n",
    "k=[i+']' for i in j]\n",
    "#We create a new variable rest1\n",
    "cuisine1['rest1']=cuisine1['rest_cuisine']\n",
    "#We replace the k with j i.e. rest_cuisine with ] is replaced by just rest_cuisine\n",
    "cuisine1['rest1'].replace(k, j, inplace=True)"
   ]
  },
  {
   "cell_type": "code",
   "execution_count": 18,
   "metadata": {},
   "outputs": [],
   "source": [
    "#We have narrowed the cuisines down to 20 - again we make to lists\n",
    "l=['Bar','Fastfood','Bar','Japansk','Bar','Bar','Afrikansk','Europæisk','Europæisk','Café','Fastfood','Asiatisk','Europæisk','Asiatisk','Europæisk','Europæisk','Amerikansk','Europæisk','Latinamerikansk','Asiatisk','Asiatisk','Latinamerikansk','Latinamerikansk','Afrikansk','Café','Middelhavsområdet','Middelhavsområdet','Latinamerikansk','Café','Skandinavisk','Mellemøstlig','Moderne']\n",
    "m=['Pub','En hurtig bid mad','Ølpub','Sushi','Vinstue','Gastropub','Etiopisk','Østrigsk','Tysk','Spisested','Pizza','Thai','Belgisk','Vietnamesisk','Schweizisk','Hollandsk','Grillmad','Irsk','Peruviansk','Nepalesisk','Indonesisk','Caribisk','Brasiliansk','Marokkansk','Dessert','Tyrkisk','Græsk','Mexicansk','Delikatesseforretning','Dansk','Libanesisk','Vegetarvenlig']\n",
    "#We create a new variable rest2\n",
    "cuisine1['rest2']=cuisine1['rest1']\n",
    "#We replace m with l i.e. m is grouped down to l (20 cuisines)\n",
    "cuisine1['rest2'].replace(m, l, inplace=True)"
   ]
  },
  {
   "cell_type": "code",
   "execution_count": null,
   "metadata": {},
   "outputs": [],
   "source": [
    "#Export cuisines\n",
    "cuisine1.to_csv(r'/Users/annaluna/Documents/GitHub/AnnaRenneke/rest2.csv', encoding='utf-8-sig')"
   ]
  }
 ],
 "metadata": {
  "kernelspec": {
   "display_name": "Python 3",
   "language": "python",
   "name": "python3"
  },
  "language_info": {
   "codemirror_mode": {
    "name": "ipython",
    "version": 3
   },
   "file_extension": ".py",
   "mimetype": "text/x-python",
   "name": "python",
   "nbconvert_exporter": "python",
   "pygments_lexer": "ipython3",
   "version": "3.7.6"
  }
 },
 "nbformat": 4,
 "nbformat_minor": 4
}

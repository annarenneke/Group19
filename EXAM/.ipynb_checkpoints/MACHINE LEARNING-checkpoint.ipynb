{
 "cells": [
  {
   "cell_type": "markdown",
   "metadata": {},
   "source": [
    "# Code for Machine Learning"
   ]
  },
  {
   "cell_type": "markdown",
   "metadata": {},
   "source": [
    "**BEFORE ML:**\n",
    "\n",
    "**Step A: What problem?**\n",
    "    What kind of problem am I working on?\n",
    "    My target is:\n",
    "        - Contineous:\n",
    "            - We want to use a regression model\n",
    "            - We aim for a model with least MSe\n",
    "        - Categorical/finite integers:\n",
    "            - Classification model\n",
    "            - Highest accuracy (ACC)\n",
    "            \n",
    "**Step B: Which model?**\n",
    "    If regression:\n",
    "        - a linear model (OLS, Lasso, Ridge, Elastic net)\n",
    "      If classification:\n",
    "        - Logistic Regression (w/ or w/o regularization)\n",
    "\n",
    "**Step C:**\n",
    "    What hyperparameters exist for the model I have chosen?\n",
    "    - Ridge/Lasso: \\lambda\n",
    "    - Elastic net: \\lambda_1, \\lambda_2\n",
    "    - Logistic regression with L1 + L2\n",
    " \n",
    "         "
   ]
  },
  {
   "cell_type": "markdown",
   "metadata": {},
   "source": [
    "**ML STEPS:**\n",
    "\n"
   ]
  },
  {
   "cell_type": "markdown",
   "metadata": {},
   "source": [
    "**Import packages**"
   ]
  },
  {
   "cell_type": "code",
   "execution_count": null,
   "metadata": {},
   "outputs": [],
   "source": []
  },
  {
   "cell_type": "markdown",
   "metadata": {},
   "source": [
    "**Import data**"
   ]
  },
  {
   "cell_type": "code",
   "execution_count": null,
   "metadata": {},
   "outputs": [],
   "source": []
  }
 ],
 "metadata": {
  "kernelspec": {
   "display_name": "Python 3",
   "language": "python",
   "name": "python3"
  },
  "language_info": {
   "codemirror_mode": {
    "name": "ipython",
    "version": 3
   },
   "file_extension": ".py",
   "mimetype": "text/x-python",
   "name": "python",
   "nbconvert_exporter": "python",
   "pygments_lexer": "ipython3",
   "version": "3.7.6"
  }
 },
 "nbformat": 4,
 "nbformat_minor": 4
}

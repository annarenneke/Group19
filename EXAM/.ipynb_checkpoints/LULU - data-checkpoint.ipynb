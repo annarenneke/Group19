{
 "cells": [
  {
   "cell_type": "code",
   "execution_count": 7,
   "metadata": {},
   "outputs": [],
   "source": [
    "import pandas as pd\n",
    "import matplotlib.pyplot as plt"
   ]
  },
  {
   "cell_type": "code",
   "execution_count": 10,
   "metadata": {},
   "outputs": [
    {
     "name": "stdout",
     "output_type": "stream",
     "text": [
      "0       Holbergsgade 17 Lige Ved Nyhavnsbroen, Københa...\n",
      "1                Vesterbrogade 24, København 1620 Danmark\n",
      "2           Frederiksborggade 20d, København 1360 Danmark\n",
      "3                Studiestraede 17, København 1455 Danmark\n",
      "4              Gyldenloevesgade 4, København 1369 Danmark\n",
      "                              ...                        \n",
      "1799    Smallegade 20, Frederiksberg, København 2000 D...\n",
      "1800    Vermundsgade 40A 1st Floor, København 2100 Dan...\n",
      "1801                       Kultorvet 5, København Danmark\n",
      "1802    Dronningens Tvaergade 12 Dk - 1302, København ...\n",
      "1803    Holbergsgade 17 Lige Ved Nyhavnsbroen, Københa...\n",
      "Name: rest_location, Length: 1804, dtype: object\n"
     ]
    }
   ],
   "source": [
    "data = pd.read_csv(r'File-Name.csv', header = 0)\n",
    "#print(data.head())\n",
    "\n",
    "print(data['rest_location'])"
   ]
  },
  {
   "cell_type": "code",
   "execution_count": null,
   "metadata": {},
   "outputs": [],
   "source": []
  }
 ],
 "metadata": {
  "kernelspec": {
   "display_name": "Python 3",
   "language": "python",
   "name": "python3"
  },
  "language_info": {
   "codemirror_mode": {
    "name": "ipython",
    "version": 3
   },
   "file_extension": ".py",
   "mimetype": "text/x-python",
   "name": "python",
   "nbconvert_exporter": "python",
   "pygments_lexer": "ipython3",
   "version": "3.7.6"
  }
 },
 "nbformat": 4,
 "nbformat_minor": 4
}

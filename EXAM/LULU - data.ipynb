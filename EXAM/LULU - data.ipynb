{
 "cells": [
  {
   "cell_type": "code",
   "execution_count": 7,
   "metadata": {},
   "outputs": [],
   "source": [
    "import pandas as pd\n",
    "import matplotlib.pyplot as plt\n",
    "import numpy as np"
   ]
  },
  {
   "cell_type": "code",
   "execution_count": 8,
   "metadata": {
    "tags": []
   },
   "outputs": [
    {
     "output_type": "stream",
     "name": "stdout",
     "text": "Unnamed: 0                                              links  \\\n0           0  https://www.tripadvisor.dk/Restaurant_Review-g...   \n1           1  https://www.tripadvisor.dk/Restaurant_Review-g...   \n2           2  https://www.tripadvisor.dk/Restaurant_Review-g...   \n3           3  https://www.tripadvisor.dk/Restaurant_Review-g...   \n4           4  https://www.tripadvisor.dk/Restaurant_Review-g...   \n\n                  rest_name  \\\n0          Trattoria L’Alba   \n1       Maple Casual Dining   \n2             Keyser Social   \n3  Restaurant Krebsegaarden   \n4      The Midwestern Diner   \n\n                                       rest_location  rest_rating  \\\n0  Holbergsgade 17 Lige Ved Nyhavnsbroen, Københa...          4.5   \n1           Vesterbrogade 24, København 1620 Danmark          5.0   \n2      Frederiksborggade 20d, København 1360 Danmark          5.0   \n3           Studiestraede 17, København 1455 Danmark          5.0   \n4         Gyldenloevesgade 4, København 1369 Danmark          5.0   \n\n    rest_cuisine rest_cuisine_2   rest_cuisine_3  rest_no_review  \\\n0      Italiensk  Vegetarvenlig  Veganske retter           214.0   \n1  International      Europæisk    Vegetarvenlig           192.0   \n2        Japansk       Asiatisk             Thai            71.0   \n3      Europæisk   Skandinavisk            Dansk          1386.0   \n4     Amerikansk      Spisested    Vegetarvenlig           196.0   \n\n   rest_price_cat  \n0             2.5  \n1             2.5  \n2             4.0  \n3             4.0  \n4             2.5  \n                          rest_name rest_rating post2\n53                 Trattoria L’Alba         4.5  1057\n78       Garden Restaurant & Vinbar         4.5  1123\n80                       RetroGusto         4.5  1620\n82                 Trattoria L’Alba         4.5  1057\n107                       Bøf & Ost         3.5  1154\n...                             ...         ...   ...\n1779     Garden Restaurant & Vinbar         4.5  1123\n1785                        à terre         4.5  1055\n1791  Magasasa, Dim Sum & Cocktails         3.5  1711\n1797                      Peder Oxe           4  1154\n1803               Trattoria L’Alba         4.5  1057\n\n[249 rows x 3 columns]\n"
    }
   ],
   "source": [
    "data = pd.read_csv(r'File-Name.csv', header = 0)\n",
    "print(data.head())\n",
    "data2 = data.copy()\n",
    "data2.dropna(inplace = True) \n",
    "\n",
    "data2['post1']=data2['rest_location'].astype(str).str[:-8].copy()\n",
    "data2['post1']\n",
    "data2['post2']=data2['post1'].astype(str).str[-4:].copy()\n",
    "data2['post2']\n",
    "data2[(data2.post2 != 'havn')]\n",
    "data2[(data2.post2 != '00 N')]\n",
    "data2[(data2.post2 != '06 K')]\n",
    "data2[(data2.post2 != 'vn V')]\n",
    "data2['post2']=pd.to_numeric(data2['post2'], errors='ignore')\n",
    "\n",
    "data3=data2.loc[(data2['post2'] != 'havn') & (data2['post2'] != '00 N') & (data2['post2'] != '06 K') & (data2['post2'] != 'vn V') & (data2['post2'] != '')  ].copy()\n",
    "\n",
    "#new dataframe with specific columns\n",
    "#def select_columns(data_frame, column_names):\n",
    "  #  new_frame = data_frame.loc[:, column_names]\n",
    "  #  return new_frame\n",
    "\n",
    "#selected_columns = ['index', 'rest_name', 'rest_rating', 'post2']\n",
    "#new = select_columns(old, selected_columns)\n",
    "new = pd.DataFrame([data3.rest_name, data3.rest_rating, data3.post2]).transpose()\n",
    "\n",
    "duplicateDFRow = new[new.duplicated()]\n",
    "print(duplicateDFRow)\n",
    "\n",
    "new2 = new.drop_duplicates()\n",
    "\n",
    "new3 = new2.copy()\n",
    "new3 = new3.sort_values('post2')\n",
    "new3 = new3.reset_index(drop = True)\n",
    "#new3.set_index('post2')\n",
    "\n",
    "#vi har ændret 3 postnumre fra 1001 til 1050 da 1001 reelt er en postboks og ikke en adresse men de 3 restauranter ligger i KBH K\n",
    "new3.iloc[:3 , 2] = str(1050)\n",
    "\n",
    "new3['area'] = new3['post2']\n",
    "\n",
    "#new3[\"area\"].replace({\"1050\": \"København K\"}, inplace=True)\n",
    "\n",
    "\n",
    "#new3['area'] = pd.cut(new3.post2, bins=[0, 1499, 1799, 1999, 2000, 2100, 2150, 2200, 2300, 2400, 2450, np.inf], labels=False, right=True) + 1\n",
    "\n",
    "new3['post2'] = new3['post2'].astype(float)\n",
    "\n",
    "new3['area'] = pd.cut(new3.post2, bins=[0, 1499, 1799, 1999, 2000, 2100, 2150, 2200, 2300, 2400, 2450, 2500, 2610, 2700, 2720, 2770, 2860, 2900], labels=['København K', 'København V','Frederiksberg C', 'Frederiksberg', 'København Ø', 'Nordhavn', 'København N', 'København S', 'København NV', 'København SV', 'Valby', 'Rødovre', 'Brønshøj', 'Vanløse', 'Kastrup', 'Søborg', 'Hellerup'])\n",
    "\n",
    "new3['area'].replace('', np.nan, inplace=True)\n",
    "new3.dropna(subset=['area'], inplace=True)"
   ]
  },
  {
   "cell_type": "code",
   "execution_count": 9,
   "metadata": {
    "tags": []
   },
   "outputs": [],
   "source": [
    "#udregne de gennemsnitlige restaurant rating pr. bydel i København\n",
    "\n",
    "#vi udregner det med summen/antal ratings pr. bydel\n",
    "sum_kbhK = new3[new3['area'] == 'København K'].rest_rating.sum()\n",
    "len_kbhK = len(new3[new3['area'] == 'København K'].rest_rating)\n",
    "avg_rating_kbhK = sum_kbhK/len_kbhK\n",
    "\n",
    "sum_kbhV = new3[new3['area'] == 'København V'].rest_rating.sum()\n",
    "len_kbhV = len(new3[new3['area'] == 'København V'].rest_rating)\n",
    "avg_rating_kbhV = sum_kbhV/len_kbhV\n",
    "\n",
    "sum_F= new3[new3['area'] == 'Frederiksberg'].rest_rating.sum()\n",
    "len_F = len(new3[new3['area'] == 'Frederiksberg'].rest_rating)\n",
    "avg_rating_F = sum_F/len_F\n",
    "\n",
    "sum_Fc= new3[new3['area'] == 'Frederiksberg C'].rest_rating.sum()\n",
    "len_Fc = len(new3[new3['area'] == 'Frederiksberg C'].rest_rating)\n",
    "avg_rating_Fc = sum_Fc/len_Fc\n",
    "\n",
    "sum_kbhOE = new3[new3['area'] == 'København Ø'].rest_rating.sum()\n",
    "len_kbhOE = len(new3[new3['area'] == 'København Ø'].rest_rating)\n",
    "avg_rating_kbhOE = sum_kbhOE/len_kbhOE\n",
    "\n",
    "sum_N = new3[new3['area'] == 'Nordhavn'].rest_rating.sum()\n",
    "len_N = len(new3[new3['area'] == 'Nordhavn'].rest_rating)\n",
    "avg_rating_N = sum_N/len_N\n",
    "\n",
    "sum_kbhN = new3[new3['area'] == 'København N'].rest_rating.sum()\n",
    "len_kbhN = len(new3[new3['area'] == 'København N'].rest_rating)\n",
    "avg_rating_kbhN = sum_kbhN/len_kbhN\n",
    "\n",
    "sum_kbhS = new3[new3['area'] == 'København S'].rest_rating.sum()\n",
    "len_kbhS = len(new3[new3['area'] == 'København S'].rest_rating)\n",
    "avg_rating_kbhS = sum_kbhS/len_kbhS\n",
    "\n",
    "sum_kbhNV = new3[new3['area'] == 'København NV'].rest_rating.sum()\n",
    "len_kbhNV = len(new3[new3['area'] == 'København NV'].rest_rating)\n",
    "avg_rating_kbhNV = sum_kbhNV/len_kbhNV\n",
    "\n",
    "sum_kbhSV = new3[new3['area'] == 'København SV'].rest_rating.sum()\n",
    "len_kbhSV = len(new3[new3['area'] == 'København SV'].rest_rating)\n",
    "avg_rating_kbhSV = sum_kbhSV/len_kbhSV\n",
    "\n",
    "sum_V = new3[new3['area'] == 'Valby'].rest_rating.sum()\n",
    "len_V = len(new3[new3['area'] == 'Valby'].rest_rating)\n",
    "avg_rating_V = sum_V/len_V\n",
    "\n",
    "#sum_R = new3[new3['area'] == 'Rødovre'].rest_rating.sum()\n",
    "#len_R = len(new3[new3['area'] == 'Rødovre'].rest_rating)\n",
    "#avg_rating_R = sum_R/len_R\n",
    "\n",
    "sum_B = new3[new3['area'] == 'Brønshøj'].rest_rating.sum()\n",
    "len_B = len(new3[new3['area'] == 'Brønshøj'].rest_rating)\n",
    "avg_rating_B = sum_B/len_B\n",
    "\n",
    "sum_VL = new3[new3['area'] == 'Vanløse'].rest_rating.sum()\n",
    "len_VL = len(new3[new3['area'] == 'Vanløse'].rest_rating)\n",
    "avg_rating_VL = sum_VL/len_VL\n",
    "\n",
    "sum_K = new3[new3['area'] == 'Kastrup'].rest_rating.sum()\n",
    "len_K = len(new3[new3['area'] == 'Kastrup'].rest_rating)\n",
    "avg_rating_K = sum_K/len_K\n",
    "\n",
    "sum_S = new3[new3['area'] == 'Søborg'].rest_rating.sum()\n",
    "len_S = len(new3[new3['area'] == 'Søborg'].rest_rating)\n",
    "avg_rating_S = sum_S/len_S\n",
    "\n",
    "sum_H = new3[new3['area'] == 'Hellerup'].rest_rating.sum()\n",
    "len_H = len(new3[new3['area'] == 'Hellerup'].rest_rating)\n",
    "avg_rating_H = sum_H/len_H\n",
    "\n",
    "\n"
   ]
  },
  {
   "cell_type": "code",
   "execution_count": 19,
   "metadata": {},
   "outputs": [],
   "source": [
    "\n",
    "avg_rate = [avg_rating_kbhK] + [avg_rating_kbhV] + [avg_rating_F] + [avg_rating_Fc] + [avg_rating_kbhOE] + [avg_rating_N] + [avg_rating_kbhN] + [avg_rating_kbhS] + [avg_rating_kbhNV] + [avg_rating_kbhSV] + [avg_rating_V] + [avg_rating_B] + [avg_rating_VL] + [avg_rating_K] + [avg_rating_S] + [avg_rating_H]\n"
   ]
  },
  {
   "cell_type": "code",
   "execution_count": 18,
   "metadata": {},
   "outputs": [],
   "source": [
    "\n",
    "avg_rate2 = np.around(avg_rate, decimals=3)"
   ]
  },
  {
   "cell_type": "code",
   "execution_count": 16,
   "metadata": {
    "tags": []
   },
   "outputs": [
    {
     "output_type": "stream",
     "name": "stdout",
     "text": "[4.164 4.1   4.1   4.12  4.226 4.5   4.161 4.052 4.1   4.4   4.5   5.\n 4.25  4.    3.9   4.125]\n"
    }
   ],
   "source": [
    "print(avg_rate2)\n",
    "\n",
    "#new3['avg_rate'] = "
   ]
  },
  {
   "cell_type": "code",
   "execution_count": null,
   "metadata": {},
   "outputs": [],
   "source": []
  }
 ],
 "metadata": {
  "kernelspec": {
   "display_name": "Python 3",
   "language": "python",
   "name": "python3"
  },
  "language_info": {
   "codemirror_mode": {
    "name": "ipython",
    "version": 3
   },
   "file_extension": ".py",
   "mimetype": "text/x-python",
   "name": "python",
   "nbconvert_exporter": "python",
   "pygments_lexer": "ipython3",
   "version": "3.7.6-final"
  }
 },
 "nbformat": 4,
 "nbformat_minor": 4
}
{
 "cells": [
  {
   "cell_type": "code",
   "execution_count": 1,
   "metadata": {},
   "outputs": [],
   "source": [
    "#import packages\n",
    "import csv\n",
    "import pandas as pd"
   ]
  },
  {
   "cell_type": "code",
   "execution_count": 2,
   "metadata": {},
   "outputs": [
    {
     "output_type": "execute_result",
     "data": {
      "text/plain": "      value  rest_price_cat  rest_no_review  rest_rating_aggr  \\\n0  7.143611             2.5            48.0               4.5   \n1  2.414839             2.5            48.0               4.5   \n2  2.414839             2.5            48.0               4.5   \n3  4.801204             2.5            48.0               4.5   \n4  4.892359             2.5            48.0               4.5   \n\n   area_Frederiksberg  area_Frederiksberg C  area_Hellerup  area_Kastrup  \\\n0                   0                     0              0             0   \n1                   0                     0              0             0   \n2                   0                     0              0             0   \n3                   0                     0              0             0   \n4                   0                     0              0             0   \n\n   area_København K  area_København N  ...  month_08  month_09  month_10  \\\n0                 1                 0  ...         0         0         0   \n1                 1                 0  ...         0         0         0   \n2                 1                 0  ...         0         0         0   \n3                 1                 0  ...         0         0         0   \n4                 1                 0  ...         0         0         0   \n\n   month_11  month_12  rest_rating_1  rest_rating_2  rest_rating_3  \\\n0         0         0              0              0              0   \n1         0         0              0              0              0   \n2         0         0              0              0              0   \n3         1         0              0              0              0   \n4         0         1              0              0              0   \n\n   rest_rating_4  rest_rating_5  \n0              0              1  \n1              1              0  \n2              1              0  \n3              0              1  \n4              0              1  \n\n[5 rows x 54 columns]",
      "text/html": "<div>\n<style scoped>\n    .dataframe tbody tr th:only-of-type {\n        vertical-align: middle;\n    }\n\n    .dataframe tbody tr th {\n        vertical-align: top;\n    }\n\n    .dataframe thead th {\n        text-align: right;\n    }\n</style>\n<table border=\"1\" class=\"dataframe\">\n  <thead>\n    <tr style=\"text-align: right;\">\n      <th></th>\n      <th>value</th>\n      <th>rest_price_cat</th>\n      <th>rest_no_review</th>\n      <th>rest_rating_aggr</th>\n      <th>area_Frederiksberg</th>\n      <th>area_Frederiksberg C</th>\n      <th>area_Hellerup</th>\n      <th>area_Kastrup</th>\n      <th>area_København K</th>\n      <th>area_København N</th>\n      <th>...</th>\n      <th>month_08</th>\n      <th>month_09</th>\n      <th>month_10</th>\n      <th>month_11</th>\n      <th>month_12</th>\n      <th>rest_rating_1</th>\n      <th>rest_rating_2</th>\n      <th>rest_rating_3</th>\n      <th>rest_rating_4</th>\n      <th>rest_rating_5</th>\n    </tr>\n  </thead>\n  <tbody>\n    <tr>\n      <th>0</th>\n      <td>7.143611</td>\n      <td>2.5</td>\n      <td>48.0</td>\n      <td>4.5</td>\n      <td>0</td>\n      <td>0</td>\n      <td>0</td>\n      <td>0</td>\n      <td>1</td>\n      <td>0</td>\n      <td>...</td>\n      <td>0</td>\n      <td>0</td>\n      <td>0</td>\n      <td>0</td>\n      <td>0</td>\n      <td>0</td>\n      <td>0</td>\n      <td>0</td>\n      <td>0</td>\n      <td>1</td>\n    </tr>\n    <tr>\n      <th>1</th>\n      <td>2.414839</td>\n      <td>2.5</td>\n      <td>48.0</td>\n      <td>4.5</td>\n      <td>0</td>\n      <td>0</td>\n      <td>0</td>\n      <td>0</td>\n      <td>1</td>\n      <td>0</td>\n      <td>...</td>\n      <td>0</td>\n      <td>0</td>\n      <td>0</td>\n      <td>0</td>\n      <td>0</td>\n      <td>0</td>\n      <td>0</td>\n      <td>0</td>\n      <td>1</td>\n      <td>0</td>\n    </tr>\n    <tr>\n      <th>2</th>\n      <td>2.414839</td>\n      <td>2.5</td>\n      <td>48.0</td>\n      <td>4.5</td>\n      <td>0</td>\n      <td>0</td>\n      <td>0</td>\n      <td>0</td>\n      <td>1</td>\n      <td>0</td>\n      <td>...</td>\n      <td>0</td>\n      <td>0</td>\n      <td>0</td>\n      <td>0</td>\n      <td>0</td>\n      <td>0</td>\n      <td>0</td>\n      <td>0</td>\n      <td>1</td>\n      <td>0</td>\n    </tr>\n    <tr>\n      <th>3</th>\n      <td>4.801204</td>\n      <td>2.5</td>\n      <td>48.0</td>\n      <td>4.5</td>\n      <td>0</td>\n      <td>0</td>\n      <td>0</td>\n      <td>0</td>\n      <td>1</td>\n      <td>0</td>\n      <td>...</td>\n      <td>0</td>\n      <td>0</td>\n      <td>0</td>\n      <td>1</td>\n      <td>0</td>\n      <td>0</td>\n      <td>0</td>\n      <td>0</td>\n      <td>0</td>\n      <td>1</td>\n    </tr>\n    <tr>\n      <th>4</th>\n      <td>4.892359</td>\n      <td>2.5</td>\n      <td>48.0</td>\n      <td>4.5</td>\n      <td>0</td>\n      <td>0</td>\n      <td>0</td>\n      <td>0</td>\n      <td>1</td>\n      <td>0</td>\n      <td>...</td>\n      <td>0</td>\n      <td>0</td>\n      <td>0</td>\n      <td>0</td>\n      <td>1</td>\n      <td>0</td>\n      <td>0</td>\n      <td>0</td>\n      <td>0</td>\n      <td>1</td>\n    </tr>\n  </tbody>\n</table>\n<p>5 rows × 54 columns</p>\n</div>"
     },
     "metadata": {},
     "execution_count": 2
    }
   ],
   "source": [
    "#import data\n",
    "df = pd.read_csv(r'ML_DATA.csv' , sep = ',')\n",
    "\n",
    "df = df.iloc[:,1:]\n",
    "\n",
    "df.head()\n",
    "\n"
   ]
  },
  {
   "cell_type": "code",
   "execution_count": 3,
   "metadata": {},
   "outputs": [
    {
     "output_type": "execute_result",
     "data": {
      "text/plain": "Index(['value', 'rest_price_cat', 'rest_no_review', 'rest_rating_aggr',\n       'area_Frederiksberg', 'area_Frederiksberg C', 'area_Hellerup',\n       'area_Kastrup', 'area_København K', 'area_København N',\n       'area_København NV', 'area_København S', 'area_København SV',\n       'area_København V', 'area_København Ø', 'area_Nordhavn', 'area_Søborg',\n       'area_Valby', 'area_Vanløse', 'rest2_Amerikansk', 'rest2_Asiatisk',\n       'rest2_Bar', 'rest2_Café', 'rest2_Europæisk', 'rest2_Fastfood',\n       'rest2_Fisk og skaldyr', 'rest2_Fransk', 'rest2_Indisk',\n       'rest2_International', 'rest2_Italiensk', 'rest2_Japansk',\n       'rest2_Kinesisk', 'rest2_Latinamerikansk', 'rest2_Mellemøstlig',\n       'rest2_Middelhavsområdet', 'rest2_Moderne', 'rest2_Skandinavisk',\n       'rest2_Steakhouse', 'month_02', 'month_03', 'month_04', 'month_05',\n       'month_06', 'month_07', 'month_08', 'month_09', 'month_10', 'month_11',\n       'month_12', 'rest_rating_1', 'rest_rating_2', 'rest_rating_3',\n       'rest_rating_4', 'rest_rating_5'],\n      dtype='object')"
     },
     "metadata": {},
     "execution_count": 3
    }
   ],
   "source": [
    "df.columns"
   ]
  },
  {
   "cell_type": "code",
   "execution_count": null,
   "metadata": {},
   "outputs": [],
   "source": [
    "\n",
    " "
   ]
  },
  {
   "cell_type": "markdown",
   "metadata": {},
   "source": [
    "**THIS IS DECISION TREE**\n",
    "kilde: https://www.datacamp.com/community/tutorials/decision-tree-classification-python"
   ]
  },
  {
   "cell_type": "code",
   "execution_count": 4,
   "metadata": {},
   "outputs": [],
   "source": [
    "from sklearn.tree import DecisionTreeClassifier # Import Decision Tree Classifier\n",
    "from sklearn.model_selection import train_test_split # Import train_test_split function\n",
    "from sklearn import metrics #Import scikit-learn metrics module for accuracy calculation"
   ]
  },
  {
   "cell_type": "code",
   "execution_count": 5,
   "metadata": {},
   "outputs": [],
   "source": [
    "#split dataset in features and target variable\n",
    "#target = y\n",
    "#feature = x\n",
    "target = ['rest_rating_1', 'rest_rating_2', 'rest_rating_3',\n",
    "       'rest_rating_4', 'rest_rating_5']\n",
    "\n",
    "feature = ['value', 'rest_price_cat', 'rest_no_review', 'rest_rating_aggr',\n",
    "       'area_Frederiksberg', 'area_Frederiksberg C', 'area_Hellerup',\n",
    "       'area_Kastrup', 'area_København K', 'area_København N',\n",
    "       'area_København NV', 'area_København S', 'area_København SV',\n",
    "       'area_København V', 'area_København Ø', 'area_Nordhavn', 'area_Søborg',\n",
    "       'area_Valby', 'area_Vanløse', 'rest2_Amerikansk', 'rest2_Asiatisk',\n",
    "       'rest2_Bar', 'rest2_Café', 'rest2_Europæisk', 'rest2_Fastfood',\n",
    "       'rest2_Fisk og skaldyr', 'rest2_Fransk', 'rest2_Indisk',\n",
    "       'rest2_International', 'rest2_Italiensk', 'rest2_Japansk',\n",
    "       'rest2_Kinesisk', 'rest2_Latinamerikansk', 'rest2_Mellemøstlig',\n",
    "       'rest2_Middelhavsområdet', 'rest2_Moderne', 'rest2_Skandinavisk',\n",
    "       'rest2_Steakhouse', 'month_02', 'month_03', 'month_04', 'month_05',\n",
    "       'month_06', 'month_07', 'month_08', 'month_09', 'month_10', 'month_11',\n",
    "       'month_12']      \n",
    "\n",
    "X = df[feature] # Features\n",
    "y = df[target] # Target variable\n",
    "\n",
    "# Split dataset into training set and test set\n",
    "X_train, X_test, y_train, y_test = train_test_split(X, y, test_size=0.2, random_state=1) # 80% training and 20% test"
   ]
  },
  {
   "cell_type": "code",
   "execution_count": 18,
   "metadata": {},
   "outputs": [],
   "source": [
    "from sklearn.preprocessing import Normalizer \n",
    "from sklearn.preprocessing import StandardScaler \n",
    "#Standardization\n",
    "scaler = StandardScaler().fit(X_train)\n",
    "standardized_X = scaler.transform(X_train)\n",
    "standardized_X_test = scaler.transform(X_test)\n",
    "#normalize\n",
    "scaler = Normalizer().fit(X_train)\n",
    "normalized_X = scaler.transform(X_train) \n",
    "normalized_X_test = scaler.transform(X_test)"
   ]
  },
  {
   "cell_type": "code",
   "execution_count": 19,
   "metadata": {
    "tags": []
   },
   "outputs": [
    {
     "output_type": "stream",
     "name": "stdout",
     "text": "Accuracy: 0.3352438571352757\n"
    }
   ],
   "source": [
    "#BUILD THE DECISION MODEL\n",
    "# Create Decision Tree classifer object\n",
    "clf = DecisionTreeClassifier()\n",
    "#amx_depth=10\n",
    "# Train Decision Tree Classifer\n",
    "clf = clf.fit(X_train,y_train)\n",
    "\n",
    "#Predict the response for test dataset\n",
    "y_pred = clf.predict(X_test)\n",
    "\n",
    "#Model Accuracy, how often is the classifier correct?\n",
    "print(\"Accuracy:\",metrics.accuracy_score(y_test, y_pred))\n",
    "\n",
    "#Accuracy: 0.3352438571352757"
   ]
  },
  {
   "cell_type": "code",
   "execution_count": 7,
   "metadata": {
    "tags": []
   },
   "outputs": [
    {
     "output_type": "stream",
     "name": "stdout",
     "text": "Requirement already satisfied: graphviz in /opt/anaconda3/lib/python3.7/site-packages (0.14.1)\nRequirement already satisfied: pydotplus in /opt/anaconda3/lib/python3.7/site-packages (2.0.2)\nRequirement already satisfied: pyparsing>=2.0.1 in /opt/anaconda3/lib/python3.7/site-packages (from pydotplus) (2.4.6)\n"
    }
   ],
   "source": [
    "!pip install graphviz\n",
    "!pip install pydotplus"
   ]
  },
  {
   "cell_type": "code",
   "execution_count": 8,
   "metadata": {},
   "outputs": [],
   "source": [
    "from sklearn.tree import export_graphviz\n",
    "from sklearn.externals.six import StringIO  \n",
    "from IPython.display import Image  \n",
    "import pydotplus"
   ]
  },
  {
   "cell_type": "code",
   "execution_count": 9,
   "metadata": {},
   "outputs": [],
   "source": [
    "#VISUALIZE DECISION TREE\n",
    "#dot_data = StringIO()\n",
    "#export_graphviz(clf, out_file=dot_data,  \n",
    " #               filled=True, rounded=True,\n",
    "  #              special_characters=True,feature_names = feature,class_names=['1','2', '3', '4', '5'])\n",
    "#graph = pydotplus.graph_from_dot_data(dot_data.getvalue())  \n",
    "#graph.write_png('Rating.png')\n",
    "#Image(graph.create_png())"
   ]
  },
  {
   "cell_type": "code",
   "execution_count": 23,
   "metadata": {
    "tags": []
   },
   "outputs": [
    {
     "output_type": "stream",
     "name": "stdout",
     "text": "Accuracy: 0.33296184259406675\n"
    }
   ],
   "source": [
    "#OPTIMIZING\n",
    "# Create Decision Tree classifer object\n",
    "clf = DecisionTreeClassifier(criterion=\"entropy\", max_depth=40)\n",
    "\n",
    "# Train Decision Tree Classifer\n",
    "clf = clf.fit(X_train,y_train)\n",
    "\n",
    "#Predict the response for test dataset\n",
    "y_pred = clf.predict(X_test)\n",
    "\n",
    "# Model Accuracy, how often is the classifier correct?\n",
    "print(\"Accuracy:\",metrics.accuracy_score(y_test, y_pred))\n",
    "#max_depth = 50: Accuracy: 0.3337578941782094\n",
    "#max_depth = 40: Accuracy: 0.3338640343894284\n",
    "#max_depth = 10: Accuracy: 0.2516053706946877"
   ]
  },
  {
   "cell_type": "code",
   "execution_count": null,
   "metadata": {},
   "outputs": [],
   "source": [
    "#from sklearn.externals.six import StringIO  \n",
    "#from IPython.display import Image  \n",
    "#from sklearn.tree import export_graphviz\n",
    "#import pydotplus\n",
    "#dot_data = StringIO()\n",
    "#export_graphviz(clf, out_file=dot_data,  \n",
    " #               filled=True, rounded=True,\n",
    " #               special_characters=True, feature_names = feature_cols,class_names=['0','1'])\n",
    "#graph = pydotplus.graph_from_dot_data(dot_data.getvalue())  \n",
    "#graph.write_png('diabetes.png')\n",
    "#Image(graph.create_png())"
   ]
  },
  {
   "cell_type": "markdown",
   "metadata": {},
   "source": [
    "**THIS IS RANDOM FOREST**"
   ]
  },
  {
   "cell_type": "code",
   "execution_count": null,
   "metadata": {},
   "outputs": [],
   "source": [
    "# Import train_test_split function\n",
    "from sklearn.model_selection import train_test_split\n",
    "\n",
    "X2=data[['sepal length', 'sepal width', 'petal length', 'petal width']]  # Features\n",
    "y2=data['species']  # Labels\n",
    "\n",
    "# Split dataset into training set and test set\n",
    "X2_train, X2_test, y2_train, y2_test = train_test_split(X2, y2, test_size=0.2) # 80% training and 20% test"
   ]
  }
 ],
 "metadata": {
  "kernelspec": {
   "display_name": "Python 3",
   "language": "python",
   "name": "python3"
  },
  "language_info": {
   "codemirror_mode": {
    "name": "ipython",
    "version": 3
   },
   "file_extension": ".py",
   "mimetype": "text/x-python",
   "name": "python",
   "nbconvert_exporter": "python",
   "pygments_lexer": "ipython3",
   "version": "3.7.6-final"
  }
 },
 "nbformat": 4,
 "nbformat_minor": 4
}
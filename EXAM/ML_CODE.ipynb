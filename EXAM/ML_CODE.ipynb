{
 "cells": [
  {
   "cell_type": "code",
   "execution_count": 15,
   "metadata": {},
   "outputs": [],
   "source": [
    "#import packages\n",
    "import csv\n",
    "import pandas as pd\n",
    "from sklearn.tree import DecisionTreeClassifier # Import Decision Tree Classifier\n",
    "from sklearn.model_selection import train_test_split # Import train_test_split function\n",
    "from sklearn import metrics #Import scikit-learn metrics module for accuracy calculation\n",
    "from sklearn.metrics import confusion_matrix\n",
    "import seaborn as sns\n",
    "import matplotlib.pyplot as plt\n",
    "import time\n",
    "from sklearn.ensemble import RandomForestClassifier\n",
    "import numpy as np\n",
    "from sklearn.preprocessing import StandardScaler\n",
    "from sklearn.model_selection import GridSearchCV, TimeSeriesSplit, train_test_split\n",
    "from sklearn.pipeline import Pipeline"
   ]
  },
  {
   "cell_type": "code",
   "execution_count": 16,
   "metadata": {},
   "outputs": [
    {
     "data": {
      "text/html": [
       "<div>\n",
       "<style scoped>\n",
       "    .dataframe tbody tr th:only-of-type {\n",
       "        vertical-align: middle;\n",
       "    }\n",
       "\n",
       "    .dataframe tbody tr th {\n",
       "        vertical-align: top;\n",
       "    }\n",
       "\n",
       "    .dataframe thead th {\n",
       "        text-align: right;\n",
       "    }\n",
       "</style>\n",
       "<table border=\"1\" class=\"dataframe\">\n",
       "  <thead>\n",
       "    <tr style=\"text-align: right;\">\n",
       "      <th></th>\n",
       "      <th>value</th>\n",
       "      <th>rest_price_cat</th>\n",
       "      <th>rest_no_review</th>\n",
       "      <th>rest_rating_aggr</th>\n",
       "      <th>area_Frederiksberg</th>\n",
       "      <th>area_Frederiksberg C</th>\n",
       "      <th>area_Hellerup</th>\n",
       "      <th>area_Kastrup</th>\n",
       "      <th>area_København K</th>\n",
       "      <th>area_København N</th>\n",
       "      <th>...</th>\n",
       "      <th>month_09</th>\n",
       "      <th>month_10</th>\n",
       "      <th>month_11</th>\n",
       "      <th>month_12</th>\n",
       "      <th>rest_rating_1</th>\n",
       "      <th>rest_rating_2</th>\n",
       "      <th>rest_rating_3</th>\n",
       "      <th>rest_rating_4</th>\n",
       "      <th>rest_rating_5</th>\n",
       "      <th>rating_cat</th>\n",
       "    </tr>\n",
       "  </thead>\n",
       "  <tbody>\n",
       "    <tr>\n",
       "      <td>0</td>\n",
       "      <td>7.143611</td>\n",
       "      <td>2.5</td>\n",
       "      <td>48.0</td>\n",
       "      <td>4.5</td>\n",
       "      <td>0</td>\n",
       "      <td>0</td>\n",
       "      <td>0</td>\n",
       "      <td>0</td>\n",
       "      <td>1</td>\n",
       "      <td>0</td>\n",
       "      <td>...</td>\n",
       "      <td>0</td>\n",
       "      <td>0</td>\n",
       "      <td>0</td>\n",
       "      <td>0</td>\n",
       "      <td>0</td>\n",
       "      <td>0</td>\n",
       "      <td>0</td>\n",
       "      <td>0</td>\n",
       "      <td>1</td>\n",
       "      <td>5</td>\n",
       "    </tr>\n",
       "    <tr>\n",
       "      <td>1</td>\n",
       "      <td>2.414839</td>\n",
       "      <td>2.5</td>\n",
       "      <td>48.0</td>\n",
       "      <td>4.5</td>\n",
       "      <td>0</td>\n",
       "      <td>0</td>\n",
       "      <td>0</td>\n",
       "      <td>0</td>\n",
       "      <td>1</td>\n",
       "      <td>0</td>\n",
       "      <td>...</td>\n",
       "      <td>0</td>\n",
       "      <td>0</td>\n",
       "      <td>0</td>\n",
       "      <td>0</td>\n",
       "      <td>0</td>\n",
       "      <td>0</td>\n",
       "      <td>0</td>\n",
       "      <td>1</td>\n",
       "      <td>0</td>\n",
       "      <td>4</td>\n",
       "    </tr>\n",
       "    <tr>\n",
       "      <td>2</td>\n",
       "      <td>2.414839</td>\n",
       "      <td>2.5</td>\n",
       "      <td>48.0</td>\n",
       "      <td>4.5</td>\n",
       "      <td>0</td>\n",
       "      <td>0</td>\n",
       "      <td>0</td>\n",
       "      <td>0</td>\n",
       "      <td>1</td>\n",
       "      <td>0</td>\n",
       "      <td>...</td>\n",
       "      <td>0</td>\n",
       "      <td>0</td>\n",
       "      <td>0</td>\n",
       "      <td>0</td>\n",
       "      <td>0</td>\n",
       "      <td>0</td>\n",
       "      <td>0</td>\n",
       "      <td>1</td>\n",
       "      <td>0</td>\n",
       "      <td>4</td>\n",
       "    </tr>\n",
       "    <tr>\n",
       "      <td>3</td>\n",
       "      <td>4.801204</td>\n",
       "      <td>2.5</td>\n",
       "      <td>48.0</td>\n",
       "      <td>4.5</td>\n",
       "      <td>0</td>\n",
       "      <td>0</td>\n",
       "      <td>0</td>\n",
       "      <td>0</td>\n",
       "      <td>1</td>\n",
       "      <td>0</td>\n",
       "      <td>...</td>\n",
       "      <td>0</td>\n",
       "      <td>0</td>\n",
       "      <td>1</td>\n",
       "      <td>0</td>\n",
       "      <td>0</td>\n",
       "      <td>0</td>\n",
       "      <td>0</td>\n",
       "      <td>0</td>\n",
       "      <td>1</td>\n",
       "      <td>5</td>\n",
       "    </tr>\n",
       "    <tr>\n",
       "      <td>4</td>\n",
       "      <td>4.892359</td>\n",
       "      <td>2.5</td>\n",
       "      <td>48.0</td>\n",
       "      <td>4.5</td>\n",
       "      <td>0</td>\n",
       "      <td>0</td>\n",
       "      <td>0</td>\n",
       "      <td>0</td>\n",
       "      <td>1</td>\n",
       "      <td>0</td>\n",
       "      <td>...</td>\n",
       "      <td>0</td>\n",
       "      <td>0</td>\n",
       "      <td>0</td>\n",
       "      <td>1</td>\n",
       "      <td>0</td>\n",
       "      <td>0</td>\n",
       "      <td>0</td>\n",
       "      <td>0</td>\n",
       "      <td>1</td>\n",
       "      <td>5</td>\n",
       "    </tr>\n",
       "  </tbody>\n",
       "</table>\n",
       "<p>5 rows × 55 columns</p>\n",
       "</div>"
      ],
      "text/plain": [
       "      value  rest_price_cat  rest_no_review  rest_rating_aggr  \\\n",
       "0  7.143611             2.5            48.0               4.5   \n",
       "1  2.414839             2.5            48.0               4.5   \n",
       "2  2.414839             2.5            48.0               4.5   \n",
       "3  4.801204             2.5            48.0               4.5   \n",
       "4  4.892359             2.5            48.0               4.5   \n",
       "\n",
       "   area_Frederiksberg  area_Frederiksberg C  area_Hellerup  area_Kastrup  \\\n",
       "0                   0                     0              0             0   \n",
       "1                   0                     0              0             0   \n",
       "2                   0                     0              0             0   \n",
       "3                   0                     0              0             0   \n",
       "4                   0                     0              0             0   \n",
       "\n",
       "   area_København K  area_København N  ...  month_09  month_10  month_11  \\\n",
       "0                 1                 0  ...         0         0         0   \n",
       "1                 1                 0  ...         0         0         0   \n",
       "2                 1                 0  ...         0         0         0   \n",
       "3                 1                 0  ...         0         0         1   \n",
       "4                 1                 0  ...         0         0         0   \n",
       "\n",
       "   month_12  rest_rating_1  rest_rating_2  rest_rating_3  rest_rating_4  \\\n",
       "0         0              0              0              0              0   \n",
       "1         0              0              0              0              1   \n",
       "2         0              0              0              0              1   \n",
       "3         0              0              0              0              0   \n",
       "4         1              0              0              0              0   \n",
       "\n",
       "   rest_rating_5  rating_cat  \n",
       "0              1           5  \n",
       "1              0           4  \n",
       "2              0           4  \n",
       "3              1           5  \n",
       "4              1           5  \n",
       "\n",
       "[5 rows x 55 columns]"
      ]
     },
     "execution_count": 16,
     "metadata": {},
     "output_type": "execute_result"
    }
   ],
   "source": [
    "#import data\n",
    "\n",
    "df = pd.read_csv(r'ML_DATA.csv' , sep = ',')\n",
    "\n",
    "df = df.iloc[:,1:]\n",
    "\n",
    "df.head()"
   ]
  },
  {
   "cell_type": "code",
   "execution_count": 17,
   "metadata": {},
   "outputs": [
    {
     "data": {
      "text/plain": [
       "Index(['value', 'rest_price_cat', 'rest_no_review', 'rest_rating_aggr',\n",
       "       'area_Frederiksberg', 'area_Frederiksberg C', 'area_Hellerup',\n",
       "       'area_Kastrup', 'area_København K', 'area_København N',\n",
       "       'area_København NV', 'area_København S', 'area_København SV',\n",
       "       'area_København V', 'area_København Ø', 'area_Nordhavn', 'area_Søborg',\n",
       "       'area_Valby', 'area_Vanløse', 'rest2_Amerikansk', 'rest2_Asiatisk',\n",
       "       'rest2_Bar', 'rest2_Café', 'rest2_Europæisk', 'rest2_Fastfood',\n",
       "       'rest2_Fisk og skaldyr', 'rest2_Fransk', 'rest2_Indisk',\n",
       "       'rest2_International', 'rest2_Italiensk', 'rest2_Japansk',\n",
       "       'rest2_Kinesisk', 'rest2_Latinamerikansk', 'rest2_Mellemøstlig',\n",
       "       'rest2_Middelhavsområdet', 'rest2_Moderne', 'rest2_Skandinavisk',\n",
       "       'rest2_Steakhouse', 'month_02', 'month_03', 'month_04', 'month_05',\n",
       "       'month_06', 'month_07', 'month_08', 'month_09', 'month_10', 'month_11',\n",
       "       'month_12', 'rest_rating_1', 'rest_rating_2', 'rest_rating_3',\n",
       "       'rest_rating_4', 'rest_rating_5', 'rating_cat'],\n",
       "      dtype='object')"
      ]
     },
     "execution_count": 17,
     "metadata": {},
     "output_type": "execute_result"
    }
   ],
   "source": [
    "df.columns"
   ]
  },
  {
   "cell_type": "markdown",
   "metadata": {},
   "source": [
    "**THIS IS DECISION TREE**\n",
    "kilde: https://www.datacamp.com/community/tutorials/decision-tree-classification-python"
   ]
  },
  {
   "cell_type": "code",
   "execution_count": 54,
   "metadata": {},
   "outputs": [],
   "source": [
    "#split dataset in features and target variable\n",
    "#target = y\n",
    "#feature = x\n",
    "target = ['rest_rating_1', 'rest_rating_2', 'rest_rating_3',\n",
    "       'rest_rating_4', 'rest_rating_5']\n",
    "target1 = ['rating_cat']       \n",
    "\n",
    "feature = ['value', 'rest_price_cat', 'rest_no_review', 'rest_rating_aggr',\n",
    "       'area_Frederiksberg', 'area_Frederiksberg C', 'area_Hellerup',\n",
    "       'area_Kastrup', 'area_København K', 'area_København N',\n",
    "       'area_København NV', 'area_København S', 'area_København SV',\n",
    "       'area_København V', 'area_København Ø', 'area_Nordhavn', 'area_Søborg',\n",
    "       'area_Valby', 'area_Vanløse', 'rest2_Amerikansk', 'rest2_Asiatisk',\n",
    "       'rest2_Bar', 'rest2_Café', 'rest2_Europæisk', 'rest2_Fastfood',\n",
    "       'rest2_Fisk og skaldyr', 'rest2_Fransk', 'rest2_Indisk',\n",
    "       'rest2_International', 'rest2_Italiensk', 'rest2_Japansk',\n",
    "       'rest2_Kinesisk', 'rest2_Latinamerikansk', 'rest2_Mellemøstlig',\n",
    "       'rest2_Middelhavsområdet', 'rest2_Moderne', 'rest2_Skandinavisk',\n",
    "       'rest2_Steakhouse', 'month_02', 'month_03', 'month_04', 'month_05',\n",
    "       'month_06', 'month_07', 'month_08', 'month_09', 'month_10', 'month_11',\n",
    "       'month_12']      \n",
    "\n",
    "X = np.array(df[feature]) # Features\n",
    "#y = df[target1] # Target variable\n",
    "y = np.array(df[target1]) # Target variable\n",
    "\n",
    "# Split dataset into training set and test set\n",
    "X_train, X_test, y_train, y_test = train_test_split(X, y, test_size=0.2, random_state=1) # 80% training and 20% test"
   ]
  },
  {
   "cell_type": "code",
   "execution_count": 58,
   "metadata": {
    "tags": []
   },
   "outputs": [
    {
     "name": "stdout",
     "output_type": "stream",
     "text": [
      "Accuracy: 0.41474287533832194\n"
     ]
    }
   ],
   "source": [
    "#BUILD THE DECISION MODEL\n",
    "# Create Decision Tree classifer object\n",
    "clf = DecisionTreeClassifier()\n",
    "#amx_depth=10\n",
    "# Train Decision Tree Classifer\n",
    "clf = clf.fit(X_train,y_train)\n",
    "\n",
    "#Predict the response for test dataset\n",
    "y_pred = clf.predict(X_test)\n",
    "\n",
    "#Model Accuracy, how often is the classifier correct?\n",
    "print(\"Accuracy:\",metrics.accuracy_score(y_test, y_pred))\n",
    "\n",
    "dec_tree_1 = metrics.accuracy_score(y_test, y_pred)\n",
    "\n",
    "#Accuracy: 0.41421217428222684"
   ]
  },
  {
   "cell_type": "code",
   "execution_count": 59,
   "metadata": {},
   "outputs": [
    {
     "data": {
      "text/plain": [
       "array([[ 108,   95,  129,  227,  238],\n",
       "       [  84,  123,  178,  364,  327],\n",
       "       [ 143,  174,  313,  804,  743],\n",
       "       [ 277,  371,  737, 2116, 2453],\n",
       "       [ 303,  359,  685, 2337, 5155]], dtype=int64)"
      ]
     },
     "execution_count": 59,
     "metadata": {},
     "output_type": "execute_result"
    }
   ],
   "source": [
    "cm = confusion_matrix(y_test, y_pred)\n",
    "cm"
   ]
  },
  {
   "cell_type": "code",
   "execution_count": 60,
   "metadata": {},
   "outputs": [
    {
     "data": {
      "text/plain": [
       "<function matplotlib.pyplot.figure(num=None, figsize=None, dpi=None, facecolor=None, edgecolor=None, frameon=True, FigureClass=<class 'matplotlib.figure.Figure'>, clear=False, **kwargs)>"
      ]
     },
     "execution_count": 60,
     "metadata": {},
     "output_type": "execute_result"
    },
    {
     "data": {
      "image/png": "[encoded data removed]",
      "text/plain": [
       "<Figure size 720x504 with 2 Axes>"
      ]
     },
     "metadata": {
      "needs_background": "light"
     },
     "output_type": "display_data"
    }
   ],
   "source": [
    "#the confusion matrix\n",
    "\n",
    "plt.figure(figsize=(10,7))\n",
    "sns.heatmap(cm, annot=True, fmt='.20g')\n",
    "plt.xlabel('Predicted')\n",
    "plt.ylabel('Truth')\n",
    "#plt.savefig('cmtarget1.png')\n",
    "plt.savefig('dec_tree_1.png')\n",
    "plt.figure"
   ]
  },
  {
   "cell_type": "code",
   "execution_count": 61,
   "metadata": {
    "tags": []
   },
   "outputs": [
    {
     "name": "stdout",
     "output_type": "stream",
     "text": [
      "Accuracy: 0.41283235153637954\n"
     ]
    }
   ],
   "source": [
    "#OPTIMIZING\n",
    "# Create Decision Tree classifer object\n",
    "clf = DecisionTreeClassifier(criterion=\"entropy\", max_depth=40)\n",
    "\n",
    "# Train Decision Tree Classifer\n",
    "clf = clf.fit(X_train,y_train)\n",
    "\n",
    "#Predict the response for test dataset\n",
    "y_pred = clf.predict(X_test)\n",
    "\n",
    "# Model Accuracy, how often is the classifier correct?\n",
    "print(\"Accuracy:\",metrics.accuracy_score(y_test, y_pred))\n",
    "\n",
    "dec_tree_2 = metrics.accuracy_score(y_test, y_pred)\n",
    "\n",
    "#max_depth = 50: Accuracy: 0.3337578941782094\n",
    "#max_depth = 40: Accuracy: 0.3338640343894284\n",
    "#max_depth = 10: Accuracy: 0.2516053706946877\n",
    "#NYT: max_depth = 50: Accuracy: \n",
    "#NYT: max_depth = 40: Accuracy: 0.4135753330149127\n",
    "#NYT: max_depth = 10: Accuracy: "
   ]
  },
  {
   "cell_type": "code",
   "execution_count": 62,
   "metadata": {},
   "outputs": [
    {
     "data": {
      "text/plain": [
       "array([[ 120,   92,  118,  231,  236],\n",
       "       [  92,  127,  171,  359,  327],\n",
       "       [ 149,  186,  313,  817,  712],\n",
       "       [ 276,  400,  743, 2085, 2450],\n",
       "       [ 302,  365,  707, 2331, 5134]], dtype=int64)"
      ]
     },
     "execution_count": 62,
     "metadata": {},
     "output_type": "execute_result"
    }
   ],
   "source": [
    "cm2 = confusion_matrix(y_test, y_pred)\n",
    "cm2"
   ]
  },
  {
   "cell_type": "code",
   "execution_count": 63,
   "metadata": {},
   "outputs": [
    {
     "data": {
      "text/plain": [
       "<function matplotlib.pyplot.figure(num=None, figsize=None, dpi=None, facecolor=None, edgecolor=None, frameon=True, FigureClass=<class 'matplotlib.figure.Figure'>, clear=False, **kwargs)>"
      ]
     },
     "execution_count": 63,
     "metadata": {},
     "output_type": "execute_result"
    },
    {
     "data": {
      "image/png": "[encoded data removed]",
      "text/plain": [
       "<Figure size 720x504 with 2 Axes>"
      ]
     },
     "metadata": {
      "needs_background": "light"
     },
     "output_type": "display_data"
    }
   ],
   "source": [
    "#the plot\n",
    "\n",
    "plt.figure(figsize=(10,7))\n",
    "sns.heatmap(cm2, annot=True, fmt='.20g')\n",
    "plt.xlabel('Predicted')\n",
    "plt.ylabel('Truth')\n",
    "#plt.savefig('cmtarget1.png')\n",
    "plt.savefig('dec_tree_2.png')\n",
    "plt.figure"
   ]
  },
  {
   "cell_type": "markdown",
   "metadata": {},
   "source": [
    "**Gridsearch on decisiontree**"
   ]
  },
  {
   "cell_type": "code",
   "execution_count": 64,
   "metadata": {},
   "outputs": [],
   "source": [
    "params_dec={#'n_estimators': [10,30,50,70,90,100],\n",
    "        'criterion' : ('gini','entropy'),\n",
    "        'max_depth': (4,8,12,16,20), \n",
    "        'max_features' : ('auto', 'sqrt'),\n",
    "        'min_samples_split': (2,4,6)\n",
    "        #,'min_samples_leaf': [3,5], 'rf_class_weight': [{0:1, 1:1}, {0: 1, 1:5}, {0: 1, 1:3}, 'balanced']\n",
    "       }"
   ]
  },
  {
   "cell_type": "code",
   "execution_count": 66,
   "metadata": {},
   "outputs": [],
   "source": [
    "dt_gs = GridSearchCV(DecisionTreeClassifier(), param_grid = params_dec, cv = 5, verbose = True)"
   ]
  },
  {
   "cell_type": "code",
   "execution_count": 67,
   "metadata": {},
   "outputs": [
    {
     "name": "stdout",
     "output_type": "stream",
     "text": [
      "Fitting 5 folds for each of 60 candidates, totalling 300 fits\n"
     ]
    },
    {
     "name": "stderr",
     "output_type": "stream",
     "text": [
      "[Parallel(n_jobs=1)]: Using backend SequentialBackend with 1 concurrent workers.\n",
      "[Parallel(n_jobs=1)]: Done 300 out of 300 | elapsed:   31.9s finished\n"
     ]
    }
   ],
   "source": [
    "dec_gs = dt_gs.fit(X_train, y_train.ravel())"
   ]
  },
  {
   "cell_type": "code",
   "execution_count": 68,
   "metadata": {},
   "outputs": [
    {
     "data": {
      "text/plain": [
       "GridSearchCV(cv=5, error_score='raise-deprecating',\n",
       "             estimator=DecisionTreeClassifier(class_weight=None,\n",
       "                                              criterion='gini', max_depth=None,\n",
       "                                              max_features=None,\n",
       "                                              max_leaf_nodes=None,\n",
       "                                              min_impurity_decrease=0.0,\n",
       "                                              min_impurity_split=None,\n",
       "                                              min_samples_leaf=1,\n",
       "                                              min_samples_split=2,\n",
       "                                              min_weight_fraction_leaf=0.0,\n",
       "                                              presort=False, random_state=None,\n",
       "                                              splitter='best'),\n",
       "             iid='warn', n_jobs=None,\n",
       "             param_grid={'criterion': ('gini', 'entropy'),\n",
       "                         'max_depth': (4, 8, 12, 16, 20),\n",
       "                         'max_features': ('auto', 'sqrt'),\n",
       "                         'min_samples_split': (2, 4, 6)},\n",
       "             pre_dispatch='2*n_jobs', refit=True, return_train_score=False,\n",
       "             scoring=None, verbose=True)"
      ]
     },
     "execution_count": 68,
     "metadata": {},
     "output_type": "execute_result"
    }
   ],
   "source": [
    "dec_gs"
   ]
  },
  {
   "cell_type": "code",
   "execution_count": 71,
   "metadata": {},
   "outputs": [
    {
     "data": {
      "text/plain": [
       "DecisionTreeClassifier(class_weight=None, criterion='gini', max_depth=4,\n",
       "                       max_features='auto', max_leaf_nodes=None,\n",
       "                       min_impurity_decrease=0.0, min_impurity_split=None,\n",
       "                       min_samples_leaf=1, min_samples_split=2,\n",
       "                       min_weight_fraction_leaf=0.0, presort=False,\n",
       "                       random_state=None, splitter='best')"
      ]
     },
     "execution_count": 71,
     "metadata": {},
     "output_type": "execute_result"
    }
   ],
   "source": [
    "dec_gs_best = dec_gs.best_estimator_\n",
    "dec_gs_best"
   ]
  },
  {
   "cell_type": "code",
   "execution_count": 72,
   "metadata": {},
   "outputs": [
    {
     "data": {
      "text/plain": [
       "0.48666542829848214"
      ]
     },
     "execution_count": 72,
     "metadata": {},
     "output_type": "execute_result"
    }
   ],
   "source": [
    "dec_gs_best_score = dec_gs.best_score_\n",
    "dec_gs_best_score"
   ]
  },
  {
   "cell_type": "code",
   "execution_count": 73,
   "metadata": {},
   "outputs": [],
   "source": [
    "dec_gs_model = DecisionTreeClassifier(class_weight=None, criterion='gini', max_depth=4,\n",
    "                       max_features='auto', max_leaf_nodes=None,\n",
    "                       min_impurity_decrease=0.0, min_impurity_split=None,\n",
    "                       min_samples_leaf=1, min_samples_split=2,\n",
    "                       min_weight_fraction_leaf=0.0, presort=False,\n",
    "                       random_state=None, splitter='best')"
   ]
  },
  {
   "cell_type": "code",
   "execution_count": 74,
   "metadata": {},
   "outputs": [
    {
     "data": {
      "text/plain": [
       "DecisionTreeClassifier(class_weight=None, criterion='gini', max_depth=4,\n",
       "                       max_features='auto', max_leaf_nodes=None,\n",
       "                       min_impurity_decrease=0.0, min_impurity_split=None,\n",
       "                       min_samples_leaf=1, min_samples_split=2,\n",
       "                       min_weight_fraction_leaf=0.0, presort=False,\n",
       "                       random_state=None, splitter='best')"
      ]
     },
     "execution_count": 74,
     "metadata": {},
     "output_type": "execute_result"
    }
   ],
   "source": [
    "dec_gs_model_fit = dec_gs_model.fit(X_train, y_train.ravel())\n",
    "dec_gs_model_fit"
   ]
  },
  {
   "cell_type": "code",
   "execution_count": 75,
   "metadata": {},
   "outputs": [],
   "source": [
    "y_pred = dec_gs_model.predict(X_test)"
   ]
  },
  {
   "cell_type": "code",
   "execution_count": 76,
   "metadata": {},
   "outputs": [
    {
     "name": "stdout",
     "output_type": "stream",
     "text": [
      "Test : 0.485\n",
      "Train : 0.487\n"
     ]
    }
   ],
   "source": [
    "print(f'Test : {dec_gs_model.score(X_test, y_test):.3f}')\n",
    "print(f'Train : {dec_gs_model.score(X_train, y_train):.3f}')"
   ]
  },
  {
   "cell_type": "code",
   "execution_count": 77,
   "metadata": {},
   "outputs": [
    {
     "data": {
      "text/plain": [
       "array([[   0,    0,    0,  319,  478],\n",
       "       [   0,    0,    0,  391,  685],\n",
       "       [   0,    0,    0,  689, 1488],\n",
       "       [   0,    0,    0, 1137, 4817],\n",
       "       [   0,    0,    0,  844, 7995]], dtype=int64)"
      ]
     },
     "execution_count": 77,
     "metadata": {},
     "output_type": "execute_result"
    }
   ],
   "source": [
    "cm3 = confusion_matrix(y_test, y_pred)\n",
    "cm3"
   ]
  },
  {
   "cell_type": "code",
   "execution_count": 78,
   "metadata": {},
   "outputs": [
    {
     "data": {
      "text/plain": [
       "<function matplotlib.pyplot.figure(num=None, figsize=None, dpi=None, facecolor=None, edgecolor=None, frameon=True, FigureClass=<class 'matplotlib.figure.Figure'>, clear=False, **kwargs)>"
      ]
     },
     "execution_count": 78,
     "metadata": {},
     "output_type": "execute_result"
    },
    {
     "data": {
      "image/png": "[encoded data removed]",
      "text/plain": [
       "<Figure size 720x504 with 2 Axes>"
      ]
     },
     "metadata": {
      "needs_background": "light"
     },
     "output_type": "display_data"
    }
   ],
   "source": [
    "#the plot\n",
    "\n",
    "plt.figure(figsize=(10,7))\n",
    "sns.heatmap(cm3, annot=True, fmt='.20g')\n",
    "plt.xlabel('Predicted')\n",
    "plt.ylabel('Truth')\n",
    "#plt.savefig('cmtarget1.png')\n",
    "plt.savefig('dec_gs_model.png')\n",
    "plt.figure"
   ]
  },
  {
   "cell_type": "markdown",
   "metadata": {},
   "source": [
    "**THIS IS RANDOM FOREST**"
   ]
  },
  {
   "cell_type": "code",
   "execution_count": 84,
   "metadata": {
    "tags": []
   },
   "outputs": [
    {
     "name": "stdout",
     "output_type": "stream",
     "text": [
      "Completed in 0.1 minutes.\n"
     ]
    }
   ],
   "source": [
    "#Import Random Forest Model\n",
    "\n",
    "\n",
    "timer = 0\n",
    "start = time.time()\n",
    "#Create a Gaussian Classifier\n",
    "clf2=RandomForestClassifier(n_estimators=50)\n",
    "\n",
    "#Train the model using the training sets y_pred=clf.predict(X_test)\n",
    "clf2.fit(X_train,y_train.ravel())\n",
    "\n",
    "y2_pred=clf2.predict(X_test)\n",
    "\n",
    "end = time.time()\n",
    "timer = timer + end - start\n",
    "timer_accu = str(round(timer/60, 1))\n",
    "print(\"Completed in \" + timer_accu + \" minutes.\" )"
   ]
  },
  {
   "cell_type": "code",
   "execution_count": 85,
   "metadata": {
    "tags": []
   },
   "outputs": [
    {
     "name": "stdout",
     "output_type": "stream",
     "text": [
      "Accuracy: 0.4428169612057528\n"
     ]
    }
   ],
   "source": [
    "#Import scikit-learn metrics module for accuracy calculation\n",
    "\n",
    "# Model Accuracy, how often is the classifier correct?\n",
    "print(\"Accuracy:\", metrics.accuracy_score(y_test, y2_pred))\n",
    "\n",
    "rf_1 = metrics.accuracy_score(y_test, y2_pred)\n",
    "\n",
    "#n_estimator = 100: Accuracy: 0.44929151409011303\n",
    "#n_estimator = 500: Accuracy: 0.44987528525181764\n",
    "#n_estimator = 50: Accuracy: 0.44939765430133205"
   ]
  },
  {
   "cell_type": "code",
   "execution_count": 87,
   "metadata": {},
   "outputs": [
    {
     "data": {
      "text/plain": [
       "<function matplotlib.pyplot.figure(num=None, figsize=None, dpi=None, facecolor=None, edgecolor=None, frameon=True, FigureClass=<class 'matplotlib.figure.Figure'>, clear=False, **kwargs)>"
      ]
     },
     "execution_count": 87,
     "metadata": {},
     "output_type": "execute_result"
    },
    {
     "data": {
      "image/png": "[encoded data removed]",
      "text/plain": [
       "<Figure size 720x504 with 2 Axes>"
      ]
     },
     "metadata": {
      "needs_background": "light"
     },
     "output_type": "display_data"
    }
   ],
   "source": [
    "# Conf matrix\n",
    "\n",
    "cm3 = confusion_matrix(y_test, y2_pred)\n",
    "plt.figure(figsize=(10,7))\n",
    "sns.heatmap(cm3, annot=True, fmt='.20g')\n",
    "plt.xlabel('Predicted')\n",
    "plt.ylabel('Truth')\n",
    "#plt.savefig('cmtarget1.png')\n",
    "plt.savefig('rf_model1.png')\n",
    "plt.figure"
   ]
  },
  {
   "cell_type": "markdown",
   "metadata": {},
   "source": [
    "#PRØVER NY METODE"
   ]
  },
  {
   "cell_type": "code",
   "execution_count": 88,
   "metadata": {},
   "outputs": [
    {
     "name": "stdout",
     "output_type": "stream",
     "text": [
      "Completed in 0.1 minutes.\n"
     ]
    }
   ],
   "source": [
    "# Manual optimize of parameters.\n",
    "\n",
    "\n",
    "timer = 0\n",
    "start = time.time()\n",
    "#Create a Gaussian Classifier\n",
    "clf2=RandomForestClassifier(n_estimators=50, max_depth = 10, criterion = 'gini')\n",
    "\n",
    "#Train the model using the training sets y_pred=clf.predict(X_test)\n",
    "clf2.fit(X_train,y_train.ravel())\n",
    "\n",
    "y2_pred=clf2.predict(X_test)\n",
    "\n",
    "end = time.time()\n",
    "timer = timer + end - start\n",
    "timer_accu = str(round(timer/60, 1))\n",
    "print(\"Completed in \" + timer_accu + \" minutes.\" )"
   ]
  },
  {
   "cell_type": "code",
   "execution_count": 89,
   "metadata": {},
   "outputs": [
    {
     "name": "stdout",
     "output_type": "stream",
     "text": [
      "Accuracy: 0.4902085655150454\n"
     ]
    }
   ],
   "source": [
    "#Import scikit-learn metrics module for accuracy calculation\n",
    "\n",
    "# Model Accuracy, how often is the classifier correct?\n",
    "print(\"Accuracy:\", metrics.accuracy_score(y_test, y2_pred))\n",
    "\n",
    "rf_2 = metrics.accuracy_score(y_test, y2_pred)\n",
    "\n",
    "#n_estimator = 100: Accuracy: 0.44929151409011303\n",
    "#n_estimator = 500: Accuracy: 0.44987528525181764\n",
    "#n_estimator = 50: Accuracy: 0.44939765430133205"
   ]
  },
  {
   "cell_type": "code",
   "execution_count": 90,
   "metadata": {},
   "outputs": [
    {
     "data": {
      "text/plain": [
       "<function matplotlib.pyplot.figure(num=None, figsize=None, dpi=None, facecolor=None, edgecolor=None, frameon=True, FigureClass=<class 'matplotlib.figure.Figure'>, clear=False, **kwargs)>"
      ]
     },
     "execution_count": 90,
     "metadata": {},
     "output_type": "execute_result"
    },
    {
     "data": {
      "image/png": "[encoded data removed]",
      "text/plain": [
       "<Figure size 720x504 with 2 Axes>"
      ]
     },
     "metadata": {
      "needs_background": "light"
     },
     "output_type": "display_data"
    }
   ],
   "source": [
    "# Conf matrix\n",
    "\n",
    "cm3 = confusion_matrix(y_test, y2_pred)\n",
    "plt.figure(figsize=(10,7))\n",
    "sns.heatmap(cm3, annot=True, fmt='.20g')\n",
    "plt.xlabel('Predicted')\n",
    "plt.ylabel('Truth')\n",
    "#plt.savefig('cmtarget1.png')\n",
    "plt.savefig('rf_model2.png')\n",
    "plt.figure"
   ]
  },
  {
   "cell_type": "markdown",
   "metadata": {},
   "source": [
    "**Gridsearch time!!!**"
   ]
  },
  {
   "cell_type": "code",
   "execution_count": 91,
   "metadata": {},
   "outputs": [],
   "source": [
    "params_rf={'n_estimators': [10,30,50,70,90,100],\n",
    "        'criterion' : ('gini','entropy'),\n",
    "        'max_depth': (4,8,12,16,20), \n",
    "        'max_features' : ('auto', 'sqrt'),\n",
    "        'min_samples_split': (2,4,6)\n",
    "        #,'min_samples_leaf': [3,5], 'rf_class_weight': [{0:1, 1:1}, {0: 1, 1:5}, {0: 1, 1:3}, 'balanced']\n",
    "       }"
   ]
  },
  {
   "cell_type": "code",
   "execution_count": 92,
   "metadata": {},
   "outputs": [],
   "source": [
    "RF_gs = GridSearchCV(RandomForestClassifier(n_jobs = -1, oob_score = False), param_grid = params_rf, cv = 5, verbose = True)"
   ]
  },
  {
   "cell_type": "code",
   "execution_count": 93,
   "metadata": {},
   "outputs": [
    {
     "name": "stdout",
     "output_type": "stream",
     "text": [
      "Fitting 5 folds for each of 360 candidates, totalling 1800 fits\n"
     ]
    },
    {
     "name": "stderr",
     "output_type": "stream",
     "text": [
      "[Parallel(n_jobs=1)]: Using backend SequentialBackend with 1 concurrent workers.\n",
      "[Parallel(n_jobs=1)]: Done 1800 out of 1800 | elapsed: 43.3min finished\n"
     ]
    }
   ],
   "source": [
    "RF_gs_fit = RF_gs.fit(X_train, y_train.ravel())"
   ]
  },
  {
   "cell_type": "code",
   "execution_count": 94,
   "metadata": {},
   "outputs": [
    {
     "data": {
      "text/plain": [
       "GridSearchCV(cv=5, error_score='raise-deprecating',\n",
       "             estimator=RandomForestClassifier(bootstrap=True, class_weight=None,\n",
       "                                              criterion='gini', max_depth=None,\n",
       "                                              max_features='auto',\n",
       "                                              max_leaf_nodes=None,\n",
       "                                              min_impurity_decrease=0.0,\n",
       "                                              min_impurity_split=None,\n",
       "                                              min_samples_leaf=1,\n",
       "                                              min_samples_split=2,\n",
       "                                              min_weight_fraction_leaf=0.0,\n",
       "                                              n_estimators='warn', n_jobs=-1,\n",
       "                                              oob_score=False,\n",
       "                                              random_state=None, verbose=0,\n",
       "                                              warm_start=False),\n",
       "             iid='warn', n_jobs=None,\n",
       "             param_grid={'criterion': ('gini', 'entropy'),\n",
       "                         'max_depth': (4, 8, 12, 16, 20),\n",
       "                         'max_features': ('auto', 'sqrt'),\n",
       "                         'min_samples_split': (2, 4, 6),\n",
       "                         'n_estimators': [10, 30, 50, 70, 90, 100]},\n",
       "             pre_dispatch='2*n_jobs', refit=True, return_train_score=False,\n",
       "             scoring=None, verbose=True)"
      ]
     },
     "execution_count": 94,
     "metadata": {},
     "output_type": "execute_result"
    }
   ],
   "source": [
    "RF_gs_fit"
   ]
  },
  {
   "cell_type": "code",
   "execution_count": 95,
   "metadata": {},
   "outputs": [
    {
     "data": {
      "text/plain": [
       "RandomForestClassifier(bootstrap=True, class_weight=None, criterion='gini',\n",
       "                       max_depth=12, max_features='sqrt', max_leaf_nodes=None,\n",
       "                       min_impurity_decrease=0.0, min_impurity_split=None,\n",
       "                       min_samples_leaf=1, min_samples_split=4,\n",
       "                       min_weight_fraction_leaf=0.0, n_estimators=90, n_jobs=-1,\n",
       "                       oob_score=False, random_state=None, verbose=0,\n",
       "                       warm_start=False)"
      ]
     },
     "execution_count": 95,
     "metadata": {},
     "output_type": "execute_result"
    }
   ],
   "source": [
    "RF_gs_best = RF_gs_fit.best_estimator_\n",
    "RF_gs_best"
   ]
  },
  {
   "cell_type": "code",
   "execution_count": 96,
   "metadata": {},
   "outputs": [
    {
     "data": {
      "text/plain": [
       "0.4939098821781127"
      ]
     },
     "execution_count": 96,
     "metadata": {},
     "output_type": "execute_result"
    }
   ],
   "source": [
    "RF_gs_fit.best_score_"
   ]
  },
  {
   "cell_type": "code",
   "execution_count": 97,
   "metadata": {},
   "outputs": [],
   "source": [
    "RF_Model = RandomForestClassifier(bootstrap=True, class_weight=None, criterion='gini',\n",
    "                       max_depth=12, max_features='sqrt', max_leaf_nodes=None,\n",
    "                       min_impurity_decrease=0.0, min_impurity_split=None,\n",
    "                       min_samples_leaf=1, min_samples_split=4,\n",
    "                       min_weight_fraction_leaf=0.0, n_estimators=90, n_jobs=-1,\n",
    "                       oob_score=False, random_state=None, verbose=0,\n",
    "                       warm_start=False)"
   ]
  },
  {
   "cell_type": "code",
   "execution_count": 98,
   "metadata": {},
   "outputs": [],
   "source": [
    "RF_Model_fit = RF_Model.fit(X_train, y_train.ravel())"
   ]
  },
  {
   "cell_type": "code",
   "execution_count": 100,
   "metadata": {},
   "outputs": [],
   "source": [
    "y_pred_RF = RF_Model.predict(X_test)"
   ]
  },
  {
   "cell_type": "code",
   "execution_count": 101,
   "metadata": {},
   "outputs": [
    {
     "name": "stdout",
     "output_type": "stream",
     "text": [
      "Test : 0.493\n",
      "Train : 0.522\n"
     ]
    }
   ],
   "source": [
    "print(f'Test : {RF_Model.score(X_test, y_test):.3f}')\n",
    "print(f'Train : {RF_Model.score(X_train, y_train):.3f}')"
   ]
  },
  {
   "cell_type": "code",
   "execution_count": 102,
   "metadata": {},
   "outputs": [
    {
     "data": {
      "text/plain": [
       "array([[   1,    1,    0,  387,  408],\n",
       "       [   0,    0,    0,  479,  597],\n",
       "       [   0,    0,    2,  938, 1237],\n",
       "       [   0,    0,    0, 1857, 4097],\n",
       "       [   0,    0,    0, 1406, 7433]], dtype=int64)"
      ]
     },
     "execution_count": 102,
     "metadata": {},
     "output_type": "execute_result"
    }
   ],
   "source": [
    "cm4 = confusion_matrix(y_test, y_pred_RF)\n",
    "cm4"
   ]
  },
  {
   "cell_type": "code",
   "execution_count": 103,
   "metadata": {},
   "outputs": [
    {
     "data": {
      "text/plain": [
       "<function matplotlib.pyplot.figure(num=None, figsize=None, dpi=None, facecolor=None, edgecolor=None, frameon=True, FigureClass=<class 'matplotlib.figure.Figure'>, clear=False, **kwargs)>"
      ]
     },
     "execution_count": 103,
     "metadata": {},
     "output_type": "execute_result"
    },
    {
     "data": {
      "image/png": "[encoded data removed]",
      "text/plain": [
       "<Figure size 720x504 with 2 Axes>"
      ]
     },
     "metadata": {
      "needs_background": "light"
     },
     "output_type": "display_data"
    }
   ],
   "source": [
    "#the plot\n",
    "\n",
    "plt.figure(figsize=(10,7))\n",
    "sns.heatmap(cm4, annot=True, fmt='.20g')\n",
    "plt.xlabel('Predicted')\n",
    "plt.ylabel('Truth')\n",
    "#plt.savefig('cmtarget1.png')\n",
    "plt.savefig('RF_Model.png')\n",
    "plt.figure"
   ]
  },
  {
   "cell_type": "code",
   "execution_count": 105,
   "metadata": {},
   "outputs": [],
   "source": [
    "from sklearn.tree import export_graphviz"
   ]
  },
  {
   "cell_type": "code",
   "execution_count": 135,
   "metadata": {},
   "outputs": [],
   "source": [
    "estimator = RF_Model_fit[5]\n",
    "\n",
    "export_graphviz(estimator, out_file='tree.dot', \n",
    "                #feature_names = feature,\n",
    "                max_depth = 2,\n",
    "                #class_names = target1,\n",
    "                rounded = True, proportion = False, \n",
    "                precision = 2, filled = True)"
   ]
  },
  {
   "cell_type": "code",
   "execution_count": 142,
   "metadata": {},
   "outputs": [
    {
     "name": "stdout",
     "output_type": "stream",
     "text": [
      "area_Kastrup\n",
      "area_København V rest2_Fastfood\n",
      "rest_price_cat rest2_Europæisk value month_08\n"
     ]
    }
   ],
   "source": [
    "print(feature[7])\n",
    "print(feature[13], feature[24])\n",
    "print(feature[1], feature[23], feature[0], feature[44])"
   ]
  }
 ],
 "metadata": {
  "kernelspec": {
   "display_name": "Python 3",
   "language": "python",
   "name": "python3"
  },
  "language_info": {
   "codemirror_mode": {
    "name": "ipython",
    "version": 3
   },
   "file_extension": ".py",
   "mimetype": "text/x-python",
   "name": "python",
   "nbconvert_exporter": "python",
   "pygments_lexer": "ipython3",
   "version": "3.7.4"
  }
 },
 "nbformat": 4,
 "nbformat_minor": 4
}

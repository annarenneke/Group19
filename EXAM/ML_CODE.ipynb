{
 "cells": [
  {
   "cell_type": "code",
   "execution_count": 3,
   "metadata": {},
   "outputs": [],
   "source": [
    "#import packages\n",
    "import csv\n",
    "import pandas as pd"
   ]
  },
  {
   "cell_type": "code",
   "execution_count": 9,
   "metadata": {},
   "outputs": [
    {
     "output_type": "execute_result",
     "data": {
      "text/plain": "      value  rest_price_cat  rest_no_review  rest_rating_aggr  rest_rating_2  \\\n0  7.143611             2.5            48.0               4.5              0   \n1  2.414839             2.5            48.0               4.5              0   \n2  2.414839             2.5            48.0               4.5              0   \n3  4.801204             2.5            48.0               4.5              0   \n4  4.892359             2.5            48.0               4.5              0   \n\n   rest_rating_3  rest_rating_4  rest_rating_5  area_Frederiksberg  \\\n0              0              0              1                   0   \n1              0              1              0                   0   \n2              0              1              0                   0   \n3              0              0              1                   0   \n4              0              0              1                   0   \n\n   area_Frederiksberg C  ...  rest2_International  rest2_Italiensk  \\\n0                     0  ...                    0                0   \n1                     0  ...                    0                0   \n2                     0  ...                    0                0   \n3                     0  ...                    0                0   \n4                     0  ...                    0                0   \n\n   rest2_Japansk  rest2_Kinesisk  rest2_Latinamerikansk  rest2_Mellemøstlig  \\\n0              0               0                      0                   0   \n1              0               0                      0                   0   \n2              0               0                      0                   0   \n3              0               0                      0                   0   \n4              0               0                      0                   0   \n\n   rest2_Middelhavsområdet  rest2_Moderne  rest2_Skandinavisk  \\\n0                        0              0                   0   \n1                        0              0                   0   \n2                        0              0                   0   \n3                        0              0                   0   \n4                        0              0                   0   \n\n   rest2_Steakhouse  \n0                 0  \n1                 0  \n2                 0  \n3                 0  \n4                 0  \n\n[5 rows x 42 columns]",
      "text/html": "<div>\n<style scoped>\n    .dataframe tbody tr th:only-of-type {\n        vertical-align: middle;\n    }\n\n    .dataframe tbody tr th {\n        vertical-align: top;\n    }\n\n    .dataframe thead th {\n        text-align: right;\n    }\n</style>\n<table border=\"1\" class=\"dataframe\">\n  <thead>\n    <tr style=\"text-align: right;\">\n      <th></th>\n      <th>value</th>\n      <th>rest_price_cat</th>\n      <th>rest_no_review</th>\n      <th>rest_rating_aggr</th>\n      <th>rest_rating_2</th>\n      <th>rest_rating_3</th>\n      <th>rest_rating_4</th>\n      <th>rest_rating_5</th>\n      <th>area_Frederiksberg</th>\n      <th>area_Frederiksberg C</th>\n      <th>...</th>\n      <th>rest2_International</th>\n      <th>rest2_Italiensk</th>\n      <th>rest2_Japansk</th>\n      <th>rest2_Kinesisk</th>\n      <th>rest2_Latinamerikansk</th>\n      <th>rest2_Mellemøstlig</th>\n      <th>rest2_Middelhavsområdet</th>\n      <th>rest2_Moderne</th>\n      <th>rest2_Skandinavisk</th>\n      <th>rest2_Steakhouse</th>\n    </tr>\n  </thead>\n  <tbody>\n    <tr>\n      <th>0</th>\n      <td>7.143611</td>\n      <td>2.5</td>\n      <td>48.0</td>\n      <td>4.5</td>\n      <td>0</td>\n      <td>0</td>\n      <td>0</td>\n      <td>1</td>\n      <td>0</td>\n      <td>0</td>\n      <td>...</td>\n      <td>0</td>\n      <td>0</td>\n      <td>0</td>\n      <td>0</td>\n      <td>0</td>\n      <td>0</td>\n      <td>0</td>\n      <td>0</td>\n      <td>0</td>\n      <td>0</td>\n    </tr>\n    <tr>\n      <th>1</th>\n      <td>2.414839</td>\n      <td>2.5</td>\n      <td>48.0</td>\n      <td>4.5</td>\n      <td>0</td>\n      <td>0</td>\n      <td>1</td>\n      <td>0</td>\n      <td>0</td>\n      <td>0</td>\n      <td>...</td>\n      <td>0</td>\n      <td>0</td>\n      <td>0</td>\n      <td>0</td>\n      <td>0</td>\n      <td>0</td>\n      <td>0</td>\n      <td>0</td>\n      <td>0</td>\n      <td>0</td>\n    </tr>\n    <tr>\n      <th>2</th>\n      <td>2.414839</td>\n      <td>2.5</td>\n      <td>48.0</td>\n      <td>4.5</td>\n      <td>0</td>\n      <td>0</td>\n      <td>1</td>\n      <td>0</td>\n      <td>0</td>\n      <td>0</td>\n      <td>...</td>\n      <td>0</td>\n      <td>0</td>\n      <td>0</td>\n      <td>0</td>\n      <td>0</td>\n      <td>0</td>\n      <td>0</td>\n      <td>0</td>\n      <td>0</td>\n      <td>0</td>\n    </tr>\n    <tr>\n      <th>3</th>\n      <td>4.801204</td>\n      <td>2.5</td>\n      <td>48.0</td>\n      <td>4.5</td>\n      <td>0</td>\n      <td>0</td>\n      <td>0</td>\n      <td>1</td>\n      <td>0</td>\n      <td>0</td>\n      <td>...</td>\n      <td>0</td>\n      <td>0</td>\n      <td>0</td>\n      <td>0</td>\n      <td>0</td>\n      <td>0</td>\n      <td>0</td>\n      <td>0</td>\n      <td>0</td>\n      <td>0</td>\n    </tr>\n    <tr>\n      <th>4</th>\n      <td>4.892359</td>\n      <td>2.5</td>\n      <td>48.0</td>\n      <td>4.5</td>\n      <td>0</td>\n      <td>0</td>\n      <td>0</td>\n      <td>1</td>\n      <td>0</td>\n      <td>0</td>\n      <td>...</td>\n      <td>0</td>\n      <td>0</td>\n      <td>0</td>\n      <td>0</td>\n      <td>0</td>\n      <td>0</td>\n      <td>0</td>\n      <td>0</td>\n      <td>0</td>\n      <td>0</td>\n    </tr>\n  </tbody>\n</table>\n<p>5 rows × 42 columns</p>\n</div>"
     },
     "metadata": {},
     "execution_count": 9
    }
   ],
   "source": [
    "#import data\n",
    "df = pd.read_csv(r'ML_DATA.csv' , sep = ',')\n",
    "\n",
    "df = df.iloc[:,1:]\n",
    "\n",
    "df.head()\n",
    "\n"
   ]
  },
  {
   "cell_type": "code",
   "execution_count": 8,
   "metadata": {},
   "outputs": [
    {
     "output_type": "execute_result",
     "data": {
      "text/plain": "Index(['value', 'rest_price_cat', 'rest_no_review', 'rest_rating_aggr',\n       'rest_rating_2', 'rest_rating_3', 'rest_rating_4', 'rest_rating_5',\n       'area_Frederiksberg', 'area_Frederiksberg C', 'area_Hellerup',\n       'area_Kastrup', 'area_København K', 'area_København N',\n       'area_København NV', 'area_København S', 'area_København SV',\n       'area_København V', 'area_København Ø', 'area_Nordhavn', 'area_Søborg',\n       'area_Valby', 'area_Vanløse', 'rest2_Amerikansk', 'rest2_Asiatisk',\n       'rest2_Bar', 'rest2_Café', 'rest2_Europæisk', 'rest2_Fastfood',\n       'rest2_Fisk og skaldyr', 'rest2_Fransk', 'rest2_Indisk',\n       'rest2_International', 'rest2_Italiensk', 'rest2_Japansk',\n       'rest2_Kinesisk', 'rest2_Latinamerikansk', 'rest2_Mellemøstlig',\n       'rest2_Middelhavsområdet', 'rest2_Moderne', 'rest2_Skandinavisk',\n       'rest2_Steakhouse'],\n      dtype='object')"
     },
     "metadata": {},
     "execution_count": 8
    }
   ],
   "source": [
    "df.columns"
   ]
  },
  {
   "cell_type": "code",
   "execution_count": null,
   "metadata": {},
   "outputs": [],
   "source": []
  }
 ],
 "metadata": {
  "kernelspec": {
   "display_name": "Python 3",
   "language": "python",
   "name": "python3"
  },
  "language_info": {
   "codemirror_mode": {
    "name": "ipython",
    "version": 3
   },
   "file_extension": ".py",
   "mimetype": "text/x-python",
   "name": "python",
   "nbconvert_exporter": "python",
   "pygments_lexer": "ipython3",
   "version": "3.7.6-final"
  }
 },
 "nbformat": 4,
 "nbformat_minor": 4
}
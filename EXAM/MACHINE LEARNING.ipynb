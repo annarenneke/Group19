{
 "cells": [
  {
   "cell_type": "markdown",
   "metadata": {},
   "source": [
    "# Code for Machine Learning"
   ]
  },
  {
   "cell_type": "markdown",
   "metadata": {},
   "source": [
    "**BEFORE ML:**\n",
    "\n",
    "**Step A: What problem?**\n",
    "    What kind of problem am I working on?\n",
    "    My target is:\n",
    "        - Contineous:\n",
    "            - We want to use a regression model\n",
    "            - We aim for a model with least MSe\n",
    "        - Categorical/finite integers:\n",
    "            - Classification model\n",
    "            - Highest accuracy (ACC)\n",
    "            \n",
    "**Step B: Which model?**\n",
    "    If regression:\n",
    "        - a linear model (OLS, Lasso, Ridge, Elastic net)\n",
    "      If classification:\n",
    "        - Logistic Regression (w/ or w/o regularization)\n",
    "\n",
    "**Step C:**\n",
    "    What hyperparameters exist for the model I have chosen?\n",
    "    - Ridge/Lasso: \\lambda\n",
    "    - Elastic net: \\lambda_1, \\lambda_2\n",
    "    - Logistic regression with L1 + L2\n",
    " \n",
    "         "
   ]
  },
  {
   "cell_type": "markdown",
   "metadata": {},
   "source": [
    "**ML STEPS:**\n",
    "\n",
    "Step 1: Data split\n",
    "Split into test and development (train) data\n",
    "    - A normal split is 30% for test and 70% for train if you have X observations\n",
    "    - If you have more than 10.000 observations then use 20% for test, and 80% for train\n",
    "\n",
    "Polynomial transformation of features:\n",
    "    - It is optimal only for linear and logistic models\n",
    "\n",
    "Step 2: Model pipeline:\n",
    "    - Construct a model building pipeline\n",
    "    Preprocessing phase:\n",
    "    - polynomial expansion, variable scaling\n",
    "    Supervised model (classification or regression)\n",
    "    \n",
    "    \n",
    "    Good to use pipeline: make sure that we dont have dataleakage - meaning that you mix test and training data\n",
    "\n",
    "Step 3: Model selection\n",
    "- Main idea\n",
    "    - we want to select the optimal model\n",
    "    - we measure model performance with out-of-sample prediction on validation data\n",
    "  \n",
    "  Implementation:\n",
    "  - Pick the model which performed the best on the validation data during cross validation\n",
    "  - Cross validayion gives the best model performance\n",
    "  - e.g. use gridsearcg for more than 2 hyperparameters\n",
    "  \n",
    "Cross validation:\n",
    "    "
   ]
  },
  {
   "cell_type": "markdown",
   "metadata": {},
   "source": [
    "**Import packages**"
   ]
  },
  {
   "cell_type": "code",
   "execution_count": null,
   "metadata": {},
   "outputs": [],
   "source": []
  },
  {
   "cell_type": "markdown",
   "metadata": {},
   "source": [
    "**Import data**"
   ]
  },
  {
   "cell_type": "code",
   "execution_count": null,
   "metadata": {},
   "outputs": [],
   "source": []
  }
 ],
 "metadata": {
  "kernelspec": {
   "display_name": "Python 3",
   "language": "python",
   "name": "python3"
  },
  "language_info": {
   "codemirror_mode": {
    "name": "ipython",
    "version": 3
   },
   "file_extension": ".py",
   "mimetype": "text/x-python",
   "name": "python",
   "nbconvert_exporter": "python",
   "pygments_lexer": "ipython3",
   "version": "3.7.6"
  }
 },
 "nbformat": 4,
 "nbformat_minor": 4
}
